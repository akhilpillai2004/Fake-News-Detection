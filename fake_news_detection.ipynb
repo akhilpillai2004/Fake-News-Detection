{
  "cells": [
    {
      "cell_type": "markdown",
      "id": "216a3665",
      "metadata": {
        "id": "216a3665"
      },
      "source": [
        "# Fake News Detection"
      ]
    },
    {
      "cell_type": "markdown",
      "id": "e88a48c7",
      "metadata": {
        "id": "e88a48c7"
      },
      "source": [
        "## Section 1: Importing the dependencies"
      ]
    },
    {
      "cell_type": "code",
      "execution_count": 1,
      "id": "d46f5ad8",
      "metadata": {
        "id": "d46f5ad8"
      },
      "outputs": [],
      "source": [
        "import numpy as np\n",
        "import pandas as pd\n",
        "import re\n",
        "import nltk\n",
        "from nltk.corpus import stopwords\n",
        "from nltk.stem.porter import PorterStemmer\n",
        "from sklearn.utils import shuffle\n",
        "from sklearn.feature_extraction.text import TfidfVectorizer\n",
        "from sklearn.model_selection import train_test_split\n",
        "from sklearn.linear_model import LogisticRegression\n",
        "from sklearn.metrics import accuracy_score, classification_report, confusion_matrix, roc_auc_score\n",
        "from transformers import AutoTokenizer, AutoModelForSequenceClassification\n",
        "from transformers import pipeline\n",
        "import torch\n",
        "from tqdm import tqdm"
      ]
    },
    {
      "cell_type": "markdown",
      "id": "457f2c6b",
      "metadata": {
        "id": "457f2c6b"
      },
      "source": [
        "### Section 1.1: NLTK Setup"
      ]
    },
    {
      "cell_type": "code",
      "execution_count": 2,
      "id": "07441de7",
      "metadata": {
        "colab": {
          "base_uri": "https://localhost:8080/"
        },
        "id": "07441de7",
        "outputId": "b04b601c-5704-4072-f3c6-dfac75152c25"
      },
      "outputs": [
        {
          "output_type": "stream",
          "name": "stderr",
          "text": [
            "[nltk_data] Downloading package stopwords to /root/nltk_data...\n",
            "[nltk_data]   Unzipping corpora/stopwords.zip.\n"
          ]
        }
      ],
      "source": [
        "try:\n",
        "    nltk.data.find('corpora/stopwords')\n",
        "except LookupError:\n",
        "    nltk.download('stopwords')"
      ]
    },
    {
      "cell_type": "markdown",
      "id": "fa619bbc",
      "metadata": {
        "id": "fa619bbc"
      },
      "source": [
        "### Section 1.2: Stopwords Preview"
      ]
    },
    {
      "cell_type": "code",
      "execution_count": 3,
      "id": "4bd35922",
      "metadata": {
        "colab": {
          "base_uri": "https://localhost:8080/"
        },
        "id": "4bd35922",
        "outputId": "c607df28-1080-4ab1-96d9-2467b5973efa"
      },
      "outputs": [
        {
          "output_type": "stream",
          "name": "stdout",
          "text": [
            "['a', 'about', 'above', 'after', 'again', 'against', 'ain', 'all', 'am', 'an', 'and', 'any', 'are', 'aren', \"aren't\", 'as', 'at', 'be', 'because', 'been', 'before', 'being', 'below', 'between', 'both', 'but', 'by', 'can', 'couldn', \"couldn't\", 'd', 'did', 'didn', \"didn't\", 'do', 'does', 'doesn', \"doesn't\", 'doing', 'don', \"don't\", 'down', 'during', 'each', 'few', 'for', 'from', 'further', 'had', 'hadn', \"hadn't\", 'has', 'hasn', \"hasn't\", 'have', 'haven', \"haven't\", 'having', 'he', \"he'd\", \"he'll\", 'her', 'here', 'hers', 'herself', \"he's\", 'him', 'himself', 'his', 'how', 'i', \"i'd\", 'if', \"i'll\", \"i'm\", 'in', 'into', 'is', 'isn', \"isn't\", 'it', \"it'd\", \"it'll\", \"it's\", 'its', 'itself', \"i've\", 'just', 'll', 'm', 'ma', 'me', 'mightn', \"mightn't\", 'more', 'most', 'mustn', \"mustn't\", 'my', 'myself', 'needn', \"needn't\", 'no', 'nor', 'not', 'now', 'o', 'of', 'off', 'on', 'once', 'only', 'or', 'other', 'our', 'ours', 'ourselves', 'out', 'over', 'own', 're', 's', 'same', 'shan', \"shan't\", 'she', \"she'd\", \"she'll\", \"she's\", 'should', 'shouldn', \"shouldn't\", \"should've\", 'so', 'some', 'such', 't', 'than', 'that', \"that'll\", 'the', 'their', 'theirs', 'them', 'themselves', 'then', 'there', 'these', 'they', \"they'd\", \"they'll\", \"they're\", \"they've\", 'this', 'those', 'through', 'to', 'too', 'under', 'until', 'up', 've', 'very', 'was', 'wasn', \"wasn't\", 'we', \"we'd\", \"we'll\", \"we're\", 'were', 'weren', \"weren't\", \"we've\", 'what', 'when', 'where', 'which', 'while', 'who', 'whom', 'why', 'will', 'with', 'won', \"won't\", 'wouldn', \"wouldn't\", 'y', 'you', \"you'd\", \"you'll\", 'your', \"you're\", 'yours', 'yourself', 'yourselves', \"you've\"]\n"
          ]
        }
      ],
      "source": [
        "print(stopwords.words('english'))"
      ]
    },
    {
      "cell_type": "markdown",
      "id": "58f69a47",
      "metadata": {
        "id": "58f69a47"
      },
      "source": [
        "## Section 2: Data Loading and Merging"
      ]
    },
    {
      "cell_type": "code",
      "execution_count": 4,
      "id": "301ae8dc",
      "metadata": {
        "id": "301ae8dc"
      },
      "outputs": [],
      "source": [
        "# Load both CSVs\n",
        "true_news = pd.read_csv('True.csv')\n",
        "fake_news = pd.read_csv('Fake.csv')"
      ]
    },
    {
      "cell_type": "code",
      "execution_count": 5,
      "id": "68e7d15b",
      "metadata": {
        "id": "68e7d15b"
      },
      "outputs": [],
      "source": [
        "# Add label column\n",
        "true_news['label'] = 1\n",
        "fake_news['label'] = 0"
      ]
    },
    {
      "cell_type": "code",
      "execution_count": 6,
      "id": "8b34f330",
      "metadata": {
        "id": "8b34f330"
      },
      "outputs": [],
      "source": [
        "# Combine the datasets\n",
        "news_dataset = pd.concat([true_news, fake_news], axis=0)"
      ]
    },
    {
      "cell_type": "code",
      "execution_count": 7,
      "id": "49260fe5",
      "metadata": {
        "id": "49260fe5"
      },
      "outputs": [],
      "source": [
        "# Shuffle the dataset\n",
        "news_dataset = shuffle(news_dataset, random_state=42).reset_index(drop=True)"
      ]
    },
    {
      "cell_type": "markdown",
      "id": "1efba32d",
      "metadata": {
        "id": "1efba32d"
      },
      "source": [
        "## Section 3: Column Cleanup and Preprocessing"
      ]
    },
    {
      "cell_type": "code",
      "execution_count": 8,
      "id": "13dde97d",
      "metadata": {
        "id": "13dde97d"
      },
      "outputs": [],
      "source": [
        "# Add dummy id column\n",
        "news_dataset['id'] = range(1, len(news_dataset)+1)"
      ]
    },
    {
      "cell_type": "code",
      "execution_count": 9,
      "id": "ad75d467",
      "metadata": {
        "id": "ad75d467"
      },
      "outputs": [],
      "source": [
        "# Select required columns\n",
        "news_dataset = news_dataset[['id', 'title', 'text', 'label']]"
      ]
    },
    {
      "cell_type": "code",
      "execution_count": 10,
      "id": "b97e3428",
      "metadata": {
        "id": "b97e3428"
      },
      "outputs": [],
      "source": [
        "# Drop rows with missing label (just in case)\n",
        "news_dataset = news_dataset.dropna(subset=['label'])"
      ]
    },
    {
      "cell_type": "code",
      "execution_count": 11,
      "id": "701ab7c5",
      "metadata": {
        "id": "701ab7c5"
      },
      "outputs": [],
      "source": [
        "# Fill missing values in text columns\n",
        "news_dataset['title'] = news_dataset['title'].fillna('')\n",
        "news_dataset['text'] = news_dataset['text'].fillna('')"
      ]
    },
    {
      "cell_type": "code",
      "execution_count": 12,
      "id": "e2383f42",
      "metadata": {
        "id": "e2383f42"
      },
      "outputs": [],
      "source": [
        "# Create 'content' column\n",
        "news_dataset['content'] = news_dataset['title'].astype(str) + ' ' + news_dataset['text'].astype(str)"
      ]
    },
    {
      "cell_type": "code",
      "execution_count": 13,
      "id": "631851e1",
      "metadata": {
        "id": "631851e1"
      },
      "outputs": [],
      "source": [
        "news_dataset['raw_content'] = news_dataset['content']"
      ]
    },
    {
      "cell_type": "markdown",
      "id": "6296ca08",
      "metadata": {
        "id": "6296ca08"
      },
      "source": [
        "## Section 4: Final Feature and Label Split"
      ]
    },
    {
      "cell_type": "code",
      "execution_count": 14,
      "id": "8a61c18c",
      "metadata": {
        "id": "8a61c18c"
      },
      "outputs": [],
      "source": [
        "# Split into X and Y\n",
        "X = news_dataset.drop(columns='label', axis=1)\n",
        "Y = news_dataset['label']"
      ]
    },
    {
      "cell_type": "code",
      "execution_count": 15,
      "id": "872c3664",
      "metadata": {
        "colab": {
          "base_uri": "https://localhost:8080/",
          "height": 178
        },
        "id": "872c3664",
        "outputId": "2cce51c8-92a6-415e-ac62-1e22f74fdd92"
      },
      "outputs": [
        {
          "output_type": "execute_result",
          "data": {
            "text/plain": [
              "label\n",
              "0    23481\n",
              "1    21417\n",
              "Name: count, dtype: int64"
            ],
            "text/html": [
              "<div>\n",
              "<style scoped>\n",
              "    .dataframe tbody tr th:only-of-type {\n",
              "        vertical-align: middle;\n",
              "    }\n",
              "\n",
              "    .dataframe tbody tr th {\n",
              "        vertical-align: top;\n",
              "    }\n",
              "\n",
              "    .dataframe thead th {\n",
              "        text-align: right;\n",
              "    }\n",
              "</style>\n",
              "<table border=\"1\" class=\"dataframe\">\n",
              "  <thead>\n",
              "    <tr style=\"text-align: right;\">\n",
              "      <th></th>\n",
              "      <th>count</th>\n",
              "    </tr>\n",
              "    <tr>\n",
              "      <th>label</th>\n",
              "      <th></th>\n",
              "    </tr>\n",
              "  </thead>\n",
              "  <tbody>\n",
              "    <tr>\n",
              "      <th>0</th>\n",
              "      <td>23481</td>\n",
              "    </tr>\n",
              "    <tr>\n",
              "      <th>1</th>\n",
              "      <td>21417</td>\n",
              "    </tr>\n",
              "  </tbody>\n",
              "</table>\n",
              "</div><br><label><b>dtype:</b> int64</label>"
            ]
          },
          "metadata": {},
          "execution_count": 15
        }
      ],
      "source": [
        "news_dataset['label'].value_counts()"
      ]
    },
    {
      "cell_type": "code",
      "execution_count": 16,
      "id": "98051067",
      "metadata": {
        "colab": {
          "base_uri": "https://localhost:8080/"
        },
        "id": "98051067",
        "outputId": "7caf2766-a3e7-4a17-9320-68e87d34d2be"
      },
      "outputs": [
        {
          "output_type": "stream",
          "name": "stdout",
          "text": [
            "X shape: (44898, 5)\n",
            "Y shape: (44898,)\n"
          ]
        }
      ],
      "source": [
        "print(\"X shape:\", X.shape)\n",
        "print(\"Y shape:\", Y.shape)"
      ]
    },
    {
      "cell_type": "code",
      "execution_count": 17,
      "id": "d3784c61",
      "metadata": {
        "colab": {
          "base_uri": "https://localhost:8080/"
        },
        "id": "d3784c61",
        "outputId": "03c43f98-3814-4d3d-96b0-27ff372f1e45"
      },
      "outputs": [
        {
          "output_type": "stream",
          "name": "stdout",
          "text": [
            "\n",
            "Sample X:\n",
            "    id                                              title  \\\n",
            "0   1   BREAKING: GOP Chairman Grassley Has Had Enoug...   \n",
            "1   2   Failed GOP Candidates Remembered In Hilarious...   \n",
            "2   3   Mike Pence’s New DC Neighbors Are HILARIOUSLY...   \n",
            "3   4  California AG pledges to defend birth control ...   \n",
            "4   5  AZ RANCHERS Living On US-Mexico Border Destroy...   \n",
            "\n",
            "                                                text  \\\n",
            "0  Donald Trump s White House is in chaos, and th...   \n",
            "1  Now that Donald Trump is the presumptive GOP n...   \n",
            "2  Mike Pence is a huge homophobe. He supports ex...   \n",
            "3  SAN FRANCISCO (Reuters) - California Attorney ...   \n",
            "4  Twisted reasoning is all that comes from Pelos...   \n",
            "\n",
            "                                             content  \\\n",
            "0   BREAKING: GOP Chairman Grassley Has Had Enoug...   \n",
            "1   Failed GOP Candidates Remembered In Hilarious...   \n",
            "2   Mike Pence’s New DC Neighbors Are HILARIOUSLY...   \n",
            "3  California AG pledges to defend birth control ...   \n",
            "4  AZ RANCHERS Living On US-Mexico Border Destroy...   \n",
            "\n",
            "                                         raw_content  \n",
            "0   BREAKING: GOP Chairman Grassley Has Had Enoug...  \n",
            "1   Failed GOP Candidates Remembered In Hilarious...  \n",
            "2   Mike Pence’s New DC Neighbors Are HILARIOUSLY...  \n",
            "3  California AG pledges to defend birth control ...  \n",
            "4  AZ RANCHERS Living On US-Mexico Border Destroy...  \n"
          ]
        }
      ],
      "source": [
        "print(\"\\nSample X:\\n\", X.head())"
      ]
    },
    {
      "cell_type": "code",
      "execution_count": 18,
      "id": "a7f9f402",
      "metadata": {
        "colab": {
          "base_uri": "https://localhost:8080/"
        },
        "id": "a7f9f402",
        "outputId": "bf024b94-fcde-4e2f-8772-a9d14566825f"
      },
      "outputs": [
        {
          "output_type": "stream",
          "name": "stdout",
          "text": [
            "\n",
            "Sample Y:\n",
            " 0    0\n",
            "1    0\n",
            "2    0\n",
            "3    1\n",
            "4    0\n",
            "Name: label, dtype: int64\n"
          ]
        }
      ],
      "source": [
        "print(\"\\nSample Y:\\n\", Y.head())"
      ]
    },
    {
      "cell_type": "markdown",
      "id": "2083debd",
      "metadata": {
        "id": "2083debd"
      },
      "source": [
        "## Section 5: Text Preprocessing and Stemming"
      ]
    },
    {
      "cell_type": "code",
      "execution_count": 19,
      "id": "00d12357",
      "metadata": {
        "id": "00d12357"
      },
      "outputs": [],
      "source": [
        "port_stem = PorterStemmer()"
      ]
    },
    {
      "cell_type": "code",
      "execution_count": 20,
      "id": "3e837ef1",
      "metadata": {
        "id": "3e837ef1"
      },
      "outputs": [],
      "source": [
        "stop_words = set(stopwords.words('english')) # define once globally for performance\n",
        "\n",
        "def stemming(content):\n",
        "    stemmed_content = re.sub('[^a-zA-Z]',' ',content)\n",
        "    stemmed_content = stemmed_content.lower()\n",
        "    stemmed_content = stemmed_content.split()\n",
        "    stemmed_content = [port_stem.stem(word) for word in stemmed_content if not word in stop_words]\n",
        "    stemmed_content = ' '.join(stemmed_content)\n",
        "    return stemmed_content"
      ]
    },
    {
      "cell_type": "markdown",
      "id": "89332bc9",
      "metadata": {
        "id": "89332bc9"
      },
      "source": [
        "## Section 6: Raw-Text Preservation and Dataset Splitting"
      ]
    },
    {
      "cell_type": "code",
      "execution_count": 21,
      "id": "3f17faf7",
      "metadata": {
        "id": "3f17faf7"
      },
      "outputs": [],
      "source": [
        "# Assuming 'content' = cleaned version (without stemming), 'raw_content' = untouched, and 'label' = target\n",
        "\n",
        "X_raw = news_dataset['raw_content'].values   # For BERT\n",
        "X_content = news_dataset['content'].values   # To apply stemming AFTER split\n",
        "Y = news_dataset['label'].values\n",
        "\n",
        "# Create consistent indices for splitting both raw and processed data\n",
        "indices = np.arange(len(X_content))\n",
        "train_idx, test_idx = train_test_split(indices, test_size=0.2, stratify=Y, random_state=2)\n",
        "\n",
        "# Split raw content for BERT\n",
        "X_train_raw = X_raw[train_idx]\n",
        "X_test_raw = X_raw[test_idx]\n",
        "\n",
        "# Split unstemmed content for traditional ML models\n",
        "X_train_content = X_content[train_idx]\n",
        "X_test_content = X_content[test_idx]\n",
        "\n",
        "Y_train = Y[train_idx]\n",
        "Y_test = Y[test_idx]"
      ]
    },
    {
      "cell_type": "markdown",
      "id": "2f57dffc",
      "metadata": {
        "id": "2f57dffc"
      },
      "source": [
        "## Section 7: Apply Stemming After Splitting"
      ]
    },
    {
      "cell_type": "code",
      "execution_count": 22,
      "id": "cc4fc00e",
      "metadata": {
        "id": "cc4fc00e"
      },
      "outputs": [],
      "source": [
        "X_train_stemmed = np.array([stemming(text) for text in X_train_content])\n",
        "X_test_stemmed = np.array([stemming(text) for text in X_test_content])"
      ]
    },
    {
      "cell_type": "markdown",
      "id": "26aca0a0",
      "metadata": {
        "id": "26aca0a0"
      },
      "source": [
        "## Section 8: Text Vectorization Using TF-IDF"
      ]
    },
    {
      "cell_type": "code",
      "execution_count": 23,
      "id": "a75ef3e7",
      "metadata": {
        "id": "a75ef3e7"
      },
      "outputs": [],
      "source": [
        "# Convert stemmed text into numerical features\n",
        "vectorizer = TfidfVectorizer()\n",
        "vectorizer.fit(X_train_stemmed)\n",
        "\n",
        "X_train_vect = vectorizer.transform(X_train_stemmed)\n",
        "X_test_vect = vectorizer.transform(X_test_stemmed)"
      ]
    },
    {
      "cell_type": "markdown",
      "id": "ae1a80bd",
      "metadata": {
        "id": "ae1a80bd"
      },
      "source": [
        "## Section 9: Training the Model - Logistic Regression"
      ]
    },
    {
      "cell_type": "code",
      "execution_count": 24,
      "id": "f9e89f07",
      "metadata": {
        "id": "f9e89f07"
      },
      "outputs": [],
      "source": [
        "model = LogisticRegression()"
      ]
    },
    {
      "cell_type": "code",
      "execution_count": 25,
      "id": "3de58e07",
      "metadata": {
        "colab": {
          "base_uri": "https://localhost:8080/",
          "height": 80
        },
        "id": "3de58e07",
        "outputId": "1a777072-9bc6-41c3-cf4f-68b9f0774e63"
      },
      "outputs": [
        {
          "output_type": "execute_result",
          "data": {
            "text/plain": [
              "LogisticRegression()"
            ],
            "text/html": [
              "<style>#sk-container-id-1 {\n",
              "  /* Definition of color scheme common for light and dark mode */\n",
              "  --sklearn-color-text: #000;\n",
              "  --sklearn-color-text-muted: #666;\n",
              "  --sklearn-color-line: gray;\n",
              "  /* Definition of color scheme for unfitted estimators */\n",
              "  --sklearn-color-unfitted-level-0: #fff5e6;\n",
              "  --sklearn-color-unfitted-level-1: #f6e4d2;\n",
              "  --sklearn-color-unfitted-level-2: #ffe0b3;\n",
              "  --sklearn-color-unfitted-level-3: chocolate;\n",
              "  /* Definition of color scheme for fitted estimators */\n",
              "  --sklearn-color-fitted-level-0: #f0f8ff;\n",
              "  --sklearn-color-fitted-level-1: #d4ebff;\n",
              "  --sklearn-color-fitted-level-2: #b3dbfd;\n",
              "  --sklearn-color-fitted-level-3: cornflowerblue;\n",
              "\n",
              "  /* Specific color for light theme */\n",
              "  --sklearn-color-text-on-default-background: var(--sg-text-color, var(--theme-code-foreground, var(--jp-content-font-color1, black)));\n",
              "  --sklearn-color-background: var(--sg-background-color, var(--theme-background, var(--jp-layout-color0, white)));\n",
              "  --sklearn-color-border-box: var(--sg-text-color, var(--theme-code-foreground, var(--jp-content-font-color1, black)));\n",
              "  --sklearn-color-icon: #696969;\n",
              "\n",
              "  @media (prefers-color-scheme: dark) {\n",
              "    /* Redefinition of color scheme for dark theme */\n",
              "    --sklearn-color-text-on-default-background: var(--sg-text-color, var(--theme-code-foreground, var(--jp-content-font-color1, white)));\n",
              "    --sklearn-color-background: var(--sg-background-color, var(--theme-background, var(--jp-layout-color0, #111)));\n",
              "    --sklearn-color-border-box: var(--sg-text-color, var(--theme-code-foreground, var(--jp-content-font-color1, white)));\n",
              "    --sklearn-color-icon: #878787;\n",
              "  }\n",
              "}\n",
              "\n",
              "#sk-container-id-1 {\n",
              "  color: var(--sklearn-color-text);\n",
              "}\n",
              "\n",
              "#sk-container-id-1 pre {\n",
              "  padding: 0;\n",
              "}\n",
              "\n",
              "#sk-container-id-1 input.sk-hidden--visually {\n",
              "  border: 0;\n",
              "  clip: rect(1px 1px 1px 1px);\n",
              "  clip: rect(1px, 1px, 1px, 1px);\n",
              "  height: 1px;\n",
              "  margin: -1px;\n",
              "  overflow: hidden;\n",
              "  padding: 0;\n",
              "  position: absolute;\n",
              "  width: 1px;\n",
              "}\n",
              "\n",
              "#sk-container-id-1 div.sk-dashed-wrapped {\n",
              "  border: 1px dashed var(--sklearn-color-line);\n",
              "  margin: 0 0.4em 0.5em 0.4em;\n",
              "  box-sizing: border-box;\n",
              "  padding-bottom: 0.4em;\n",
              "  background-color: var(--sklearn-color-background);\n",
              "}\n",
              "\n",
              "#sk-container-id-1 div.sk-container {\n",
              "  /* jupyter's `normalize.less` sets `[hidden] { display: none; }`\n",
              "     but bootstrap.min.css set `[hidden] { display: none !important; }`\n",
              "     so we also need the `!important` here to be able to override the\n",
              "     default hidden behavior on the sphinx rendered scikit-learn.org.\n",
              "     See: https://github.com/scikit-learn/scikit-learn/issues/21755 */\n",
              "  display: inline-block !important;\n",
              "  position: relative;\n",
              "}\n",
              "\n",
              "#sk-container-id-1 div.sk-text-repr-fallback {\n",
              "  display: none;\n",
              "}\n",
              "\n",
              "div.sk-parallel-item,\n",
              "div.sk-serial,\n",
              "div.sk-item {\n",
              "  /* draw centered vertical line to link estimators */\n",
              "  background-image: linear-gradient(var(--sklearn-color-text-on-default-background), var(--sklearn-color-text-on-default-background));\n",
              "  background-size: 2px 100%;\n",
              "  background-repeat: no-repeat;\n",
              "  background-position: center center;\n",
              "}\n",
              "\n",
              "/* Parallel-specific style estimator block */\n",
              "\n",
              "#sk-container-id-1 div.sk-parallel-item::after {\n",
              "  content: \"\";\n",
              "  width: 100%;\n",
              "  border-bottom: 2px solid var(--sklearn-color-text-on-default-background);\n",
              "  flex-grow: 1;\n",
              "}\n",
              "\n",
              "#sk-container-id-1 div.sk-parallel {\n",
              "  display: flex;\n",
              "  align-items: stretch;\n",
              "  justify-content: center;\n",
              "  background-color: var(--sklearn-color-background);\n",
              "  position: relative;\n",
              "}\n",
              "\n",
              "#sk-container-id-1 div.sk-parallel-item {\n",
              "  display: flex;\n",
              "  flex-direction: column;\n",
              "}\n",
              "\n",
              "#sk-container-id-1 div.sk-parallel-item:first-child::after {\n",
              "  align-self: flex-end;\n",
              "  width: 50%;\n",
              "}\n",
              "\n",
              "#sk-container-id-1 div.sk-parallel-item:last-child::after {\n",
              "  align-self: flex-start;\n",
              "  width: 50%;\n",
              "}\n",
              "\n",
              "#sk-container-id-1 div.sk-parallel-item:only-child::after {\n",
              "  width: 0;\n",
              "}\n",
              "\n",
              "/* Serial-specific style estimator block */\n",
              "\n",
              "#sk-container-id-1 div.sk-serial {\n",
              "  display: flex;\n",
              "  flex-direction: column;\n",
              "  align-items: center;\n",
              "  background-color: var(--sklearn-color-background);\n",
              "  padding-right: 1em;\n",
              "  padding-left: 1em;\n",
              "}\n",
              "\n",
              "\n",
              "/* Toggleable style: style used for estimator/Pipeline/ColumnTransformer box that is\n",
              "clickable and can be expanded/collapsed.\n",
              "- Pipeline and ColumnTransformer use this feature and define the default style\n",
              "- Estimators will overwrite some part of the style using the `sk-estimator` class\n",
              "*/\n",
              "\n",
              "/* Pipeline and ColumnTransformer style (default) */\n",
              "\n",
              "#sk-container-id-1 div.sk-toggleable {\n",
              "  /* Default theme specific background. It is overwritten whether we have a\n",
              "  specific estimator or a Pipeline/ColumnTransformer */\n",
              "  background-color: var(--sklearn-color-background);\n",
              "}\n",
              "\n",
              "/* Toggleable label */\n",
              "#sk-container-id-1 label.sk-toggleable__label {\n",
              "  cursor: pointer;\n",
              "  display: flex;\n",
              "  width: 100%;\n",
              "  margin-bottom: 0;\n",
              "  padding: 0.5em;\n",
              "  box-sizing: border-box;\n",
              "  text-align: center;\n",
              "  align-items: start;\n",
              "  justify-content: space-between;\n",
              "  gap: 0.5em;\n",
              "}\n",
              "\n",
              "#sk-container-id-1 label.sk-toggleable__label .caption {\n",
              "  font-size: 0.6rem;\n",
              "  font-weight: lighter;\n",
              "  color: var(--sklearn-color-text-muted);\n",
              "}\n",
              "\n",
              "#sk-container-id-1 label.sk-toggleable__label-arrow:before {\n",
              "  /* Arrow on the left of the label */\n",
              "  content: \"▸\";\n",
              "  float: left;\n",
              "  margin-right: 0.25em;\n",
              "  color: var(--sklearn-color-icon);\n",
              "}\n",
              "\n",
              "#sk-container-id-1 label.sk-toggleable__label-arrow:hover:before {\n",
              "  color: var(--sklearn-color-text);\n",
              "}\n",
              "\n",
              "/* Toggleable content - dropdown */\n",
              "\n",
              "#sk-container-id-1 div.sk-toggleable__content {\n",
              "  max-height: 0;\n",
              "  max-width: 0;\n",
              "  overflow: hidden;\n",
              "  text-align: left;\n",
              "  /* unfitted */\n",
              "  background-color: var(--sklearn-color-unfitted-level-0);\n",
              "}\n",
              "\n",
              "#sk-container-id-1 div.sk-toggleable__content.fitted {\n",
              "  /* fitted */\n",
              "  background-color: var(--sklearn-color-fitted-level-0);\n",
              "}\n",
              "\n",
              "#sk-container-id-1 div.sk-toggleable__content pre {\n",
              "  margin: 0.2em;\n",
              "  border-radius: 0.25em;\n",
              "  color: var(--sklearn-color-text);\n",
              "  /* unfitted */\n",
              "  background-color: var(--sklearn-color-unfitted-level-0);\n",
              "}\n",
              "\n",
              "#sk-container-id-1 div.sk-toggleable__content.fitted pre {\n",
              "  /* unfitted */\n",
              "  background-color: var(--sklearn-color-fitted-level-0);\n",
              "}\n",
              "\n",
              "#sk-container-id-1 input.sk-toggleable__control:checked~div.sk-toggleable__content {\n",
              "  /* Expand drop-down */\n",
              "  max-height: 200px;\n",
              "  max-width: 100%;\n",
              "  overflow: auto;\n",
              "}\n",
              "\n",
              "#sk-container-id-1 input.sk-toggleable__control:checked~label.sk-toggleable__label-arrow:before {\n",
              "  content: \"▾\";\n",
              "}\n",
              "\n",
              "/* Pipeline/ColumnTransformer-specific style */\n",
              "\n",
              "#sk-container-id-1 div.sk-label input.sk-toggleable__control:checked~label.sk-toggleable__label {\n",
              "  color: var(--sklearn-color-text);\n",
              "  background-color: var(--sklearn-color-unfitted-level-2);\n",
              "}\n",
              "\n",
              "#sk-container-id-1 div.sk-label.fitted input.sk-toggleable__control:checked~label.sk-toggleable__label {\n",
              "  background-color: var(--sklearn-color-fitted-level-2);\n",
              "}\n",
              "\n",
              "/* Estimator-specific style */\n",
              "\n",
              "/* Colorize estimator box */\n",
              "#sk-container-id-1 div.sk-estimator input.sk-toggleable__control:checked~label.sk-toggleable__label {\n",
              "  /* unfitted */\n",
              "  background-color: var(--sklearn-color-unfitted-level-2);\n",
              "}\n",
              "\n",
              "#sk-container-id-1 div.sk-estimator.fitted input.sk-toggleable__control:checked~label.sk-toggleable__label {\n",
              "  /* fitted */\n",
              "  background-color: var(--sklearn-color-fitted-level-2);\n",
              "}\n",
              "\n",
              "#sk-container-id-1 div.sk-label label.sk-toggleable__label,\n",
              "#sk-container-id-1 div.sk-label label {\n",
              "  /* The background is the default theme color */\n",
              "  color: var(--sklearn-color-text-on-default-background);\n",
              "}\n",
              "\n",
              "/* On hover, darken the color of the background */\n",
              "#sk-container-id-1 div.sk-label:hover label.sk-toggleable__label {\n",
              "  color: var(--sklearn-color-text);\n",
              "  background-color: var(--sklearn-color-unfitted-level-2);\n",
              "}\n",
              "\n",
              "/* Label box, darken color on hover, fitted */\n",
              "#sk-container-id-1 div.sk-label.fitted:hover label.sk-toggleable__label.fitted {\n",
              "  color: var(--sklearn-color-text);\n",
              "  background-color: var(--sklearn-color-fitted-level-2);\n",
              "}\n",
              "\n",
              "/* Estimator label */\n",
              "\n",
              "#sk-container-id-1 div.sk-label label {\n",
              "  font-family: monospace;\n",
              "  font-weight: bold;\n",
              "  display: inline-block;\n",
              "  line-height: 1.2em;\n",
              "}\n",
              "\n",
              "#sk-container-id-1 div.sk-label-container {\n",
              "  text-align: center;\n",
              "}\n",
              "\n",
              "/* Estimator-specific */\n",
              "#sk-container-id-1 div.sk-estimator {\n",
              "  font-family: monospace;\n",
              "  border: 1px dotted var(--sklearn-color-border-box);\n",
              "  border-radius: 0.25em;\n",
              "  box-sizing: border-box;\n",
              "  margin-bottom: 0.5em;\n",
              "  /* unfitted */\n",
              "  background-color: var(--sklearn-color-unfitted-level-0);\n",
              "}\n",
              "\n",
              "#sk-container-id-1 div.sk-estimator.fitted {\n",
              "  /* fitted */\n",
              "  background-color: var(--sklearn-color-fitted-level-0);\n",
              "}\n",
              "\n",
              "/* on hover */\n",
              "#sk-container-id-1 div.sk-estimator:hover {\n",
              "  /* unfitted */\n",
              "  background-color: var(--sklearn-color-unfitted-level-2);\n",
              "}\n",
              "\n",
              "#sk-container-id-1 div.sk-estimator.fitted:hover {\n",
              "  /* fitted */\n",
              "  background-color: var(--sklearn-color-fitted-level-2);\n",
              "}\n",
              "\n",
              "/* Specification for estimator info (e.g. \"i\" and \"?\") */\n",
              "\n",
              "/* Common style for \"i\" and \"?\" */\n",
              "\n",
              ".sk-estimator-doc-link,\n",
              "a:link.sk-estimator-doc-link,\n",
              "a:visited.sk-estimator-doc-link {\n",
              "  float: right;\n",
              "  font-size: smaller;\n",
              "  line-height: 1em;\n",
              "  font-family: monospace;\n",
              "  background-color: var(--sklearn-color-background);\n",
              "  border-radius: 1em;\n",
              "  height: 1em;\n",
              "  width: 1em;\n",
              "  text-decoration: none !important;\n",
              "  margin-left: 0.5em;\n",
              "  text-align: center;\n",
              "  /* unfitted */\n",
              "  border: var(--sklearn-color-unfitted-level-1) 1pt solid;\n",
              "  color: var(--sklearn-color-unfitted-level-1);\n",
              "}\n",
              "\n",
              ".sk-estimator-doc-link.fitted,\n",
              "a:link.sk-estimator-doc-link.fitted,\n",
              "a:visited.sk-estimator-doc-link.fitted {\n",
              "  /* fitted */\n",
              "  border: var(--sklearn-color-fitted-level-1) 1pt solid;\n",
              "  color: var(--sklearn-color-fitted-level-1);\n",
              "}\n",
              "\n",
              "/* On hover */\n",
              "div.sk-estimator:hover .sk-estimator-doc-link:hover,\n",
              ".sk-estimator-doc-link:hover,\n",
              "div.sk-label-container:hover .sk-estimator-doc-link:hover,\n",
              ".sk-estimator-doc-link:hover {\n",
              "  /* unfitted */\n",
              "  background-color: var(--sklearn-color-unfitted-level-3);\n",
              "  color: var(--sklearn-color-background);\n",
              "  text-decoration: none;\n",
              "}\n",
              "\n",
              "div.sk-estimator.fitted:hover .sk-estimator-doc-link.fitted:hover,\n",
              ".sk-estimator-doc-link.fitted:hover,\n",
              "div.sk-label-container:hover .sk-estimator-doc-link.fitted:hover,\n",
              ".sk-estimator-doc-link.fitted:hover {\n",
              "  /* fitted */\n",
              "  background-color: var(--sklearn-color-fitted-level-3);\n",
              "  color: var(--sklearn-color-background);\n",
              "  text-decoration: none;\n",
              "}\n",
              "\n",
              "/* Span, style for the box shown on hovering the info icon */\n",
              ".sk-estimator-doc-link span {\n",
              "  display: none;\n",
              "  z-index: 9999;\n",
              "  position: relative;\n",
              "  font-weight: normal;\n",
              "  right: .2ex;\n",
              "  padding: .5ex;\n",
              "  margin: .5ex;\n",
              "  width: min-content;\n",
              "  min-width: 20ex;\n",
              "  max-width: 50ex;\n",
              "  color: var(--sklearn-color-text);\n",
              "  box-shadow: 2pt 2pt 4pt #999;\n",
              "  /* unfitted */\n",
              "  background: var(--sklearn-color-unfitted-level-0);\n",
              "  border: .5pt solid var(--sklearn-color-unfitted-level-3);\n",
              "}\n",
              "\n",
              ".sk-estimator-doc-link.fitted span {\n",
              "  /* fitted */\n",
              "  background: var(--sklearn-color-fitted-level-0);\n",
              "  border: var(--sklearn-color-fitted-level-3);\n",
              "}\n",
              "\n",
              ".sk-estimator-doc-link:hover span {\n",
              "  display: block;\n",
              "}\n",
              "\n",
              "/* \"?\"-specific style due to the `<a>` HTML tag */\n",
              "\n",
              "#sk-container-id-1 a.estimator_doc_link {\n",
              "  float: right;\n",
              "  font-size: 1rem;\n",
              "  line-height: 1em;\n",
              "  font-family: monospace;\n",
              "  background-color: var(--sklearn-color-background);\n",
              "  border-radius: 1rem;\n",
              "  height: 1rem;\n",
              "  width: 1rem;\n",
              "  text-decoration: none;\n",
              "  /* unfitted */\n",
              "  color: var(--sklearn-color-unfitted-level-1);\n",
              "  border: var(--sklearn-color-unfitted-level-1) 1pt solid;\n",
              "}\n",
              "\n",
              "#sk-container-id-1 a.estimator_doc_link.fitted {\n",
              "  /* fitted */\n",
              "  border: var(--sklearn-color-fitted-level-1) 1pt solid;\n",
              "  color: var(--sklearn-color-fitted-level-1);\n",
              "}\n",
              "\n",
              "/* On hover */\n",
              "#sk-container-id-1 a.estimator_doc_link:hover {\n",
              "  /* unfitted */\n",
              "  background-color: var(--sklearn-color-unfitted-level-3);\n",
              "  color: var(--sklearn-color-background);\n",
              "  text-decoration: none;\n",
              "}\n",
              "\n",
              "#sk-container-id-1 a.estimator_doc_link.fitted:hover {\n",
              "  /* fitted */\n",
              "  background-color: var(--sklearn-color-fitted-level-3);\n",
              "}\n",
              "</style><div id=\"sk-container-id-1\" class=\"sk-top-container\"><div class=\"sk-text-repr-fallback\"><pre>LogisticRegression()</pre><b>In a Jupyter environment, please rerun this cell to show the HTML representation or trust the notebook. <br />On GitHub, the HTML representation is unable to render, please try loading this page with nbviewer.org.</b></div><div class=\"sk-container\" hidden><div class=\"sk-item\"><div class=\"sk-estimator fitted sk-toggleable\"><input class=\"sk-toggleable__control sk-hidden--visually\" id=\"sk-estimator-id-1\" type=\"checkbox\" checked><label for=\"sk-estimator-id-1\" class=\"sk-toggleable__label fitted sk-toggleable__label-arrow\"><div><div>LogisticRegression</div></div><div><a class=\"sk-estimator-doc-link fitted\" rel=\"noreferrer\" target=\"_blank\" href=\"https://scikit-learn.org/1.6/modules/generated/sklearn.linear_model.LogisticRegression.html\">?<span>Documentation for LogisticRegression</span></a><span class=\"sk-estimator-doc-link fitted\">i<span>Fitted</span></span></div></label><div class=\"sk-toggleable__content fitted\"><pre>LogisticRegression()</pre></div> </div></div></div></div>"
            ]
          },
          "metadata": {},
          "execution_count": 25
        }
      ],
      "source": [
        "# Train the model\n",
        "model.fit(X_train_vect, Y_train)"
      ]
    },
    {
      "cell_type": "markdown",
      "id": "ee4dd6f1",
      "metadata": {
        "id": "ee4dd6f1"
      },
      "source": [
        "## Section 10: Evaluation – Logistic Regression"
      ]
    },
    {
      "cell_type": "code",
      "execution_count": 26,
      "id": "27183071",
      "metadata": {
        "colab": {
          "base_uri": "https://localhost:8080/"
        },
        "id": "27183071",
        "outputId": "b954531e-c5af-4dec-d0f2-8f1e479ee075"
      },
      "outputs": [
        {
          "output_type": "stream",
          "name": "stdout",
          "text": [
            "Training Accuracy: 0.9916\n",
            "Test Accuracy: 0.9865\n",
            "\n",
            "Classification Report:\n",
            "              precision    recall  f1-score   support\n",
            "\n",
            "        FAKE       0.99      0.99      0.99      4696\n",
            "        REAL       0.98      0.99      0.99      4284\n",
            "\n",
            "    accuracy                           0.99      8980\n",
            "   macro avg       0.99      0.99      0.99      8980\n",
            "weighted avg       0.99      0.99      0.99      8980\n",
            "\n",
            "Confusion Matrix:\n",
            "[[4631   65]\n",
            " [  56 4228]]\n",
            "ROC-AUC Score: 0.9984\n"
          ]
        }
      ],
      "source": [
        "# Evaluation on Training Data\n",
        "train_preds = model.predict(X_train_vect)\n",
        "train_accuracy = accuracy_score(Y_train, train_preds)\n",
        "print(f\"Training Accuracy: {train_accuracy:.4f}\")\n",
        "\n",
        "# Evaluation on Test Data\n",
        "test_preds = model.predict(X_test_vect)\n",
        "test_accuracy = accuracy_score(Y_test, test_preds)\n",
        "print(f\"Test Accuracy: {test_accuracy:.4f}\")\n",
        "\n",
        "# Classification Report\n",
        "print(\"\\nClassification Report:\")\n",
        "print(classification_report(Y_test, test_preds, target_names=[\"FAKE\", \"REAL\"]))\n",
        "\n",
        "# Confusion Matrix\n",
        "print(\"Confusion Matrix:\")\n",
        "print(confusion_matrix(Y_test, test_preds))\n",
        "\n",
        "# ROC-AUC Score (for probability-based models)\n",
        "if hasattr(model, \"predict_proba\"):\n",
        "    y_probs = model.predict_proba(X_test_vect)[:, 1]  # Probabilities for class 'Fake'\n",
        "    roc_auc = roc_auc_score(Y_test, y_probs)\n",
        "    print(f\"ROC-AUC Score: {roc_auc:.4f}\")\n"
      ]
    },
    {
      "cell_type": "code",
      "execution_count": 27,
      "id": "22b9e89d",
      "metadata": {
        "colab": {
          "base_uri": "https://localhost:8080/"
        },
        "id": "22b9e89d",
        "outputId": "aee657ba-6f15-4d77-c959-deecf05c2ca3"
      },
      "outputs": [
        {
          "output_type": "stream",
          "name": "stdout",
          "text": [
            "\n",
            " News Title: Shifting sands: What is changing in Saudi Arabia? (Reuters) - Saudi Arabia s Crown Prince Mohammed bin Salman has ordered a crackdown on corruption, the latest in a wave of frenetic changes in the kingdom over the past 2-1/2 years. Prince Mohammed says he is determined to remodel his conservative country into a modern state no longer dependent on oil. As his father, King Salman bin Abdulaziz, has handed the 32-year-old Prince Mohammed more and more power over the past three years, the ambitious young leader has taken on everything from economic reforms to waging war in neighboring Yemen. Here is what you need to know. Prince Mohammed capped his rapid rise to power in June this year by replacing his elder cousin Prince Mohammed bin Nayef, widely known as MbN, as crown prince. A source close to King Salman said MbN s dismissal was  in the higher interests of the state  because he was incapacitated by morphine and cocaine addiction, a legacy of an assassination attempt that left shrapnel in his body. Reuters could not independently confirm MbN s addiction issues. ANTI-CORRUPTION CAMPAIGN Prince Mohammed tightened his grip on power with the start of the anti-corruption campaign at the weekend, purging the kingdom s political and business elite. Among those arrested were 11 princes.  Many Saudis welcomed the moves as an assault on the endemic theft of public funds by the powerful. U.S. President Donald Trump said those arrested had been  milking  their country for years  but some Western officials expressed unease about the possible reaction in Riyadh s opaque tribal and royal politics. Prince Mohammed launched a military campaign in neighboring Yemen in March 2015. A Saudi-led coalition, acting on an invitation from the internationally-recognized government, has targeted the Iran-aligned Houthi movement in a war which has killed more than 10,000 people. The war is closely identified with the prince in his role as defense minister. His image once adorned war propaganda but is rarely associated with the war now, although he has said it must continue in order to quash Iranian influence. Even before the conflict, Yemen was the poorest country on the Arabian peninsula and now millions of people there are facing famine and a cholera epidemic. The coalition denies it blocks commercial shipments of food, medicine and fuel. Prince Mohammed has helped lead a diplomatic campaign to isolate Qatar, saying Riyadh s erstwhile ally backs terrorism and cozies up to Iran. Qatar rejects the accusations and says it is being punished for straying from its neighbors  backing for authoritarian rulers. The campaign has divided Gulf Arab countries, who Washington regards as essential to its influence in the region. Qatar had incensed Riyadh by cheering Arab Spring uprisings against some autocratic Arab rulers.  Saudi Arabia s rivalry with Iran, its competitor for influence in the Middle East, has deepened as King Salman and Prince Mohammed worked to build a Sunni coalition against Tehran and its allies in the Arab world.  In May, as deputy crown prince, Prince Mohammed used unusually provocative language to rule out dialogue with revolutionary Shi ite Muslim theocracy Iran, which he said was trying to interfere in Arab lands and dominate the Muslim world. On Tuesday, state media quoted him as describing Iran s supply of rockets to militias in Yemen as  direct military aggression  that could be an act of war.  Prince Mohammed has also opened a new front in the proxy war with Iran by threatening Tehran s ally Hezbollah and its home country Lebanon. The resignation on Saturday of the Saudi-allied Lebanese prime minister, Saad al-Hariri, announced from Riyadh, was widely seen as the first act on this new front. The crown prince has also sought the help of Shi ite leaders in Iraq to try to reverse Iran s dominant role there and shore up security on the kingdom s northern border, and has tried to improve ties with the United States under Trump, who shares his and King Salman s antipathy to Iran s government. The planned sale of about 5 percent of national oil company Saudi Aramco [IPO-ARMO.SE] next year is a centerpiece of Vision 2030, Prince Mohammed s blueprint to move the economy away from what he called its  addiction to oil  toward the private sector. The IPO is expected to raise as much as $100 billion but investors wonder whether Aramco can be valued anywhere close to the $2 trillion figure announced by the crown prince and there has been market speculation that the IPO could be delayed beyond 2018 or shelved. He recently stated it would happen next year. Many Saudis have misgivings about the sale, with some fearing Riyadh is selling cheaply at a time of low oil prices. Vision 2030 has begun to reduce a big state budget deficit with austerity measures but has not yet created major new sources of non-oil growth or jobs. The phased removal of subsidies on fuel, water and electricity has started but some austerity moves have been unpopular. Already, some have been reversed or delayed as the economy has slowed because of low oil prices.  The plan includes private investment and privatizations and building the world s largest sovereign wealth fund. The aim is to create jobs and raise the participation of women in the workforce from 22 percent now to 30 percent by 2030.  Saudi Arabia adheres to an austere Wahhabi brand of Sunni Islam, which bans gender mixing, concerts and cinemas.  Prince Mohammed s ascent represents a social and cultural sea change, with power set to be passed to a much younger generation seemingly more in tune with young Saudis. In moves that reinforce that perception, women will be permitted to drive from next year and allowed to attend sports events.  The crown prince has also said the country will move to a more open and tolerant interpretation of Islam, and reforms have begun in areas once the exclusive domain of the clergy such as education, courts and the law. Saudi authorities have promoted elements of national identity that have no religious component or pre-date Islam. Last month Prince Mohammed announced a $500-billion plan to create a business and industrial zone extending across its borders into Jordan and Egypt, part of his efforts to reduce dependence on oil. The 26,500 square-km (10,230 square-mile) zone, known as NEOM, will focus on industries including energy and water, biotechnology, food, advanced manufacturing and entertainment, and will power itself solely with wind power and solar energy. The crown prince says the government, Public Investment Fund and local and international investors are expected to sink billions into the zone in coming years. The crown prince told Reuters NEOM would be floated on financial markets alongside Aramco. \n",
            "Predicted: REAL | Actual: REAL\n",
            "\n",
            " News Title: Twitter bans ads from two Russian media outlets, cites election meddling SAN FRANCISCO (Reuters) - Twitter Inc on Thursday accused Russian media outlets Russia Today (RT) and Sputnik of interfering in the 2016 U.S. election and banned them from buying ads on its network, after criticism the social network had not done enough to deter international meddling.  RT and Sputnik condemned the decision, saying Twitter had encouraged ad spending with its sales tactics, while Russia’s foreign ministry said the ban was due to U.S. government pressure and that it planned to retaliate.  San Francisco-based Twitter said in an unsigned statement on its website that election meddling is “not something we want” on the social network. It cited a report this year from U.S. intelligence agencies and said it had also done its own investigations of RT and Sputnik. “We did not come to this decision lightly, and are taking this step now as part of our ongoing commitment to help protect the integrity of the user experience on Twitter,” the company said. Twitter, Facebook Inc and Alphabet Inc’s Google have all recently detected that suspected Russian operatives used their platforms last year to purchase ads and post content that was politically divisive. Russia has denied interfering in the election. Twitter said it would take the estimated $1.9 million it had earned from RT global advertising since 2011 and donate the money “to support external research into the use of Twitter in civic engagement and elections.” The company said it would allow RT and Sputnik to maintain regular, non-ad Twitter accounts in accordance with its rules. RT, an English-language news channel, accused Twitter’s sales staff of pressuring it to spend big on advertising in 2016 ahead of the election.  “The more money RT spent, the bigger the reach to American voters that Twitter would provide,” RT said, describing the Twitter sales pitch. It said it never “pursued an agenda of influencing the U.S. election through any platforms, including Twitter.” Twitter declined to comment on any discussions with advertisers. A former Twitter employee said the sales pitch to RT is similar to what the company uses to lure advertisers to Twitter, which has struggled to turn a profit.  On Thursday, Twitter said it may become profitable for the first time next quarter after slashing expenses and ramping up deals to sell its data to other companies, which could help to break its reliance on advertising for revenue. Facebook and Google did not immediately respond to questions about whether they would limit Russia media ad spending. In April, Reuters reported that RT and Sputnik were part of a plan by Russian President Vladimir Putin to swing the U.S. presidential election to Donald Trump and undermine voters’ faith in the American electoral system, according to three current and four former U.S. officials. On Oct. 19, U.S. lawmakers, alarmed that foreign entities used the internet to influence last year’s election, introduced legislation to extend rules governing political advertising on broadcast television, radio and satellite to also cover social media. General counsels for Twitter, Facebook and Google will testify on Nov. 1 before public hearings of the Senate and House intelligence committees on alleged Russian interference in the 2016 U.S. election.  “Twitter is wisely positioning itself to be able to tell the committees that the company has taken steps to address the issues raised,” Adam Sharp, a former Twitter executive, told Reuters on Thursday. The Russian foreign ministry said the ban was a “gross violation” by the United States of the guarantees of free speech.  “Retaliatory measures, naturally, will follow,” ministry spokeswoman Maria Zakharova said, according to the RIA news agency. Sputnik, a news agency, said on its website that Twitter’s move was regrettable, “especially now that Russia had vowed retaliatory measures against the U.S. media.”  Some analysts said transparency, rather than a ban, would have been a better approach. Unlike Facebook, Twitter allows anonymous accounts and automated accounts, or bots, making the service more difficult to police.  “Banning any particular person, group or country is just bad policy - in other parts of the world, platforms will come to be viewed as a tool of U.S. or other foreign policy and it will give authoritarian regimes more excuses to ban speech,” Albert Gidari, who as a lawyer has represented tech companies, said in an email. Gidari is now privacy director at Stanford Law School’s Center for Internet and Society.  A U.S. lawmaker, Representative Adam Schiff, applauded Twitter’s move.  “Serving as a platform for free expression does not require assisting foreign powers in their efforts to push propaganda, whether by promoted tweets or other means,” Schiff, the top Democrat on the House Intelligence Committee, said in a statement. \n",
            "Predicted: REAL | Actual: REAL\n",
            "\n",
            " News Title: ARMY THREATENS GREEN BERET WAR HERO WITH COURT MARTIAL For Whistleblowing On Failed Hostage Rescue The Army can t be bothered with defending or protecting war heroes, they re too busy with other more pressing issues like ensuring gays are free to come out of the closet and removing any trace of Christianity from our military bases.A Green Beret war hero under investigation for unauthorized communications with Congress will testify on Thursday that the Army is out to court-martial him on criminal charges.Meanwhile, Rep. Duncan Hunter, one of the lawmakers with whom the soldier spoke about Obama administration hostage rescue policies, has asked the Pentagon inspector general to investigate whether the Army is springing allegations against personnel such as the Green Beret as pure retaliation.Lt. Col. Jason Amerine, the Special Forces soldier, is due to testify before the Senate Committee on Homeland Security and Governmental Affairs about what he considers reprisals against him as a whistleblower. After I made protected disclosures to Congress, the Army suspended my clearance, removed me from my job, launched a criminal investigation and deleted my retirement orders with a view to court martial me after I exercised that Constitutional right,  says Col. Amerine, according to partial remarks provided to The Washington Times by Mr. Hunter s office. For nearly five months, I have received no relief from the military and there has been no transparency in their investigation of me. My pay was even stopped briefly after the Army deleted my retirement orders. Mr. Hunter, California Republican and member of the House Armed Services Committee, wrote to Jon T. Rymer, the inspector general, about three soldiers against whom he believed Army Secretary John McHugh retaliated. He asked for an IG investigation into Mr. McHugh s use of the Criminal Investigation Command. Specifically, my concern is that the Army   under the leadership of Secretary of the Army   has used CID for the purpose of influencing actions/outcomes and retaliating against soldiers,  he wrote.He cited three soldiers:  Col. Amerine. The officer worked in a small Army unit at the Pentagon and he devoted himself to developing policies to gain the release of Americans held by Islamic extremists. He came to believe the administration s hostage policies were in disarray and told Mr. Hunter. The congressman proposed legislation to create a hostage coordinator to work with the various agencies involved, such as the FBI, Pentagon and State Department.  Maj. Matt Golsteyn. Also a Green Beret, Maj. Golsteyn saw his valor awards and Special Forces tab stripped by Secretary McHugh. The officer was accused of killing a Taliban bomb-maker, but was never officially charged. He faces a board of inquiry hearing.  Sgt. First Class Earl Plumlee. Sgt. Plumlee was nominated for the Medal of Honor, the nation s highest military award, for repelling an attack on a base in Afghanistan and saving lives. The MOH was endorsed by top commanders, including Marine Gen. Joseph Dunford, the next chairman of the Joint Chiefs of Staff. But Mr. McHugh downgraded the award to a Silver Star. Mr. Hunter said it was based on a  questionable CID investigation. Col. Amerine already has filed a whistleblower retaliation complaint with the IG. The Army probe began after the FBI complained that Col. Amerine was providing information to Congress. I have personally met with the Federal Bureau of Investigation on the developments leading up to the Army investigation,  Mr. Hunter told Mr. Rymer.  An investigation, I firmly believe, was not warranted, but continues to be unjustifiably delayed. Col. Amerine holds a special place in the history of the Afghanistan war. He led a joint Green Beret-Afghan team in the 2001 invasion, and fought along side Hamid Karzai, the future president.An Army spokesman has said,  As a matter of policy, we do not confirm the names of individuals who may or may not be under investigation to protect the integrity of a possible ongoing investigation, as well as the privacy rights of all involved. However, I note that both the law and Army policy would prohibit initiating an investigation based solely on a Soldier s protected communications with.Via: Washington Times \n",
            "Predicted: FAKE | Actual: FAKE\n",
            "\n",
            " News Title: BREAKING: JARED KUSHNER SPEAKS…”I did not collude with Russia” [Video] Jared Kushner just spoke out on being accused of  colluding  with the Russians during the 2016 campaign: President Trump had a better message & ran a smarter campaign. That is why he won. Suggesting otherwise, ridicules those who voted for him. He hit back at the media:THE MEETING WENT  VERY WELL : Jared Kushner said Monday that his closed-door meeting with congressional staff investigating Russian meddling in the presidential election went  very well.  Kushner added as he was leaving the meeting that he answered  as many  questions as the staffers had.Prior to the Monday morning meeting, Kushner released an 11- page statement in which he denied colluding with any foreign government during last year s presidential race. I did not collude, nor know of anyone else in the campaign who colluded, with any foreign government,  Kushner said in the statement. He denied having improper communications with Kremlin officials as well as any knowledge of Trump campaign officials conspiring with Moscow.The closed-door hearing on Capitol Hill came after reports revealed that Kushner joined Donald Trump Jr. and former Trump campaign chairman Paul Manafort in a meeting with a Russian lawyer, who Trump Jr. believed had incriminating information on then-Democratic presidential nominee Hillary Clinton.Kushner is expected to meet with the House Intelligence Committee on Tuesday, which is leading its own investigation into Russia s meddling in the 2016 election.\n",
            "Predicted: REAL | Actual: FAKE\n",
            "\n",
            " News Title: FAKE NEWS WEEK: Truth, War Propaganda, CIA and Media Manipulation  In response to the establishment media s contrived  fake news  crisis designed to marginalise independent and alternative media sources of news and analysis, 21WIRE is running its own #FakeNewsWeek campaign, where each day our editorial team at 21st Century Wire will feature media critiques and analysis of mainstream corporate media coverage of current events   exposing the government and the mainstream media as the real purveyors of  fake news  throughout modern history The Centre for Research on GlobalizationNever before has it been so important to have independent, honest voices and sources of information. We are   as a society   inundated and overwhelmed with a flood of information from a wide array of sources, but these sources of information, by and large, serve the powerful interests and individuals that own them. The main sources of information, for both public and official consumption, include the mainstream media, alternative media, academia and think tanks.The mainstream media is the most obvious in its inherent bias and manipulation. The mainstream media is owned directly by large multinational corporations, and through their boards of directors are connected with a plethora of other major global corporations and elite interests. An example of these connections can be seen through the board of Time Warner.Time Warner owns Time Magazine, HBO, Warner Bros., and CNN, among many others. The board of directors includes individuals past or presently affiliated with: the Council on Foreign Relations, the IMF, the Rockefeller Brothers Fund, Warburg Pincus, Phillip Morris, and AMR Corporation, among many others.Two of the most  esteemed  sources of news in the U.S. are the New York Times (referred to as  the paper of record ) and the Washington Post. The New York Times has on its board people who are past or presently affiliated with: Schering-Plough International (pharmaceuticals), the John D. and Catherine T. MacArthur Foundation, Chevron Corporation, Wesco Financial Corporation, Kohlberg & Company, The Charles Schwab Corporation, eBay Inc., Xerox, IBM, Ford Motor Company, Eli Lilly & Company, among others. Hardly a bastion of impartiality.And the same could be said for The Washington Post, which has on its board: Lee Bollinger, the President of Columbia University and former Chairman of the Federal Reserve Bank of New York and individuals associated with (past or presently): the Coca-Cola Company, New York University, Conservation International, the Council on Foreign Relations, Xerox, Catalyst, Johnson & Johnson, Target Corporation, RAND Corporation, General Motors, and the Business Council, among others.It is also important to address how the mainstream media is intertwined, often covertly and secretly, with the government. Carl Bernstein, one of the two Washington Post reporters who covered the Watergate scandal, revealed that there were over 400 American journalists who had  secretly carried out assignments for the Central Intelligence Agency. Interestingly,  the use of journalists has been among the most productive means of intelligence-gathering employed by the CIA.  Among organizations which cooperated with the CIA were the  American Broadcasting Company, the National Broadcasting Company, the Associated Press, United Press International, Reuters, Hearst Newspapers, Scripps-Howard, Newsweek magazine, the Mutual Broadcasting System, the Miami Herald and the old Saturday Evening Post and New York Herald-Tribune. By far the most valuable of these associations, according to CIA officials, have been with the New York Times, CBS and Time Inc. The CIA even ran a training program  to teach its agents to be journalists,  who were  then placed in major news organizations with help from management. These types of relationships have continued in the decades since, although perhaps more covertly and quietly than before. For example, it was revealed in 2000 that during the NATO bombing of Kosovo,  several officers from the US Army s 4th Psychological Operations (PSYOPS) Group at Ft. Bragg worked in the news division at CNN s Atlanta headquarters.  This same Army Psyop outfit had  planted stories in the U.S. media supporting the Reagan Administration s Central America policies,  which was described by the Miami Herald as a  vast psychological warfare operation of the kind the military conducts to influence a population in enemy territory.  These Army PSYOP officers also worked at National Public Radio (NPR) at the same time. The US military has, in fact, had a strong relationship with CNN.In 2008, it was reported that the Pentagon ran a major propaganda campaign by using retired Generals and former Pentagon officials to present a good picture of the administration s war-time policies. The program started in the lead-up to the Iraq War in 2003 and continued into 2009. These officials, presented as  military analysts , regurgitate government talking points and often sit on the boards of military contractors, thus having a vested interest in the subjects they are brought on to  analyze. In 2013, Public Accountability reported:During the public debate around the question of whether to attack Syria, Stephen Hadley, former national security adviser to George W. Bush, made a series of high-profile media appearances. Hadley argued strenuously for military intervention in appearances on CNN, MSNBC, Fox News, and Bloomberg TV, and authored a Washington Post op-ed headlined To stop Iran, Obama must enforce red lines with Assad. In each case, Hadley s audience was not informed that he serves as a director of Raytheon, the weapons manufacturer that makes the Tomahawk cruise missiles that were widely cited as a weapon of choice in a potential strike against Syria. Hadley earns $128,500 in annual cash compensation from the company and chairs its public affairs committee. He also owns 11,477 shares of Raytheon stock, which traded at all-time highs during the Syria debate ($77.65 on August 23, making Hadley s share s worth $891,189). Despite this financial stake, Hadley was presented to his audience as an experienced, independent national security expert.The major philanthropic foundations in the United States have often used their enormous wealth to co-opt voices of dissent and movements of resistance into channels that are safe for the powers that be. As McGeorge Bundy, former President of the Ford Foundation once said,  Everything the Foundation does is to make the world safe for Capitalism. Examples of this include philanthropies like the Rockefeller Foundation, Ford Foundation and the John D. and Catherine T. MacArthur Foundation providing immense financial and organizational support to Non-Governmental Organizations. Furthermore, the alternative media are often funded by these same foundations, which has the effect of influencing the direction of coverage as well as the stifling of critical analysis Learn more about the Centre for Research on Globalization and the work of its founder and editor, Professor Michel Chossudovsky, as well how to donate to them at Global Research.ca. The original version of this article was published at Global Research in March 2011. READ MORE ABOUT MSM FAKE NEWS AT: FAKE NEWS WEEKSUPPORT 21WIRE  SUBSCRIBE & BECOME A MEMBER @ 21WIRE.TV\n",
            "Predicted: FAKE | Actual: FAKE\n"
          ]
        }
      ],
      "source": [
        "# Show predictions for first 5 test samples\n",
        "for i in range(5):\n",
        "    print(f\"\\n News Title: {X_test_raw[i]}\")\n",
        "    pred = model.predict(X_test_vect[i]).item()\n",
        "    label = \"FAKE\" if pred == 0 else \"REAL\"\n",
        "    actual = \"FAKE\" if Y_test[i] == 0 else \"REAL\"\n",
        "    print(f\"Predicted: {label} | Actual: {actual}\")\n"
      ]
    },
    {
      "cell_type": "code",
      "execution_count": 28,
      "id": "7568d6d8",
      "metadata": {
        "id": "7568d6d8"
      },
      "outputs": [],
      "source": [
        "def predict_news(news_text):\n",
        "    cleaned = stemming(news_text)\n",
        "    vectorized_input = vectorizer.transform([cleaned])\n",
        "\n",
        "    prediction = model.predict(vectorized_input)[0]\n",
        "    prob = model.predict_proba(vectorized_input)[0][1] if hasattr(model, \"predict_proba\") else None\n",
        "\n",
        "    print(\"\\nInput News Title:\")\n",
        "    print(news_text)\n",
        "\n",
        "    print(\"\\nPrediction:\")\n",
        "    if prediction == 0:\n",
        "      print(\"The news is classified as: FAKE\")\n",
        "    else:\n",
        "      print(\"The news is classified as: REAL\")\n",
        "\n",
        "    if prob is not None:\n",
        "        print(f\"Confidence (Real Probability): {prob:.4f}\")\n",
        "        # print(f\"Confidence - FAKE: {prob[0]:.4f}, REAL: {prob[1]:.4f}\")"
      ]
    },
    {
      "cell_type": "code",
      "execution_count": 29,
      "id": "3e7f0534",
      "metadata": {
        "colab": {
          "base_uri": "https://localhost:8080/"
        },
        "id": "3e7f0534",
        "outputId": "1677c299-b4da-468d-d8da-302816c27936"
      },
      "outputs": [
        {
          "output_type": "stream",
          "name": "stdout",
          "text": [
            "\n",
            "Input News Title:\n",
            "Pfizer and BioNTech announce positive results from late-stage COVID-19 vaccine trial. The companies reported that the vaccine was more than 90% effective in preventing COVID-19 among participants without evidence of prior infection. The Phase 3 clinical trial enrolled 43,538 participants, with no serious safety concerns reported. The vaccine candidate is based on mRNA technology and requires two doses administered three weeks apart. Pfizer plans to seek Emergency Use Authorization from the U.S. FDA. Global health experts have hailed the development as a significant milestone in the fight against the pandemic. Pfizer and BioNTech also confirmed their commitment to equitable global access, including low- and middle-income countries.\n",
            "\n",
            "Prediction:\n",
            "The news is classified as: REAL\n",
            "Confidence (Real Probability): 0.6094\n"
          ]
        }
      ],
      "source": [
        "# Example test\n",
        "custom_news = \"Pfizer and BioNTech announce positive results from late-stage COVID-19 vaccine trial. The companies reported that the vaccine was more than 90% effective in preventing COVID-19 among participants without evidence of prior infection. The Phase 3 clinical trial enrolled 43,538 participants, with no serious safety concerns reported. The vaccine candidate is based on mRNA technology and requires two doses administered three weeks apart. Pfizer plans to seek Emergency Use Authorization from the U.S. FDA. Global health experts have hailed the development as a significant milestone in the fight against the pandemic. Pfizer and BioNTech also confirmed their commitment to equitable global access, including low- and middle-income countries.\"\n",
        "predict_news(custom_news)"
      ]
    },
    {
      "cell_type": "code",
      "execution_count": 30,
      "id": "TLOboQkN22p-",
      "metadata": {
        "colab": {
          "base_uri": "https://localhost:8080/"
        },
        "id": "TLOboQkN22p-",
        "outputId": "bc1f552d-c359-48d4-dc41-74ec54580b16"
      },
      "outputs": [
        {
          "output_type": "stream",
          "name": "stdout",
          "text": [
            "\n",
            "Input News Title:\n",
            "Government confirms lizard people control major banks and media. In a shocking revelation, the Prime Minister's office released a statement confirming the existence of reptilian humanoids infiltrating global financial institutions and news networks. These shape-shifting beings, originating from the Draco constellation, have allegedly been manipulating world events for decades. The statement claims their ultimate goal is to enslave humanity and establish a New World Order. The Ministry of Defense has deployed elite units to capture and expose the reptilians, promising transparency and public safety in the coming weeks. Meanwhile, conspiracy theorists claim they were right all along.\n",
            "\n",
            "Prediction:\n",
            "The news is classified as: FAKE\n",
            "Confidence (Real Probability): 0.2920\n"
          ]
        }
      ],
      "source": [
        "# Example custom input\n",
        "custom_news = \"Government confirms lizard people control major banks and media. In a shocking revelation, the Prime Minister's office released a statement confirming the existence of reptilian humanoids infiltrating global financial institutions and news networks. These shape-shifting beings, originating from the Draco constellation, have allegedly been manipulating world events for decades. The statement claims their ultimate goal is to enslave humanity and establish a New World Order. The Ministry of Defense has deployed elite units to capture and expose the reptilians, promising transparency and public safety in the coming weeks. Meanwhile, conspiracy theorists claim they were right all along.\"\n",
        "predict_news(custom_news)"
      ]
    },
    {
      "cell_type": "markdown",
      "id": "5769a4ca",
      "metadata": {
        "id": "5769a4ca"
      },
      "source": [
        "## Section 11: Fake News Detection using Pretrained BERT"
      ]
    },
    {
      "cell_type": "code",
      "execution_count": 31,
      "id": "a800719e",
      "metadata": {
        "colab": {
          "base_uri": "https://localhost:8080/",
          "height": 816,
          "referenced_widgets": [
            "80f11f1ec77d4d7eab9e968b770fa5b1",
            "a6133cdce30d434a9cb3ca05a3aaad9d",
            "aa216b85498845f08c3e580c9259cbad",
            "81bbfe6f21e348c9894e88368eaa1d02",
            "b91782775af54f53ae41395fda38c758",
            "8169b2b18f0342ceb8eeca259044afb6",
            "88e2984b4ace454f813df8f8ed03975a",
            "ac1b8ddd81a242b59d9e01e8372c815e",
            "51a0b832e33e40429c583ac1eae95a48",
            "78f2430f77cc4165990ad36c8e6b3ce0",
            "83ebdab25cc94ebfb9b91b64b48afbdf",
            "d2ee75a543334b8c8293fbb2302a570a",
            "87699ca3b909474182421b75676872b3",
            "d2f763f76f384cb1aff4c1c54c509d11",
            "e5f736e787404ea3b5a9603b47c4aab2",
            "dcb283fd1ef54a6ea2927eb12ef85391",
            "ff8782d7fcd64d7fb0cfc9fa57138968",
            "47490516e8574438b087bfce94b014dd",
            "459f7c78512a4d48afcddb7736fca882",
            "84d1884737d14f769a62971e77bc0bfa",
            "33d08013e1534b1aaf536fec7b78bd1f",
            "99d7f25675a34ca395cd447154b4a761",
            "9012ce5af3cc4de2a751e40316462243",
            "4e11fcb8235c4f3c9a0355d822febda3",
            "355e78b6cc2a40dca4860cbf40fcf7e3",
            "d9c7accf12da4bc391b02034ac0abb98",
            "53ba5c0366564efbacd2b01e462e9226",
            "8d8b2103ef564c57ac67dc2b40a3243b",
            "6f714fdaa0004eb39286ff7b0135371e",
            "94c69ebc00c04568be4022d240d72a12",
            "b077971c17fe4e1ba68eb808f64750af",
            "c04cf34090b848fc9b951c1248372534",
            "821d567a69b54f0caca0fb9cf545dbcb",
            "6fc967c541e840ba956247a908405d9e",
            "a03c2466cc044110a00e713a7ea85fb2",
            "ce5434b5630d4a9a9ca22b2c1ec5b7ba",
            "710af6421642437484d9e216cc698056",
            "b06121fe1dd342ef9da980d57b8ea98b",
            "94ac032592284b96b5112eff715b6f50",
            "2d719e6e77b643548ea24104c3216275",
            "e0f257d165624122a7410e754d6e628b",
            "d1e760ec701846bdab814c2683de3ae4",
            "3dac9603136c4032bf93b4c8ee3343fb",
            "1fb444a3ca2a44268ea2313b05db89b7",
            "b11e50de4f3d4c5c9c4f0628c7424835",
            "dc3ea0f6a4ba4da2bc700e6a4654c855",
            "cad4bf82cf734304a384b3ac2e6aa345",
            "fef5f1c275974847a0a3b2bf699fb105",
            "c078501d304141de9af3af30275f877e",
            "a042b41fa05e497ba90429320bda1613",
            "f76b3d2cc9764550bda01bb203a77783",
            "3ff5fbdef38e42d09b9f2c5bdd28b996",
            "2ae52b8082534829a0b0ccacae459090",
            "d35ff8c414464edbad25ba3864975140",
            "21d04959b5114458baa59f30d3d59e20",
            "78622c904add486aac41522c4444d387",
            "0a1ee4acea9b4a29a70bd333089febe0",
            "469421b0fa5d47e48c630352e22e2cf8",
            "fa67cfd7171e4781a2a982d178ecdd02",
            "dce996813037495fbb36c253d1fbb7e2",
            "b7f1daef5b2c4a839aac12fa2e62dfc1",
            "060cb00b72ce47969fd92cd20d8b0303",
            "ebd2f91ac94a4b67bf07e3551f9e013d",
            "4cefdaa5bfe644ce8dc97f03dfc30c2e",
            "60d56d0a38e8440db897cf24fa1e4006",
            "5976dcd88dac4fb1909be868d3416b71",
            "d9429ac8e81048bea87cc106ec555ec1",
            "4aae6da09cc940c1867d40ebf9e38751",
            "09e5a55955374714b443cff1741e7156",
            "57953b381eea41a1899140261d68910f",
            "0bf253c2647a4a3c8c9b3aa68288da09",
            "12e3932503cf4da7b0089cb532446ee1",
            "eb22469c8719470ea1e6ae832188d892",
            "73bc8f9ee80e4da99449633e0b597abf",
            "b8292a56c0414f3188c0e84d0830158c",
            "657f00ef475443038767f4e6e18fb33f",
            "5cfc0943d3cd4e3aaed28984a89dd538"
          ]
        },
        "id": "a800719e",
        "outputId": "8b2b7d78-443b-464b-ad71-cedb8ab07f99"
      },
      "outputs": [
        {
          "output_type": "stream",
          "name": "stderr",
          "text": [
            "/usr/local/lib/python3.11/dist-packages/huggingface_hub/utils/_auth.py:94: UserWarning: \n",
            "The secret `HF_TOKEN` does not exist in your Colab secrets.\n",
            "To authenticate with the Hugging Face Hub, create a token in your settings tab (https://huggingface.co/settings/tokens), set it as secret in your Google Colab and restart your session.\n",
            "You will be able to reuse this secret in all of your notebooks.\n",
            "Please note that authentication is recommended but still optional to access public models or datasets.\n",
            "  warnings.warn(\n"
          ]
        },
        {
          "output_type": "display_data",
          "data": {
            "text/plain": [
              "tokenizer_config.json: 0.00B [00:00, ?B/s]"
            ],
            "application/vnd.jupyter.widget-view+json": {
              "version_major": 2,
              "version_minor": 0,
              "model_id": "80f11f1ec77d4d7eab9e968b770fa5b1"
            }
          },
          "metadata": {}
        },
        {
          "output_type": "display_data",
          "data": {
            "text/plain": [
              "vocab.json: 0.00B [00:00, ?B/s]"
            ],
            "application/vnd.jupyter.widget-view+json": {
              "version_major": 2,
              "version_minor": 0,
              "model_id": "d2ee75a543334b8c8293fbb2302a570a"
            }
          },
          "metadata": {}
        },
        {
          "output_type": "display_data",
          "data": {
            "text/plain": [
              "merges.txt: 0.00B [00:00, ?B/s]"
            ],
            "application/vnd.jupyter.widget-view+json": {
              "version_major": 2,
              "version_minor": 0,
              "model_id": "9012ce5af3cc4de2a751e40316462243"
            }
          },
          "metadata": {}
        },
        {
          "output_type": "display_data",
          "data": {
            "text/plain": [
              "special_tokens_map.json:   0%|          | 0.00/772 [00:00<?, ?B/s]"
            ],
            "application/vnd.jupyter.widget-view+json": {
              "version_major": 2,
              "version_minor": 0,
              "model_id": "6fc967c541e840ba956247a908405d9e"
            }
          },
          "metadata": {}
        },
        {
          "output_type": "display_data",
          "data": {
            "text/plain": [
              "config.json:   0%|          | 0.00/735 [00:00<?, ?B/s]"
            ],
            "application/vnd.jupyter.widget-view+json": {
              "version_major": 2,
              "version_minor": 0,
              "model_id": "b11e50de4f3d4c5c9c4f0628c7424835"
            }
          },
          "metadata": {}
        },
        {
          "output_type": "display_data",
          "data": {
            "text/plain": [
              "pytorch_model.bin:   0%|          | 0.00/499M [00:00<?, ?B/s]"
            ],
            "application/vnd.jupyter.widget-view+json": {
              "version_major": 2,
              "version_minor": 0,
              "model_id": "78622c904add486aac41522c4444d387"
            }
          },
          "metadata": {}
        },
        {
          "output_type": "stream",
          "name": "stderr",
          "text": [
            "Device set to use cuda:0\n",
            "BERT Train Batches:   0%|          | 0/4490 [00:00<?, ?it/s]"
          ]
        },
        {
          "output_type": "display_data",
          "data": {
            "text/plain": [
              "model.safetensors:   0%|          | 0.00/499M [00:00<?, ?B/s]"
            ],
            "application/vnd.jupyter.widget-view+json": {
              "version_major": 2,
              "version_minor": 0,
              "model_id": "d9429ac8e81048bea87cc106ec555ec1"
            }
          },
          "metadata": {}
        },
        {
          "output_type": "stream",
          "name": "stderr",
          "text": [
            "/usr/local/lib/python3.11/dist-packages/torch/nn/modules/module.py:1750: FutureWarning: `encoder_attention_mask` is deprecated and will be removed in version 4.55.0 for `RobertaSdpaSelfAttention.forward`.\n",
            "  return forward_call(*args, **kwargs)\n",
            "BERT Train Batches:   0%|          | 10/4490 [00:02<17:31,  4.26it/s]You seem to be using the pipelines sequentially on GPU. In order to maximize efficiency please use a dataset\n",
            "BERT Train Batches: 100%|██████████| 4490/4490 [16:01<00:00,  4.67it/s]\n"
          ]
        },
        {
          "output_type": "stream",
          "name": "stdout",
          "text": [
            "\n",
            "Training Accuracy: 0.9995\n"
          ]
        },
        {
          "output_type": "stream",
          "name": "stderr",
          "text": [
            "\rBERT Test Batches:   0%|          | 0/1123 [00:00<?, ?it/s]/usr/local/lib/python3.11/dist-packages/torch/nn/modules/module.py:1750: FutureWarning: `encoder_attention_mask` is deprecated and will be removed in version 4.55.0 for `RobertaSdpaSelfAttention.forward`.\n",
            "  return forward_call(*args, **kwargs)\n",
            "BERT Test Batches: 100%|██████████| 1123/1123 [04:00<00:00,  4.66it/s]"
          ]
        },
        {
          "output_type": "stream",
          "name": "stdout",
          "text": [
            "Test Accuracy: 0.9990\n",
            "\n",
            "[BERT] Classification Report:\n",
            "              precision    recall  f1-score   support\n",
            "\n",
            "        FAKE       1.00      1.00      1.00      4696\n",
            "        REAL       1.00      1.00      1.00      4284\n",
            "\n",
            "    accuracy                           1.00      8980\n",
            "   macro avg       1.00      1.00      1.00      8980\n",
            "weighted avg       1.00      1.00      1.00      8980\n",
            "\n",
            "Confusion Matrix:\n",
            "[[4690    6]\n",
            " [   3 4281]]\n"
          ]
        },
        {
          "output_type": "stream",
          "name": "stderr",
          "text": [
            "\n"
          ]
        }
      ],
      "source": [
        "# Load Model & Tokenizer\n",
        "model_name = \"jy46604790/Fake-News-Bert-Detect\"\n",
        "tokenizer = AutoTokenizer.from_pretrained(model_name)\n",
        "model = AutoModelForSequenceClassification.from_pretrained(model_name)\n",
        "\n",
        "device = torch.device(\"cuda\" if torch.cuda.is_available() else \"cpu\")\n",
        "model.to(device)\n",
        "\n",
        "# Use pipeline with truncation handling\n",
        "classifier = pipeline(\n",
        "    \"text-classification\",\n",
        "    model=model,\n",
        "    tokenizer=tokenizer,\n",
        "    device=0 if torch.cuda.is_available() else -1,\n",
        "    truncation=True,\n",
        "    max_length=512,\n",
        "    padding=True\n",
        ")\n",
        "\n",
        "# Define label map\n",
        "label_map = {'LABEL_0': 0, 'LABEL_1': 1}  # 0 = FAKE, 1 = REAL\n",
        "\n",
        "def clean_batch(batch):\n",
        "    return [str(x) if x is not None else \"\" for x in batch]\n",
        "\n",
        "# Evaluation on Training Data\n",
        "bert_train_preds = []\n",
        "batch_size = 8\n",
        "\n",
        "for i in tqdm(range(0, len(X_train_raw), batch_size), desc=\"BERT Train Batches\"):\n",
        "    batch = clean_batch(X_train_raw[i:i+batch_size])\n",
        "    results = classifier(batch)\n",
        "    for pred in results:\n",
        "        label = pred['label']\n",
        "        if label not in label_map:\n",
        "            raise ValueError(f\"Unexpected label: {label}\")\n",
        "        bert_train_preds.append(label_map[label])\n",
        "\n",
        "train_accuracy = accuracy_score(Y_train, bert_train_preds)\n",
        "print(f\"\\nTraining Accuracy: {train_accuracy:.4f}\")\n",
        "\n",
        "# Evaluation on Test Data\n",
        "bert_test_preds = []\n",
        "\n",
        "for i in tqdm(range(0, len(X_test_raw), batch_size), desc=\"BERT Test Batches\"):\n",
        "    batch = clean_batch(X_test_raw[i:i+batch_size])\n",
        "    results = classifier(batch)\n",
        "    for pred in results:\n",
        "        label = pred['label']\n",
        "        if label not in label_map:\n",
        "            raise ValueError(f\"Unexpected label: {label}\")\n",
        "        bert_test_preds.append(label_map[label])\n",
        "\n",
        "test_accuracy = accuracy_score(Y_test, bert_test_preds)\n",
        "print(f\"Test Accuracy: {test_accuracy:.4f}\")\n",
        "\n",
        "# Classification Report\n",
        "print(\"\\n[BERT] Classification Report:\")\n",
        "print(classification_report(Y_test, bert_test_preds, target_names=[\"FAKE\", \"REAL\"]))\n",
        "\n",
        "# Confusion Matrix\n",
        "print(\"Confusion Matrix:\")\n",
        "print(confusion_matrix(Y_test, bert_test_preds))"
      ]
    },
    {
      "cell_type": "code",
      "execution_count": 32,
      "id": "cf862281",
      "metadata": {
        "colab": {
          "base_uri": "https://localhost:8080/"
        },
        "id": "cf862281",
        "outputId": "75a351d0-ad25-4665-b16b-dfb792c793b8"
      },
      "outputs": [
        {
          "output_type": "stream",
          "name": "stdout",
          "text": [
            "\n",
            "News Title: Shifting sands: What is changing in Saudi Arabia? (Reuters) - Saudi Arabia s Crown Prince Mohammed bin Salman has ordered a crackdown on corruption, the latest in a wave of frenetic changes in the kingdom over the past 2-1/2 years. Prince Mohammed says he is determined to remodel his conservative country into a modern state no longer dependent on oil. As his father, King Salman bin Abdulaziz, has handed the 32-year-old Prince Mohammed more and more power over the past three years, the ambitious young leader has taken on everything from economic reforms to waging war in neighboring Yemen. Here is what you need to know. Prince Mohammed capped his rapid rise to power in June this year by replacing his elder cousin Prince Mohammed bin Nayef, widely known as MbN, as crown prince. A source close to King Salman said MbN s dismissal was  in the higher interests of the state  because he was incapacitated by morphine and cocaine addiction, a legacy of an assassination attempt that left shrapnel in his body. Reuters could not independently confirm MbN s addiction issues. ANTI-CORRUPTION CAMPAIGN Prince Mohammed tightened his grip on power with the start of the anti-corruption campaign at the weekend, purging the kingdom s political and business elite. Among those arrested were 11 princes.  Many Saudis welcomed the moves as an assault on the endemic theft of public funds by the powerful. U.S. President Donald Trump said those arrested had been  milking  their country for years  but some Western officials expressed unease about the possible reaction in Riyadh s opaque tribal and royal politics. Prince Mohammed launched a military campaign in neighboring Yemen in March 2015. A Saudi-led coalition, acting on an invitation from the internationally-recognized government, has targeted the Iran-aligned Houthi movement in a war which has killed more than 10,000 people. The war is closely identified with the prince in his role as defense minister. His image once adorned war propaganda but is rarely associated with the war now, although he has said it must continue in order to quash Iranian influence. Even before the conflict, Yemen was the poorest country on the Arabian peninsula and now millions of people there are facing famine and a cholera epidemic. The coalition denies it blocks commercial shipments of food, medicine and fuel. Prince Mohammed has helped lead a diplomatic campaign to isolate Qatar, saying Riyadh s erstwhile ally backs terrorism and cozies up to Iran. Qatar rejects the accusations and says it is being punished for straying from its neighbors  backing for authoritarian rulers. The campaign has divided Gulf Arab countries, who Washington regards as essential to its influence in the region. Qatar had incensed Riyadh by cheering Arab Spring uprisings against some autocratic Arab rulers.  Saudi Arabia s rivalry with Iran, its competitor for influence in the Middle East, has deepened as King Salman and Prince Mohammed worked to build a Sunni coalition against Tehran and its allies in the Arab world.  In May, as deputy crown prince, Prince Mohammed used unusually provocative language to rule out dialogue with revolutionary Shi ite Muslim theocracy Iran, which he said was trying to interfere in Arab lands and dominate the Muslim world. On Tuesday, state media quoted him as describing Iran s supply of rockets to militias in Yemen as  direct military aggression  that could be an act of war.  Prince Mohammed has also opened a new front in the proxy war with Iran by threatening Tehran s ally Hezbollah and its home country Lebanon. The resignation on Saturday of the Saudi-allied Lebanese prime minister, Saad al-Hariri, announced from Riyadh, was widely seen as the first act on this new front. The crown prince has also sought the help of Shi ite leaders in Iraq to try to reverse Iran s dominant role there and shore up security on the kingdom s northern border, and has tried to improve ties with the United States under Trump, who shares his and King Salman s antipathy to Iran s government. The planned sale of about 5 percent of national oil company Saudi Aramco [IPO-ARMO.SE] next year is a centerpiece of Vision 2030, Prince Mohammed s blueprint to move the economy away from what he called its  addiction to oil  toward the private sector. The IPO is expected to raise as much as $100 billion but investors wonder whether Aramco can be valued anywhere close to the $2 trillion figure announced by the crown prince and there has been market speculation that the IPO could be delayed beyond 2018 or shelved. He recently stated it would happen next year. Many Saudis have misgivings about the sale, with some fearing Riyadh is selling cheaply at a time of low oil prices. Vision 2030 has begun to reduce a big state budget deficit with austerity measures but has not yet created major new sources of non-oil growth or jobs. The phased removal of subsidies on fuel, water and electricity has started but some austerity moves have been unpopular. Already, some have been reversed or delayed as the economy has slowed because of low oil prices.  The plan includes private investment and privatizations and building the world s largest sovereign wealth fund. The aim is to create jobs and raise the participation of women in the workforce from 22 percent now to 30 percent by 2030.  Saudi Arabia adheres to an austere Wahhabi brand of Sunni Islam, which bans gender mixing, concerts and cinemas.  Prince Mohammed s ascent represents a social and cultural sea change, with power set to be passed to a much younger generation seemingly more in tune with young Saudis. In moves that reinforce that perception, women will be permitted to drive from next year and allowed to attend sports events.  The crown prince has also said the country will move to a more open and tolerant interpretation of Islam, and reforms have begun in areas once the exclusive domain of the clergy such as education, courts and the law. Saudi authorities have promoted elements of national identity that have no religious component or pre-date Islam. Last month Prince Mohammed announced a $500-billion plan to create a business and industrial zone extending across its borders into Jordan and Egypt, part of his efforts to reduce dependence on oil. The 26,500 square-km (10,230 square-mile) zone, known as NEOM, will focus on industries including energy and water, biotechnology, food, advanced manufacturing and entertainment, and will power itself solely with wind power and solar energy. The crown prince says the government, Public Investment Fund and local and international investors are expected to sink billions into the zone in coming years. The crown prince told Reuters NEOM would be floated on financial markets alongside Aramco. \n",
            "Predicted: REAL | Actual: REAL\n",
            "\n",
            "News Title: Twitter bans ads from two Russian media outlets, cites election meddling SAN FRANCISCO (Reuters) - Twitter Inc on Thursday accused Russian media outlets Russia Today (RT) and Sputnik of interfering in the 2016 U.S. election and banned them from buying ads on its network, after criticism the social network had not done enough to deter international meddling.  RT and Sputnik condemned the decision, saying Twitter had encouraged ad spending with its sales tactics, while Russia’s foreign ministry said the ban was due to U.S. government pressure and that it planned to retaliate.  San Francisco-based Twitter said in an unsigned statement on its website that election meddling is “not something we want” on the social network. It cited a report this year from U.S. intelligence agencies and said it had also done its own investigations of RT and Sputnik. “We did not come to this decision lightly, and are taking this step now as part of our ongoing commitment to help protect the integrity of the user experience on Twitter,” the company said. Twitter, Facebook Inc and Alphabet Inc’s Google have all recently detected that suspected Russian operatives used their platforms last year to purchase ads and post content that was politically divisive. Russia has denied interfering in the election. Twitter said it would take the estimated $1.9 million it had earned from RT global advertising since 2011 and donate the money “to support external research into the use of Twitter in civic engagement and elections.” The company said it would allow RT and Sputnik to maintain regular, non-ad Twitter accounts in accordance with its rules. RT, an English-language news channel, accused Twitter’s sales staff of pressuring it to spend big on advertising in 2016 ahead of the election.  “The more money RT spent, the bigger the reach to American voters that Twitter would provide,” RT said, describing the Twitter sales pitch. It said it never “pursued an agenda of influencing the U.S. election through any platforms, including Twitter.” Twitter declined to comment on any discussions with advertisers. A former Twitter employee said the sales pitch to RT is similar to what the company uses to lure advertisers to Twitter, which has struggled to turn a profit.  On Thursday, Twitter said it may become profitable for the first time next quarter after slashing expenses and ramping up deals to sell its data to other companies, which could help to break its reliance on advertising for revenue. Facebook and Google did not immediately respond to questions about whether they would limit Russia media ad spending. In April, Reuters reported that RT and Sputnik were part of a plan by Russian President Vladimir Putin to swing the U.S. presidential election to Donald Trump and undermine voters’ faith in the American electoral system, according to three current and four former U.S. officials. On Oct. 19, U.S. lawmakers, alarmed that foreign entities used the internet to influence last year’s election, introduced legislation to extend rules governing political advertising on broadcast television, radio and satellite to also cover social media. General counsels for Twitter, Facebook and Google will testify on Nov. 1 before public hearings of the Senate and House intelligence committees on alleged Russian interference in the 2016 U.S. election.  “Twitter is wisely positioning itself to be able to tell the committees that the company has taken steps to address the issues raised,” Adam Sharp, a former Twitter executive, told Reuters on Thursday. The Russian foreign ministry said the ban was a “gross violation” by the United States of the guarantees of free speech.  “Retaliatory measures, naturally, will follow,” ministry spokeswoman Maria Zakharova said, according to the RIA news agency. Sputnik, a news agency, said on its website that Twitter’s move was regrettable, “especially now that Russia had vowed retaliatory measures against the U.S. media.”  Some analysts said transparency, rather than a ban, would have been a better approach. Unlike Facebook, Twitter allows anonymous accounts and automated accounts, or bots, making the service more difficult to police.  “Banning any particular person, group or country is just bad policy - in other parts of the world, platforms will come to be viewed as a tool of U.S. or other foreign policy and it will give authoritarian regimes more excuses to ban speech,” Albert Gidari, who as a lawyer has represented tech companies, said in an email. Gidari is now privacy director at Stanford Law School’s Center for Internet and Society.  A U.S. lawmaker, Representative Adam Schiff, applauded Twitter’s move.  “Serving as a platform for free expression does not require assisting foreign powers in their efforts to push propaganda, whether by promoted tweets or other means,” Schiff, the top Democrat on the House Intelligence Committee, said in a statement. \n",
            "Predicted: REAL | Actual: REAL\n",
            "\n",
            "News Title: ARMY THREATENS GREEN BERET WAR HERO WITH COURT MARTIAL For Whistleblowing On Failed Hostage Rescue The Army can t be bothered with defending or protecting war heroes, they re too busy with other more pressing issues like ensuring gays are free to come out of the closet and removing any trace of Christianity from our military bases.A Green Beret war hero under investigation for unauthorized communications with Congress will testify on Thursday that the Army is out to court-martial him on criminal charges.Meanwhile, Rep. Duncan Hunter, one of the lawmakers with whom the soldier spoke about Obama administration hostage rescue policies, has asked the Pentagon inspector general to investigate whether the Army is springing allegations against personnel such as the Green Beret as pure retaliation.Lt. Col. Jason Amerine, the Special Forces soldier, is due to testify before the Senate Committee on Homeland Security and Governmental Affairs about what he considers reprisals against him as a whistleblower. After I made protected disclosures to Congress, the Army suspended my clearance, removed me from my job, launched a criminal investigation and deleted my retirement orders with a view to court martial me after I exercised that Constitutional right,  says Col. Amerine, according to partial remarks provided to The Washington Times by Mr. Hunter s office. For nearly five months, I have received no relief from the military and there has been no transparency in their investigation of me. My pay was even stopped briefly after the Army deleted my retirement orders. Mr. Hunter, California Republican and member of the House Armed Services Committee, wrote to Jon T. Rymer, the inspector general, about three soldiers against whom he believed Army Secretary John McHugh retaliated. He asked for an IG investigation into Mr. McHugh s use of the Criminal Investigation Command. Specifically, my concern is that the Army   under the leadership of Secretary of the Army   has used CID for the purpose of influencing actions/outcomes and retaliating against soldiers,  he wrote.He cited three soldiers:  Col. Amerine. The officer worked in a small Army unit at the Pentagon and he devoted himself to developing policies to gain the release of Americans held by Islamic extremists. He came to believe the administration s hostage policies were in disarray and told Mr. Hunter. The congressman proposed legislation to create a hostage coordinator to work with the various agencies involved, such as the FBI, Pentagon and State Department.  Maj. Matt Golsteyn. Also a Green Beret, Maj. Golsteyn saw his valor awards and Special Forces tab stripped by Secretary McHugh. The officer was accused of killing a Taliban bomb-maker, but was never officially charged. He faces a board of inquiry hearing.  Sgt. First Class Earl Plumlee. Sgt. Plumlee was nominated for the Medal of Honor, the nation s highest military award, for repelling an attack on a base in Afghanistan and saving lives. The MOH was endorsed by top commanders, including Marine Gen. Joseph Dunford, the next chairman of the Joint Chiefs of Staff. But Mr. McHugh downgraded the award to a Silver Star. Mr. Hunter said it was based on a  questionable CID investigation. Col. Amerine already has filed a whistleblower retaliation complaint with the IG. The Army probe began after the FBI complained that Col. Amerine was providing information to Congress. I have personally met with the Federal Bureau of Investigation on the developments leading up to the Army investigation,  Mr. Hunter told Mr. Rymer.  An investigation, I firmly believe, was not warranted, but continues to be unjustifiably delayed. Col. Amerine holds a special place in the history of the Afghanistan war. He led a joint Green Beret-Afghan team in the 2001 invasion, and fought along side Hamid Karzai, the future president.An Army spokesman has said,  As a matter of policy, we do not confirm the names of individuals who may or may not be under investigation to protect the integrity of a possible ongoing investigation, as well as the privacy rights of all involved. However, I note that both the law and Army policy would prohibit initiating an investigation based solely on a Soldier s protected communications with.Via: Washington Times \n",
            "Predicted: FAKE | Actual: FAKE\n",
            "\n",
            "News Title: BREAKING: JARED KUSHNER SPEAKS…”I did not collude with Russia” [Video] Jared Kushner just spoke out on being accused of  colluding  with the Russians during the 2016 campaign: President Trump had a better message & ran a smarter campaign. That is why he won. Suggesting otherwise, ridicules those who voted for him. He hit back at the media:THE MEETING WENT  VERY WELL : Jared Kushner said Monday that his closed-door meeting with congressional staff investigating Russian meddling in the presidential election went  very well.  Kushner added as he was leaving the meeting that he answered  as many  questions as the staffers had.Prior to the Monday morning meeting, Kushner released an 11- page statement in which he denied colluding with any foreign government during last year s presidential race. I did not collude, nor know of anyone else in the campaign who colluded, with any foreign government,  Kushner said in the statement. He denied having improper communications with Kremlin officials as well as any knowledge of Trump campaign officials conspiring with Moscow.The closed-door hearing on Capitol Hill came after reports revealed that Kushner joined Donald Trump Jr. and former Trump campaign chairman Paul Manafort in a meeting with a Russian lawyer, who Trump Jr. believed had incriminating information on then-Democratic presidential nominee Hillary Clinton.Kushner is expected to meet with the House Intelligence Committee on Tuesday, which is leading its own investigation into Russia s meddling in the 2016 election.\n",
            "Predicted: FAKE | Actual: FAKE\n",
            "\n",
            "News Title: FAKE NEWS WEEK: Truth, War Propaganda, CIA and Media Manipulation  In response to the establishment media s contrived  fake news  crisis designed to marginalise independent and alternative media sources of news and analysis, 21WIRE is running its own #FakeNewsWeek campaign, where each day our editorial team at 21st Century Wire will feature media critiques and analysis of mainstream corporate media coverage of current events   exposing the government and the mainstream media as the real purveyors of  fake news  throughout modern history The Centre for Research on GlobalizationNever before has it been so important to have independent, honest voices and sources of information. We are   as a society   inundated and overwhelmed with a flood of information from a wide array of sources, but these sources of information, by and large, serve the powerful interests and individuals that own them. The main sources of information, for both public and official consumption, include the mainstream media, alternative media, academia and think tanks.The mainstream media is the most obvious in its inherent bias and manipulation. The mainstream media is owned directly by large multinational corporations, and through their boards of directors are connected with a plethora of other major global corporations and elite interests. An example of these connections can be seen through the board of Time Warner.Time Warner owns Time Magazine, HBO, Warner Bros., and CNN, among many others. The board of directors includes individuals past or presently affiliated with: the Council on Foreign Relations, the IMF, the Rockefeller Brothers Fund, Warburg Pincus, Phillip Morris, and AMR Corporation, among many others.Two of the most  esteemed  sources of news in the U.S. are the New York Times (referred to as  the paper of record ) and the Washington Post. The New York Times has on its board people who are past or presently affiliated with: Schering-Plough International (pharmaceuticals), the John D. and Catherine T. MacArthur Foundation, Chevron Corporation, Wesco Financial Corporation, Kohlberg & Company, The Charles Schwab Corporation, eBay Inc., Xerox, IBM, Ford Motor Company, Eli Lilly & Company, among others. Hardly a bastion of impartiality.And the same could be said for The Washington Post, which has on its board: Lee Bollinger, the President of Columbia University and former Chairman of the Federal Reserve Bank of New York and individuals associated with (past or presently): the Coca-Cola Company, New York University, Conservation International, the Council on Foreign Relations, Xerox, Catalyst, Johnson & Johnson, Target Corporation, RAND Corporation, General Motors, and the Business Council, among others.It is also important to address how the mainstream media is intertwined, often covertly and secretly, with the government. Carl Bernstein, one of the two Washington Post reporters who covered the Watergate scandal, revealed that there were over 400 American journalists who had  secretly carried out assignments for the Central Intelligence Agency. Interestingly,  the use of journalists has been among the most productive means of intelligence-gathering employed by the CIA.  Among organizations which cooperated with the CIA were the  American Broadcasting Company, the National Broadcasting Company, the Associated Press, United Press International, Reuters, Hearst Newspapers, Scripps-Howard, Newsweek magazine, the Mutual Broadcasting System, the Miami Herald and the old Saturday Evening Post and New York Herald-Tribune. By far the most valuable of these associations, according to CIA officials, have been with the New York Times, CBS and Time Inc. The CIA even ran a training program  to teach its agents to be journalists,  who were  then placed in major news organizations with help from management. These types of relationships have continued in the decades since, although perhaps more covertly and quietly than before. For example, it was revealed in 2000 that during the NATO bombing of Kosovo,  several officers from the US Army s 4th Psychological Operations (PSYOPS) Group at Ft. Bragg worked in the news division at CNN s Atlanta headquarters.  This same Army Psyop outfit had  planted stories in the U.S. media supporting the Reagan Administration s Central America policies,  which was described by the Miami Herald as a  vast psychological warfare operation of the kind the military conducts to influence a population in enemy territory.  These Army PSYOP officers also worked at National Public Radio (NPR) at the same time. The US military has, in fact, had a strong relationship with CNN.In 2008, it was reported that the Pentagon ran a major propaganda campaign by using retired Generals and former Pentagon officials to present a good picture of the administration s war-time policies. The program started in the lead-up to the Iraq War in 2003 and continued into 2009. These officials, presented as  military analysts , regurgitate government talking points and often sit on the boards of military contractors, thus having a vested interest in the subjects they are brought on to  analyze. In 2013, Public Accountability reported:During the public debate around the question of whether to attack Syria, Stephen Hadley, former national security adviser to George W. Bush, made a series of high-profile media appearances. Hadley argued strenuously for military intervention in appearances on CNN, MSNBC, Fox News, and Bloomberg TV, and authored a Washington Post op-ed headlined To stop Iran, Obama must enforce red lines with Assad. In each case, Hadley s audience was not informed that he serves as a director of Raytheon, the weapons manufacturer that makes the Tomahawk cruise missiles that were widely cited as a weapon of choice in a potential strike against Syria. Hadley earns $128,500 in annual cash compensation from the company and chairs its public affairs committee. He also owns 11,477 shares of Raytheon stock, which traded at all-time highs during the Syria debate ($77.65 on August 23, making Hadley s share s worth $891,189). Despite this financial stake, Hadley was presented to his audience as an experienced, independent national security expert.The major philanthropic foundations in the United States have often used their enormous wealth to co-opt voices of dissent and movements of resistance into channels that are safe for the powers that be. As McGeorge Bundy, former President of the Ford Foundation once said,  Everything the Foundation does is to make the world safe for Capitalism. Examples of this include philanthropies like the Rockefeller Foundation, Ford Foundation and the John D. and Catherine T. MacArthur Foundation providing immense financial and organizational support to Non-Governmental Organizations. Furthermore, the alternative media are often funded by these same foundations, which has the effect of influencing the direction of coverage as well as the stifling of critical analysis Learn more about the Centre for Research on Globalization and the work of its founder and editor, Professor Michel Chossudovsky, as well how to donate to them at Global Research.ca. The original version of this article was published at Global Research in March 2011. READ MORE ABOUT MSM FAKE NEWS AT: FAKE NEWS WEEKSUPPORT 21WIRE  SUBSCRIBE & BECOME A MEMBER @ 21WIRE.TV\n",
            "Predicted: FAKE | Actual: FAKE\n"
          ]
        }
      ],
      "source": [
        "# Show predictions for first 5 test samples\n",
        "for i in range(5):\n",
        "    print(f\"\\nNews Title: {X_test_raw[i]}\")\n",
        "    predicted_label = \"FAKE\" if bert_test_preds[i] == 0 else \"REAL\"\n",
        "    actual_label = \"FAKE\" if Y_test[i] == 0 else \"REAL\"\n",
        "    print(f\"Predicted: {predicted_label} | Actual: {actual_label}\")"
      ]
    },
    {
      "cell_type": "code",
      "execution_count": 33,
      "id": "e8b2d8d2",
      "metadata": {
        "id": "e8b2d8d2"
      },
      "outputs": [],
      "source": [
        "# Custom Prediction Function\n",
        "def predict_news_bert(news_text):\n",
        "    pred = classifier(news_text)[0]\n",
        "    label = \"FAKE\" if pred['label'] == 'LABEL_0' else \"REAL\"\n",
        "    score = pred['score']\n",
        "\n",
        "    print(\"\\nInput News Title:\")\n",
        "    print(news_text)\n",
        "\n",
        "    print(\"\\nPrediction:\")\n",
        "    print(f\"The news is classified as: {label}\")\n",
        "    print(f\"Confidence Score: {score:.4f}\")"
      ]
    },
    {
      "cell_type": "code",
      "execution_count": 34,
      "id": "80ca7e2e",
      "metadata": {
        "colab": {
          "base_uri": "https://localhost:8080/"
        },
        "id": "80ca7e2e",
        "outputId": "a95c768d-c77b-42f2-ec4f-73b11e1569ea"
      },
      "outputs": [
        {
          "output_type": "stream",
          "name": "stdout",
          "text": [
            "\n",
            "Input News Title:\n",
            "Pfizer and BioNTech announce positive results from late-stage COVID-19 vaccine trial. The companies reported that the vaccine was more than 90% effective in preventing COVID-19 among participants without evidence of prior infection. The Phase 3 clinical trial enrolled 43,538 participants, with no serious safety concerns reported. The vaccine candidate is based on mRNA technology and requires two doses administered three weeks apart. Pfizer plans to seek Emergency Use Authorization from the U.S. FDA. Global health experts have hailed the development as a significant milestone in the fight against the pandemic. Pfizer and BioNTech also confirmed their commitment to equitable global access, including low- and middle-income countries.\n",
            "\n",
            "Prediction:\n",
            "The news is classified as: REAL\n",
            "Confidence Score: 0.5012\n"
          ]
        },
        {
          "output_type": "stream",
          "name": "stderr",
          "text": [
            "/usr/local/lib/python3.11/dist-packages/torch/nn/modules/module.py:1750: FutureWarning: `encoder_attention_mask` is deprecated and will be removed in version 4.55.0 for `RobertaSdpaSelfAttention.forward`.\n",
            "  return forward_call(*args, **kwargs)\n"
          ]
        }
      ],
      "source": [
        "# Example custom input\n",
        "custom_news = \"Pfizer and BioNTech announce positive results from late-stage COVID-19 vaccine trial. The companies reported that the vaccine was more than 90% effective in preventing COVID-19 among participants without evidence of prior infection. The Phase 3 clinical trial enrolled 43,538 participants, with no serious safety concerns reported. The vaccine candidate is based on mRNA technology and requires two doses administered three weeks apart. Pfizer plans to seek Emergency Use Authorization from the U.S. FDA. Global health experts have hailed the development as a significant milestone in the fight against the pandemic. Pfizer and BioNTech also confirmed their commitment to equitable global access, including low- and middle-income countries.\"\n",
        "predict_news_bert(custom_news)"
      ]
    },
    {
      "cell_type": "code",
      "execution_count": 35,
      "id": "0abe5cc4",
      "metadata": {
        "colab": {
          "base_uri": "https://localhost:8080/"
        },
        "id": "0abe5cc4",
        "outputId": "01f7befd-8a0b-45ba-84d1-0f1c2e592650"
      },
      "outputs": [
        {
          "output_type": "stream",
          "name": "stdout",
          "text": [
            "\n",
            "Input News Title:\n",
            "Government confirms lizard people control major banks and media. In a shocking revelation, the Prime Minister's office released a statement confirming the existence of reptilian humanoids infiltrating global financial institutions and news networks. These shape-shifting beings, originating from the Draco constellation, have allegedly been manipulating world events for decades. The statement claims their ultimate goal is to enslave humanity and establish a New World Order. The Ministry of Defense has deployed elite units to capture and expose the reptilians, promising transparency and public safety in the coming weeks. Meanwhile, conspiracy theorists claim they were right all along.\n",
            "\n",
            "Prediction:\n",
            "The news is classified as: FAKE\n",
            "Confidence Score: 0.9993\n"
          ]
        }
      ],
      "source": [
        "# Example custom input\n",
        "custom_news = \"Government confirms lizard people control major banks and media. In a shocking revelation, the Prime Minister's office released a statement confirming the existence of reptilian humanoids infiltrating global financial institutions and news networks. These shape-shifting beings, originating from the Draco constellation, have allegedly been manipulating world events for decades. The statement claims their ultimate goal is to enslave humanity and establish a New World Order. The Ministry of Defense has deployed elite units to capture and expose the reptilians, promising transparency and public safety in the coming weeks. Meanwhile, conspiracy theorists claim they were right all along.\"\n",
        "predict_news_bert(custom_news)"
      ]
    },
    {
      "cell_type": "code",
      "execution_count": 35,
      "id": "J-rV5qx6LGOn",
      "metadata": {
        "id": "J-rV5qx6LGOn"
      },
      "outputs": [],
      "source": []
    }
  ],
  "metadata": {
    "accelerator": "GPU",
    "colab": {
      "gpuType": "T4",
      "provenance": []
    },
    "kernelspec": {
      "display_name": "Python 3",
      "name": "python3"
    },
    "language_info": {
      "codemirror_mode": {
        "name": "ipython",
        "version": 3
      },
      "file_extension": ".py",
      "mimetype": "text/x-python",
      "name": "python",
      "nbconvert_exporter": "python",
      "pygments_lexer": "ipython3",
      "version": "3.9.20"
    },
    "widgets": {
      "state": {},
      "application/vnd.jupyter.widget-state+json": {
        "80f11f1ec77d4d7eab9e968b770fa5b1": {
          "model_module": "@jupyter-widgets/controls",
          "model_name": "HBoxModel",
          "model_module_version": "1.5.0",
          "state": {
            "_dom_classes": [],
            "_model_module": "@jupyter-widgets/controls",
            "_model_module_version": "1.5.0",
            "_model_name": "HBoxModel",
            "_view_count": null,
            "_view_module": "@jupyter-widgets/controls",
            "_view_module_version": "1.5.0",
            "_view_name": "HBoxView",
            "box_style": "",
            "children": [
              "IPY_MODEL_a6133cdce30d434a9cb3ca05a3aaad9d",
              "IPY_MODEL_aa216b85498845f08c3e580c9259cbad",
              "IPY_MODEL_81bbfe6f21e348c9894e88368eaa1d02"
            ],
            "layout": "IPY_MODEL_b91782775af54f53ae41395fda38c758"
          }
        },
        "a6133cdce30d434a9cb3ca05a3aaad9d": {
          "model_module": "@jupyter-widgets/controls",
          "model_name": "HTMLModel",
          "model_module_version": "1.5.0",
          "state": {
            "_dom_classes": [],
            "_model_module": "@jupyter-widgets/controls",
            "_model_module_version": "1.5.0",
            "_model_name": "HTMLModel",
            "_view_count": null,
            "_view_module": "@jupyter-widgets/controls",
            "_view_module_version": "1.5.0",
            "_view_name": "HTMLView",
            "description": "",
            "description_tooltip": null,
            "layout": "IPY_MODEL_8169b2b18f0342ceb8eeca259044afb6",
            "placeholder": "​",
            "style": "IPY_MODEL_88e2984b4ace454f813df8f8ed03975a",
            "value": "tokenizer_config.json: "
          }
        },
        "aa216b85498845f08c3e580c9259cbad": {
          "model_module": "@jupyter-widgets/controls",
          "model_name": "FloatProgressModel",
          "model_module_version": "1.5.0",
          "state": {
            "_dom_classes": [],
            "_model_module": "@jupyter-widgets/controls",
            "_model_module_version": "1.5.0",
            "_model_name": "FloatProgressModel",
            "_view_count": null,
            "_view_module": "@jupyter-widgets/controls",
            "_view_module_version": "1.5.0",
            "_view_name": "ProgressView",
            "bar_style": "success",
            "description": "",
            "description_tooltip": null,
            "layout": "IPY_MODEL_ac1b8ddd81a242b59d9e01e8372c815e",
            "max": 1,
            "min": 0,
            "orientation": "horizontal",
            "style": "IPY_MODEL_51a0b832e33e40429c583ac1eae95a48",
            "value": 1
          }
        },
        "81bbfe6f21e348c9894e88368eaa1d02": {
          "model_module": "@jupyter-widgets/controls",
          "model_name": "HTMLModel",
          "model_module_version": "1.5.0",
          "state": {
            "_dom_classes": [],
            "_model_module": "@jupyter-widgets/controls",
            "_model_module_version": "1.5.0",
            "_model_name": "HTMLModel",
            "_view_count": null,
            "_view_module": "@jupyter-widgets/controls",
            "_view_module_version": "1.5.0",
            "_view_name": "HTMLView",
            "description": "",
            "description_tooltip": null,
            "layout": "IPY_MODEL_78f2430f77cc4165990ad36c8e6b3ce0",
            "placeholder": "​",
            "style": "IPY_MODEL_83ebdab25cc94ebfb9b91b64b48afbdf",
            "value": " 1.14k/? [00:00&lt;00:00, 82.3kB/s]"
          }
        },
        "b91782775af54f53ae41395fda38c758": {
          "model_module": "@jupyter-widgets/base",
          "model_name": "LayoutModel",
          "model_module_version": "1.2.0",
          "state": {
            "_model_module": "@jupyter-widgets/base",
            "_model_module_version": "1.2.0",
            "_model_name": "LayoutModel",
            "_view_count": null,
            "_view_module": "@jupyter-widgets/base",
            "_view_module_version": "1.2.0",
            "_view_name": "LayoutView",
            "align_content": null,
            "align_items": null,
            "align_self": null,
            "border": null,
            "bottom": null,
            "display": null,
            "flex": null,
            "flex_flow": null,
            "grid_area": null,
            "grid_auto_columns": null,
            "grid_auto_flow": null,
            "grid_auto_rows": null,
            "grid_column": null,
            "grid_gap": null,
            "grid_row": null,
            "grid_template_areas": null,
            "grid_template_columns": null,
            "grid_template_rows": null,
            "height": null,
            "justify_content": null,
            "justify_items": null,
            "left": null,
            "margin": null,
            "max_height": null,
            "max_width": null,
            "min_height": null,
            "min_width": null,
            "object_fit": null,
            "object_position": null,
            "order": null,
            "overflow": null,
            "overflow_x": null,
            "overflow_y": null,
            "padding": null,
            "right": null,
            "top": null,
            "visibility": null,
            "width": null
          }
        },
        "8169b2b18f0342ceb8eeca259044afb6": {
          "model_module": "@jupyter-widgets/base",
          "model_name": "LayoutModel",
          "model_module_version": "1.2.0",
          "state": {
            "_model_module": "@jupyter-widgets/base",
            "_model_module_version": "1.2.0",
            "_model_name": "LayoutModel",
            "_view_count": null,
            "_view_module": "@jupyter-widgets/base",
            "_view_module_version": "1.2.0",
            "_view_name": "LayoutView",
            "align_content": null,
            "align_items": null,
            "align_self": null,
            "border": null,
            "bottom": null,
            "display": null,
            "flex": null,
            "flex_flow": null,
            "grid_area": null,
            "grid_auto_columns": null,
            "grid_auto_flow": null,
            "grid_auto_rows": null,
            "grid_column": null,
            "grid_gap": null,
            "grid_row": null,
            "grid_template_areas": null,
            "grid_template_columns": null,
            "grid_template_rows": null,
            "height": null,
            "justify_content": null,
            "justify_items": null,
            "left": null,
            "margin": null,
            "max_height": null,
            "max_width": null,
            "min_height": null,
            "min_width": null,
            "object_fit": null,
            "object_position": null,
            "order": null,
            "overflow": null,
            "overflow_x": null,
            "overflow_y": null,
            "padding": null,
            "right": null,
            "top": null,
            "visibility": null,
            "width": null
          }
        },
        "88e2984b4ace454f813df8f8ed03975a": {
          "model_module": "@jupyter-widgets/controls",
          "model_name": "DescriptionStyleModel",
          "model_module_version": "1.5.0",
          "state": {
            "_model_module": "@jupyter-widgets/controls",
            "_model_module_version": "1.5.0",
            "_model_name": "DescriptionStyleModel",
            "_view_count": null,
            "_view_module": "@jupyter-widgets/base",
            "_view_module_version": "1.2.0",
            "_view_name": "StyleView",
            "description_width": ""
          }
        },
        "ac1b8ddd81a242b59d9e01e8372c815e": {
          "model_module": "@jupyter-widgets/base",
          "model_name": "LayoutModel",
          "model_module_version": "1.2.0",
          "state": {
            "_model_module": "@jupyter-widgets/base",
            "_model_module_version": "1.2.0",
            "_model_name": "LayoutModel",
            "_view_count": null,
            "_view_module": "@jupyter-widgets/base",
            "_view_module_version": "1.2.0",
            "_view_name": "LayoutView",
            "align_content": null,
            "align_items": null,
            "align_self": null,
            "border": null,
            "bottom": null,
            "display": null,
            "flex": null,
            "flex_flow": null,
            "grid_area": null,
            "grid_auto_columns": null,
            "grid_auto_flow": null,
            "grid_auto_rows": null,
            "grid_column": null,
            "grid_gap": null,
            "grid_row": null,
            "grid_template_areas": null,
            "grid_template_columns": null,
            "grid_template_rows": null,
            "height": null,
            "justify_content": null,
            "justify_items": null,
            "left": null,
            "margin": null,
            "max_height": null,
            "max_width": null,
            "min_height": null,
            "min_width": null,
            "object_fit": null,
            "object_position": null,
            "order": null,
            "overflow": null,
            "overflow_x": null,
            "overflow_y": null,
            "padding": null,
            "right": null,
            "top": null,
            "visibility": null,
            "width": "20px"
          }
        },
        "51a0b832e33e40429c583ac1eae95a48": {
          "model_module": "@jupyter-widgets/controls",
          "model_name": "ProgressStyleModel",
          "model_module_version": "1.5.0",
          "state": {
            "_model_module": "@jupyter-widgets/controls",
            "_model_module_version": "1.5.0",
            "_model_name": "ProgressStyleModel",
            "_view_count": null,
            "_view_module": "@jupyter-widgets/base",
            "_view_module_version": "1.2.0",
            "_view_name": "StyleView",
            "bar_color": null,
            "description_width": ""
          }
        },
        "78f2430f77cc4165990ad36c8e6b3ce0": {
          "model_module": "@jupyter-widgets/base",
          "model_name": "LayoutModel",
          "model_module_version": "1.2.0",
          "state": {
            "_model_module": "@jupyter-widgets/base",
            "_model_module_version": "1.2.0",
            "_model_name": "LayoutModel",
            "_view_count": null,
            "_view_module": "@jupyter-widgets/base",
            "_view_module_version": "1.2.0",
            "_view_name": "LayoutView",
            "align_content": null,
            "align_items": null,
            "align_self": null,
            "border": null,
            "bottom": null,
            "display": null,
            "flex": null,
            "flex_flow": null,
            "grid_area": null,
            "grid_auto_columns": null,
            "grid_auto_flow": null,
            "grid_auto_rows": null,
            "grid_column": null,
            "grid_gap": null,
            "grid_row": null,
            "grid_template_areas": null,
            "grid_template_columns": null,
            "grid_template_rows": null,
            "height": null,
            "justify_content": null,
            "justify_items": null,
            "left": null,
            "margin": null,
            "max_height": null,
            "max_width": null,
            "min_height": null,
            "min_width": null,
            "object_fit": null,
            "object_position": null,
            "order": null,
            "overflow": null,
            "overflow_x": null,
            "overflow_y": null,
            "padding": null,
            "right": null,
            "top": null,
            "visibility": null,
            "width": null
          }
        },
        "83ebdab25cc94ebfb9b91b64b48afbdf": {
          "model_module": "@jupyter-widgets/controls",
          "model_name": "DescriptionStyleModel",
          "model_module_version": "1.5.0",
          "state": {
            "_model_module": "@jupyter-widgets/controls",
            "_model_module_version": "1.5.0",
            "_model_name": "DescriptionStyleModel",
            "_view_count": null,
            "_view_module": "@jupyter-widgets/base",
            "_view_module_version": "1.2.0",
            "_view_name": "StyleView",
            "description_width": ""
          }
        },
        "d2ee75a543334b8c8293fbb2302a570a": {
          "model_module": "@jupyter-widgets/controls",
          "model_name": "HBoxModel",
          "model_module_version": "1.5.0",
          "state": {
            "_dom_classes": [],
            "_model_module": "@jupyter-widgets/controls",
            "_model_module_version": "1.5.0",
            "_model_name": "HBoxModel",
            "_view_count": null,
            "_view_module": "@jupyter-widgets/controls",
            "_view_module_version": "1.5.0",
            "_view_name": "HBoxView",
            "box_style": "",
            "children": [
              "IPY_MODEL_87699ca3b909474182421b75676872b3",
              "IPY_MODEL_d2f763f76f384cb1aff4c1c54c509d11",
              "IPY_MODEL_e5f736e787404ea3b5a9603b47c4aab2"
            ],
            "layout": "IPY_MODEL_dcb283fd1ef54a6ea2927eb12ef85391"
          }
        },
        "87699ca3b909474182421b75676872b3": {
          "model_module": "@jupyter-widgets/controls",
          "model_name": "HTMLModel",
          "model_module_version": "1.5.0",
          "state": {
            "_dom_classes": [],
            "_model_module": "@jupyter-widgets/controls",
            "_model_module_version": "1.5.0",
            "_model_name": "HTMLModel",
            "_view_count": null,
            "_view_module": "@jupyter-widgets/controls",
            "_view_module_version": "1.5.0",
            "_view_name": "HTMLView",
            "description": "",
            "description_tooltip": null,
            "layout": "IPY_MODEL_ff8782d7fcd64d7fb0cfc9fa57138968",
            "placeholder": "​",
            "style": "IPY_MODEL_47490516e8574438b087bfce94b014dd",
            "value": "vocab.json: "
          }
        },
        "d2f763f76f384cb1aff4c1c54c509d11": {
          "model_module": "@jupyter-widgets/controls",
          "model_name": "FloatProgressModel",
          "model_module_version": "1.5.0",
          "state": {
            "_dom_classes": [],
            "_model_module": "@jupyter-widgets/controls",
            "_model_module_version": "1.5.0",
            "_model_name": "FloatProgressModel",
            "_view_count": null,
            "_view_module": "@jupyter-widgets/controls",
            "_view_module_version": "1.5.0",
            "_view_name": "ProgressView",
            "bar_style": "success",
            "description": "",
            "description_tooltip": null,
            "layout": "IPY_MODEL_459f7c78512a4d48afcddb7736fca882",
            "max": 1,
            "min": 0,
            "orientation": "horizontal",
            "style": "IPY_MODEL_84d1884737d14f769a62971e77bc0bfa",
            "value": 1
          }
        },
        "e5f736e787404ea3b5a9603b47c4aab2": {
          "model_module": "@jupyter-widgets/controls",
          "model_name": "HTMLModel",
          "model_module_version": "1.5.0",
          "state": {
            "_dom_classes": [],
            "_model_module": "@jupyter-widgets/controls",
            "_model_module_version": "1.5.0",
            "_model_name": "HTMLModel",
            "_view_count": null,
            "_view_module": "@jupyter-widgets/controls",
            "_view_module_version": "1.5.0",
            "_view_name": "HTMLView",
            "description": "",
            "description_tooltip": null,
            "layout": "IPY_MODEL_33d08013e1534b1aaf536fec7b78bd1f",
            "placeholder": "​",
            "style": "IPY_MODEL_99d7f25675a34ca395cd447154b4a761",
            "value": " 899k/? [00:00&lt;00:00, 16.3MB/s]"
          }
        },
        "dcb283fd1ef54a6ea2927eb12ef85391": {
          "model_module": "@jupyter-widgets/base",
          "model_name": "LayoutModel",
          "model_module_version": "1.2.0",
          "state": {
            "_model_module": "@jupyter-widgets/base",
            "_model_module_version": "1.2.0",
            "_model_name": "LayoutModel",
            "_view_count": null,
            "_view_module": "@jupyter-widgets/base",
            "_view_module_version": "1.2.0",
            "_view_name": "LayoutView",
            "align_content": null,
            "align_items": null,
            "align_self": null,
            "border": null,
            "bottom": null,
            "display": null,
            "flex": null,
            "flex_flow": null,
            "grid_area": null,
            "grid_auto_columns": null,
            "grid_auto_flow": null,
            "grid_auto_rows": null,
            "grid_column": null,
            "grid_gap": null,
            "grid_row": null,
            "grid_template_areas": null,
            "grid_template_columns": null,
            "grid_template_rows": null,
            "height": null,
            "justify_content": null,
            "justify_items": null,
            "left": null,
            "margin": null,
            "max_height": null,
            "max_width": null,
            "min_height": null,
            "min_width": null,
            "object_fit": null,
            "object_position": null,
            "order": null,
            "overflow": null,
            "overflow_x": null,
            "overflow_y": null,
            "padding": null,
            "right": null,
            "top": null,
            "visibility": null,
            "width": null
          }
        },
        "ff8782d7fcd64d7fb0cfc9fa57138968": {
          "model_module": "@jupyter-widgets/base",
          "model_name": "LayoutModel",
          "model_module_version": "1.2.0",
          "state": {
            "_model_module": "@jupyter-widgets/base",
            "_model_module_version": "1.2.0",
            "_model_name": "LayoutModel",
            "_view_count": null,
            "_view_module": "@jupyter-widgets/base",
            "_view_module_version": "1.2.0",
            "_view_name": "LayoutView",
            "align_content": null,
            "align_items": null,
            "align_self": null,
            "border": null,
            "bottom": null,
            "display": null,
            "flex": null,
            "flex_flow": null,
            "grid_area": null,
            "grid_auto_columns": null,
            "grid_auto_flow": null,
            "grid_auto_rows": null,
            "grid_column": null,
            "grid_gap": null,
            "grid_row": null,
            "grid_template_areas": null,
            "grid_template_columns": null,
            "grid_template_rows": null,
            "height": null,
            "justify_content": null,
            "justify_items": null,
            "left": null,
            "margin": null,
            "max_height": null,
            "max_width": null,
            "min_height": null,
            "min_width": null,
            "object_fit": null,
            "object_position": null,
            "order": null,
            "overflow": null,
            "overflow_x": null,
            "overflow_y": null,
            "padding": null,
            "right": null,
            "top": null,
            "visibility": null,
            "width": null
          }
        },
        "47490516e8574438b087bfce94b014dd": {
          "model_module": "@jupyter-widgets/controls",
          "model_name": "DescriptionStyleModel",
          "model_module_version": "1.5.0",
          "state": {
            "_model_module": "@jupyter-widgets/controls",
            "_model_module_version": "1.5.0",
            "_model_name": "DescriptionStyleModel",
            "_view_count": null,
            "_view_module": "@jupyter-widgets/base",
            "_view_module_version": "1.2.0",
            "_view_name": "StyleView",
            "description_width": ""
          }
        },
        "459f7c78512a4d48afcddb7736fca882": {
          "model_module": "@jupyter-widgets/base",
          "model_name": "LayoutModel",
          "model_module_version": "1.2.0",
          "state": {
            "_model_module": "@jupyter-widgets/base",
            "_model_module_version": "1.2.0",
            "_model_name": "LayoutModel",
            "_view_count": null,
            "_view_module": "@jupyter-widgets/base",
            "_view_module_version": "1.2.0",
            "_view_name": "LayoutView",
            "align_content": null,
            "align_items": null,
            "align_self": null,
            "border": null,
            "bottom": null,
            "display": null,
            "flex": null,
            "flex_flow": null,
            "grid_area": null,
            "grid_auto_columns": null,
            "grid_auto_flow": null,
            "grid_auto_rows": null,
            "grid_column": null,
            "grid_gap": null,
            "grid_row": null,
            "grid_template_areas": null,
            "grid_template_columns": null,
            "grid_template_rows": null,
            "height": null,
            "justify_content": null,
            "justify_items": null,
            "left": null,
            "margin": null,
            "max_height": null,
            "max_width": null,
            "min_height": null,
            "min_width": null,
            "object_fit": null,
            "object_position": null,
            "order": null,
            "overflow": null,
            "overflow_x": null,
            "overflow_y": null,
            "padding": null,
            "right": null,
            "top": null,
            "visibility": null,
            "width": "20px"
          }
        },
        "84d1884737d14f769a62971e77bc0bfa": {
          "model_module": "@jupyter-widgets/controls",
          "model_name": "ProgressStyleModel",
          "model_module_version": "1.5.0",
          "state": {
            "_model_module": "@jupyter-widgets/controls",
            "_model_module_version": "1.5.0",
            "_model_name": "ProgressStyleModel",
            "_view_count": null,
            "_view_module": "@jupyter-widgets/base",
            "_view_module_version": "1.2.0",
            "_view_name": "StyleView",
            "bar_color": null,
            "description_width": ""
          }
        },
        "33d08013e1534b1aaf536fec7b78bd1f": {
          "model_module": "@jupyter-widgets/base",
          "model_name": "LayoutModel",
          "model_module_version": "1.2.0",
          "state": {
            "_model_module": "@jupyter-widgets/base",
            "_model_module_version": "1.2.0",
            "_model_name": "LayoutModel",
            "_view_count": null,
            "_view_module": "@jupyter-widgets/base",
            "_view_module_version": "1.2.0",
            "_view_name": "LayoutView",
            "align_content": null,
            "align_items": null,
            "align_self": null,
            "border": null,
            "bottom": null,
            "display": null,
            "flex": null,
            "flex_flow": null,
            "grid_area": null,
            "grid_auto_columns": null,
            "grid_auto_flow": null,
            "grid_auto_rows": null,
            "grid_column": null,
            "grid_gap": null,
            "grid_row": null,
            "grid_template_areas": null,
            "grid_template_columns": null,
            "grid_template_rows": null,
            "height": null,
            "justify_content": null,
            "justify_items": null,
            "left": null,
            "margin": null,
            "max_height": null,
            "max_width": null,
            "min_height": null,
            "min_width": null,
            "object_fit": null,
            "object_position": null,
            "order": null,
            "overflow": null,
            "overflow_x": null,
            "overflow_y": null,
            "padding": null,
            "right": null,
            "top": null,
            "visibility": null,
            "width": null
          }
        },
        "99d7f25675a34ca395cd447154b4a761": {
          "model_module": "@jupyter-widgets/controls",
          "model_name": "DescriptionStyleModel",
          "model_module_version": "1.5.0",
          "state": {
            "_model_module": "@jupyter-widgets/controls",
            "_model_module_version": "1.5.0",
            "_model_name": "DescriptionStyleModel",
            "_view_count": null,
            "_view_module": "@jupyter-widgets/base",
            "_view_module_version": "1.2.0",
            "_view_name": "StyleView",
            "description_width": ""
          }
        },
        "9012ce5af3cc4de2a751e40316462243": {
          "model_module": "@jupyter-widgets/controls",
          "model_name": "HBoxModel",
          "model_module_version": "1.5.0",
          "state": {
            "_dom_classes": [],
            "_model_module": "@jupyter-widgets/controls",
            "_model_module_version": "1.5.0",
            "_model_name": "HBoxModel",
            "_view_count": null,
            "_view_module": "@jupyter-widgets/controls",
            "_view_module_version": "1.5.0",
            "_view_name": "HBoxView",
            "box_style": "",
            "children": [
              "IPY_MODEL_4e11fcb8235c4f3c9a0355d822febda3",
              "IPY_MODEL_355e78b6cc2a40dca4860cbf40fcf7e3",
              "IPY_MODEL_d9c7accf12da4bc391b02034ac0abb98"
            ],
            "layout": "IPY_MODEL_53ba5c0366564efbacd2b01e462e9226"
          }
        },
        "4e11fcb8235c4f3c9a0355d822febda3": {
          "model_module": "@jupyter-widgets/controls",
          "model_name": "HTMLModel",
          "model_module_version": "1.5.0",
          "state": {
            "_dom_classes": [],
            "_model_module": "@jupyter-widgets/controls",
            "_model_module_version": "1.5.0",
            "_model_name": "HTMLModel",
            "_view_count": null,
            "_view_module": "@jupyter-widgets/controls",
            "_view_module_version": "1.5.0",
            "_view_name": "HTMLView",
            "description": "",
            "description_tooltip": null,
            "layout": "IPY_MODEL_8d8b2103ef564c57ac67dc2b40a3243b",
            "placeholder": "​",
            "style": "IPY_MODEL_6f714fdaa0004eb39286ff7b0135371e",
            "value": "merges.txt: "
          }
        },
        "355e78b6cc2a40dca4860cbf40fcf7e3": {
          "model_module": "@jupyter-widgets/controls",
          "model_name": "FloatProgressModel",
          "model_module_version": "1.5.0",
          "state": {
            "_dom_classes": [],
            "_model_module": "@jupyter-widgets/controls",
            "_model_module_version": "1.5.0",
            "_model_name": "FloatProgressModel",
            "_view_count": null,
            "_view_module": "@jupyter-widgets/controls",
            "_view_module_version": "1.5.0",
            "_view_name": "ProgressView",
            "bar_style": "success",
            "description": "",
            "description_tooltip": null,
            "layout": "IPY_MODEL_94c69ebc00c04568be4022d240d72a12",
            "max": 1,
            "min": 0,
            "orientation": "horizontal",
            "style": "IPY_MODEL_b077971c17fe4e1ba68eb808f64750af",
            "value": 1
          }
        },
        "d9c7accf12da4bc391b02034ac0abb98": {
          "model_module": "@jupyter-widgets/controls",
          "model_name": "HTMLModel",
          "model_module_version": "1.5.0",
          "state": {
            "_dom_classes": [],
            "_model_module": "@jupyter-widgets/controls",
            "_model_module_version": "1.5.0",
            "_model_name": "HTMLModel",
            "_view_count": null,
            "_view_module": "@jupyter-widgets/controls",
            "_view_module_version": "1.5.0",
            "_view_name": "HTMLView",
            "description": "",
            "description_tooltip": null,
            "layout": "IPY_MODEL_c04cf34090b848fc9b951c1248372534",
            "placeholder": "​",
            "style": "IPY_MODEL_821d567a69b54f0caca0fb9cf545dbcb",
            "value": " 456k/? [00:00&lt;00:00, 25.0MB/s]"
          }
        },
        "53ba5c0366564efbacd2b01e462e9226": {
          "model_module": "@jupyter-widgets/base",
          "model_name": "LayoutModel",
          "model_module_version": "1.2.0",
          "state": {
            "_model_module": "@jupyter-widgets/base",
            "_model_module_version": "1.2.0",
            "_model_name": "LayoutModel",
            "_view_count": null,
            "_view_module": "@jupyter-widgets/base",
            "_view_module_version": "1.2.0",
            "_view_name": "LayoutView",
            "align_content": null,
            "align_items": null,
            "align_self": null,
            "border": null,
            "bottom": null,
            "display": null,
            "flex": null,
            "flex_flow": null,
            "grid_area": null,
            "grid_auto_columns": null,
            "grid_auto_flow": null,
            "grid_auto_rows": null,
            "grid_column": null,
            "grid_gap": null,
            "grid_row": null,
            "grid_template_areas": null,
            "grid_template_columns": null,
            "grid_template_rows": null,
            "height": null,
            "justify_content": null,
            "justify_items": null,
            "left": null,
            "margin": null,
            "max_height": null,
            "max_width": null,
            "min_height": null,
            "min_width": null,
            "object_fit": null,
            "object_position": null,
            "order": null,
            "overflow": null,
            "overflow_x": null,
            "overflow_y": null,
            "padding": null,
            "right": null,
            "top": null,
            "visibility": null,
            "width": null
          }
        },
        "8d8b2103ef564c57ac67dc2b40a3243b": {
          "model_module": "@jupyter-widgets/base",
          "model_name": "LayoutModel",
          "model_module_version": "1.2.0",
          "state": {
            "_model_module": "@jupyter-widgets/base",
            "_model_module_version": "1.2.0",
            "_model_name": "LayoutModel",
            "_view_count": null,
            "_view_module": "@jupyter-widgets/base",
            "_view_module_version": "1.2.0",
            "_view_name": "LayoutView",
            "align_content": null,
            "align_items": null,
            "align_self": null,
            "border": null,
            "bottom": null,
            "display": null,
            "flex": null,
            "flex_flow": null,
            "grid_area": null,
            "grid_auto_columns": null,
            "grid_auto_flow": null,
            "grid_auto_rows": null,
            "grid_column": null,
            "grid_gap": null,
            "grid_row": null,
            "grid_template_areas": null,
            "grid_template_columns": null,
            "grid_template_rows": null,
            "height": null,
            "justify_content": null,
            "justify_items": null,
            "left": null,
            "margin": null,
            "max_height": null,
            "max_width": null,
            "min_height": null,
            "min_width": null,
            "object_fit": null,
            "object_position": null,
            "order": null,
            "overflow": null,
            "overflow_x": null,
            "overflow_y": null,
            "padding": null,
            "right": null,
            "top": null,
            "visibility": null,
            "width": null
          }
        },
        "6f714fdaa0004eb39286ff7b0135371e": {
          "model_module": "@jupyter-widgets/controls",
          "model_name": "DescriptionStyleModel",
          "model_module_version": "1.5.0",
          "state": {
            "_model_module": "@jupyter-widgets/controls",
            "_model_module_version": "1.5.0",
            "_model_name": "DescriptionStyleModel",
            "_view_count": null,
            "_view_module": "@jupyter-widgets/base",
            "_view_module_version": "1.2.0",
            "_view_name": "StyleView",
            "description_width": ""
          }
        },
        "94c69ebc00c04568be4022d240d72a12": {
          "model_module": "@jupyter-widgets/base",
          "model_name": "LayoutModel",
          "model_module_version": "1.2.0",
          "state": {
            "_model_module": "@jupyter-widgets/base",
            "_model_module_version": "1.2.0",
            "_model_name": "LayoutModel",
            "_view_count": null,
            "_view_module": "@jupyter-widgets/base",
            "_view_module_version": "1.2.0",
            "_view_name": "LayoutView",
            "align_content": null,
            "align_items": null,
            "align_self": null,
            "border": null,
            "bottom": null,
            "display": null,
            "flex": null,
            "flex_flow": null,
            "grid_area": null,
            "grid_auto_columns": null,
            "grid_auto_flow": null,
            "grid_auto_rows": null,
            "grid_column": null,
            "grid_gap": null,
            "grid_row": null,
            "grid_template_areas": null,
            "grid_template_columns": null,
            "grid_template_rows": null,
            "height": null,
            "justify_content": null,
            "justify_items": null,
            "left": null,
            "margin": null,
            "max_height": null,
            "max_width": null,
            "min_height": null,
            "min_width": null,
            "object_fit": null,
            "object_position": null,
            "order": null,
            "overflow": null,
            "overflow_x": null,
            "overflow_y": null,
            "padding": null,
            "right": null,
            "top": null,
            "visibility": null,
            "width": "20px"
          }
        },
        "b077971c17fe4e1ba68eb808f64750af": {
          "model_module": "@jupyter-widgets/controls",
          "model_name": "ProgressStyleModel",
          "model_module_version": "1.5.0",
          "state": {
            "_model_module": "@jupyter-widgets/controls",
            "_model_module_version": "1.5.0",
            "_model_name": "ProgressStyleModel",
            "_view_count": null,
            "_view_module": "@jupyter-widgets/base",
            "_view_module_version": "1.2.0",
            "_view_name": "StyleView",
            "bar_color": null,
            "description_width": ""
          }
        },
        "c04cf34090b848fc9b951c1248372534": {
          "model_module": "@jupyter-widgets/base",
          "model_name": "LayoutModel",
          "model_module_version": "1.2.0",
          "state": {
            "_model_module": "@jupyter-widgets/base",
            "_model_module_version": "1.2.0",
            "_model_name": "LayoutModel",
            "_view_count": null,
            "_view_module": "@jupyter-widgets/base",
            "_view_module_version": "1.2.0",
            "_view_name": "LayoutView",
            "align_content": null,
            "align_items": null,
            "align_self": null,
            "border": null,
            "bottom": null,
            "display": null,
            "flex": null,
            "flex_flow": null,
            "grid_area": null,
            "grid_auto_columns": null,
            "grid_auto_flow": null,
            "grid_auto_rows": null,
            "grid_column": null,
            "grid_gap": null,
            "grid_row": null,
            "grid_template_areas": null,
            "grid_template_columns": null,
            "grid_template_rows": null,
            "height": null,
            "justify_content": null,
            "justify_items": null,
            "left": null,
            "margin": null,
            "max_height": null,
            "max_width": null,
            "min_height": null,
            "min_width": null,
            "object_fit": null,
            "object_position": null,
            "order": null,
            "overflow": null,
            "overflow_x": null,
            "overflow_y": null,
            "padding": null,
            "right": null,
            "top": null,
            "visibility": null,
            "width": null
          }
        },
        "821d567a69b54f0caca0fb9cf545dbcb": {
          "model_module": "@jupyter-widgets/controls",
          "model_name": "DescriptionStyleModel",
          "model_module_version": "1.5.0",
          "state": {
            "_model_module": "@jupyter-widgets/controls",
            "_model_module_version": "1.5.0",
            "_model_name": "DescriptionStyleModel",
            "_view_count": null,
            "_view_module": "@jupyter-widgets/base",
            "_view_module_version": "1.2.0",
            "_view_name": "StyleView",
            "description_width": ""
          }
        },
        "6fc967c541e840ba956247a908405d9e": {
          "model_module": "@jupyter-widgets/controls",
          "model_name": "HBoxModel",
          "model_module_version": "1.5.0",
          "state": {
            "_dom_classes": [],
            "_model_module": "@jupyter-widgets/controls",
            "_model_module_version": "1.5.0",
            "_model_name": "HBoxModel",
            "_view_count": null,
            "_view_module": "@jupyter-widgets/controls",
            "_view_module_version": "1.5.0",
            "_view_name": "HBoxView",
            "box_style": "",
            "children": [
              "IPY_MODEL_a03c2466cc044110a00e713a7ea85fb2",
              "IPY_MODEL_ce5434b5630d4a9a9ca22b2c1ec5b7ba",
              "IPY_MODEL_710af6421642437484d9e216cc698056"
            ],
            "layout": "IPY_MODEL_b06121fe1dd342ef9da980d57b8ea98b"
          }
        },
        "a03c2466cc044110a00e713a7ea85fb2": {
          "model_module": "@jupyter-widgets/controls",
          "model_name": "HTMLModel",
          "model_module_version": "1.5.0",
          "state": {
            "_dom_classes": [],
            "_model_module": "@jupyter-widgets/controls",
            "_model_module_version": "1.5.0",
            "_model_name": "HTMLModel",
            "_view_count": null,
            "_view_module": "@jupyter-widgets/controls",
            "_view_module_version": "1.5.0",
            "_view_name": "HTMLView",
            "description": "",
            "description_tooltip": null,
            "layout": "IPY_MODEL_94ac032592284b96b5112eff715b6f50",
            "placeholder": "​",
            "style": "IPY_MODEL_2d719e6e77b643548ea24104c3216275",
            "value": "special_tokens_map.json: 100%"
          }
        },
        "ce5434b5630d4a9a9ca22b2c1ec5b7ba": {
          "model_module": "@jupyter-widgets/controls",
          "model_name": "FloatProgressModel",
          "model_module_version": "1.5.0",
          "state": {
            "_dom_classes": [],
            "_model_module": "@jupyter-widgets/controls",
            "_model_module_version": "1.5.0",
            "_model_name": "FloatProgressModel",
            "_view_count": null,
            "_view_module": "@jupyter-widgets/controls",
            "_view_module_version": "1.5.0",
            "_view_name": "ProgressView",
            "bar_style": "success",
            "description": "",
            "description_tooltip": null,
            "layout": "IPY_MODEL_e0f257d165624122a7410e754d6e628b",
            "max": 772,
            "min": 0,
            "orientation": "horizontal",
            "style": "IPY_MODEL_d1e760ec701846bdab814c2683de3ae4",
            "value": 772
          }
        },
        "710af6421642437484d9e216cc698056": {
          "model_module": "@jupyter-widgets/controls",
          "model_name": "HTMLModel",
          "model_module_version": "1.5.0",
          "state": {
            "_dom_classes": [],
            "_model_module": "@jupyter-widgets/controls",
            "_model_module_version": "1.5.0",
            "_model_name": "HTMLModel",
            "_view_count": null,
            "_view_module": "@jupyter-widgets/controls",
            "_view_module_version": "1.5.0",
            "_view_name": "HTMLView",
            "description": "",
            "description_tooltip": null,
            "layout": "IPY_MODEL_3dac9603136c4032bf93b4c8ee3343fb",
            "placeholder": "​",
            "style": "IPY_MODEL_1fb444a3ca2a44268ea2313b05db89b7",
            "value": " 772/772 [00:00&lt;00:00, 60.7kB/s]"
          }
        },
        "b06121fe1dd342ef9da980d57b8ea98b": {
          "model_module": "@jupyter-widgets/base",
          "model_name": "LayoutModel",
          "model_module_version": "1.2.0",
          "state": {
            "_model_module": "@jupyter-widgets/base",
            "_model_module_version": "1.2.0",
            "_model_name": "LayoutModel",
            "_view_count": null,
            "_view_module": "@jupyter-widgets/base",
            "_view_module_version": "1.2.0",
            "_view_name": "LayoutView",
            "align_content": null,
            "align_items": null,
            "align_self": null,
            "border": null,
            "bottom": null,
            "display": null,
            "flex": null,
            "flex_flow": null,
            "grid_area": null,
            "grid_auto_columns": null,
            "grid_auto_flow": null,
            "grid_auto_rows": null,
            "grid_column": null,
            "grid_gap": null,
            "grid_row": null,
            "grid_template_areas": null,
            "grid_template_columns": null,
            "grid_template_rows": null,
            "height": null,
            "justify_content": null,
            "justify_items": null,
            "left": null,
            "margin": null,
            "max_height": null,
            "max_width": null,
            "min_height": null,
            "min_width": null,
            "object_fit": null,
            "object_position": null,
            "order": null,
            "overflow": null,
            "overflow_x": null,
            "overflow_y": null,
            "padding": null,
            "right": null,
            "top": null,
            "visibility": null,
            "width": null
          }
        },
        "94ac032592284b96b5112eff715b6f50": {
          "model_module": "@jupyter-widgets/base",
          "model_name": "LayoutModel",
          "model_module_version": "1.2.0",
          "state": {
            "_model_module": "@jupyter-widgets/base",
            "_model_module_version": "1.2.0",
            "_model_name": "LayoutModel",
            "_view_count": null,
            "_view_module": "@jupyter-widgets/base",
            "_view_module_version": "1.2.0",
            "_view_name": "LayoutView",
            "align_content": null,
            "align_items": null,
            "align_self": null,
            "border": null,
            "bottom": null,
            "display": null,
            "flex": null,
            "flex_flow": null,
            "grid_area": null,
            "grid_auto_columns": null,
            "grid_auto_flow": null,
            "grid_auto_rows": null,
            "grid_column": null,
            "grid_gap": null,
            "grid_row": null,
            "grid_template_areas": null,
            "grid_template_columns": null,
            "grid_template_rows": null,
            "height": null,
            "justify_content": null,
            "justify_items": null,
            "left": null,
            "margin": null,
            "max_height": null,
            "max_width": null,
            "min_height": null,
            "min_width": null,
            "object_fit": null,
            "object_position": null,
            "order": null,
            "overflow": null,
            "overflow_x": null,
            "overflow_y": null,
            "padding": null,
            "right": null,
            "top": null,
            "visibility": null,
            "width": null
          }
        },
        "2d719e6e77b643548ea24104c3216275": {
          "model_module": "@jupyter-widgets/controls",
          "model_name": "DescriptionStyleModel",
          "model_module_version": "1.5.0",
          "state": {
            "_model_module": "@jupyter-widgets/controls",
            "_model_module_version": "1.5.0",
            "_model_name": "DescriptionStyleModel",
            "_view_count": null,
            "_view_module": "@jupyter-widgets/base",
            "_view_module_version": "1.2.0",
            "_view_name": "StyleView",
            "description_width": ""
          }
        },
        "e0f257d165624122a7410e754d6e628b": {
          "model_module": "@jupyter-widgets/base",
          "model_name": "LayoutModel",
          "model_module_version": "1.2.0",
          "state": {
            "_model_module": "@jupyter-widgets/base",
            "_model_module_version": "1.2.0",
            "_model_name": "LayoutModel",
            "_view_count": null,
            "_view_module": "@jupyter-widgets/base",
            "_view_module_version": "1.2.0",
            "_view_name": "LayoutView",
            "align_content": null,
            "align_items": null,
            "align_self": null,
            "border": null,
            "bottom": null,
            "display": null,
            "flex": null,
            "flex_flow": null,
            "grid_area": null,
            "grid_auto_columns": null,
            "grid_auto_flow": null,
            "grid_auto_rows": null,
            "grid_column": null,
            "grid_gap": null,
            "grid_row": null,
            "grid_template_areas": null,
            "grid_template_columns": null,
            "grid_template_rows": null,
            "height": null,
            "justify_content": null,
            "justify_items": null,
            "left": null,
            "margin": null,
            "max_height": null,
            "max_width": null,
            "min_height": null,
            "min_width": null,
            "object_fit": null,
            "object_position": null,
            "order": null,
            "overflow": null,
            "overflow_x": null,
            "overflow_y": null,
            "padding": null,
            "right": null,
            "top": null,
            "visibility": null,
            "width": null
          }
        },
        "d1e760ec701846bdab814c2683de3ae4": {
          "model_module": "@jupyter-widgets/controls",
          "model_name": "ProgressStyleModel",
          "model_module_version": "1.5.0",
          "state": {
            "_model_module": "@jupyter-widgets/controls",
            "_model_module_version": "1.5.0",
            "_model_name": "ProgressStyleModel",
            "_view_count": null,
            "_view_module": "@jupyter-widgets/base",
            "_view_module_version": "1.2.0",
            "_view_name": "StyleView",
            "bar_color": null,
            "description_width": ""
          }
        },
        "3dac9603136c4032bf93b4c8ee3343fb": {
          "model_module": "@jupyter-widgets/base",
          "model_name": "LayoutModel",
          "model_module_version": "1.2.0",
          "state": {
            "_model_module": "@jupyter-widgets/base",
            "_model_module_version": "1.2.0",
            "_model_name": "LayoutModel",
            "_view_count": null,
            "_view_module": "@jupyter-widgets/base",
            "_view_module_version": "1.2.0",
            "_view_name": "LayoutView",
            "align_content": null,
            "align_items": null,
            "align_self": null,
            "border": null,
            "bottom": null,
            "display": null,
            "flex": null,
            "flex_flow": null,
            "grid_area": null,
            "grid_auto_columns": null,
            "grid_auto_flow": null,
            "grid_auto_rows": null,
            "grid_column": null,
            "grid_gap": null,
            "grid_row": null,
            "grid_template_areas": null,
            "grid_template_columns": null,
            "grid_template_rows": null,
            "height": null,
            "justify_content": null,
            "justify_items": null,
            "left": null,
            "margin": null,
            "max_height": null,
            "max_width": null,
            "min_height": null,
            "min_width": null,
            "object_fit": null,
            "object_position": null,
            "order": null,
            "overflow": null,
            "overflow_x": null,
            "overflow_y": null,
            "padding": null,
            "right": null,
            "top": null,
            "visibility": null,
            "width": null
          }
        },
        "1fb444a3ca2a44268ea2313b05db89b7": {
          "model_module": "@jupyter-widgets/controls",
          "model_name": "DescriptionStyleModel",
          "model_module_version": "1.5.0",
          "state": {
            "_model_module": "@jupyter-widgets/controls",
            "_model_module_version": "1.5.0",
            "_model_name": "DescriptionStyleModel",
            "_view_count": null,
            "_view_module": "@jupyter-widgets/base",
            "_view_module_version": "1.2.0",
            "_view_name": "StyleView",
            "description_width": ""
          }
        },
        "b11e50de4f3d4c5c9c4f0628c7424835": {
          "model_module": "@jupyter-widgets/controls",
          "model_name": "HBoxModel",
          "model_module_version": "1.5.0",
          "state": {
            "_dom_classes": [],
            "_model_module": "@jupyter-widgets/controls",
            "_model_module_version": "1.5.0",
            "_model_name": "HBoxModel",
            "_view_count": null,
            "_view_module": "@jupyter-widgets/controls",
            "_view_module_version": "1.5.0",
            "_view_name": "HBoxView",
            "box_style": "",
            "children": [
              "IPY_MODEL_dc3ea0f6a4ba4da2bc700e6a4654c855",
              "IPY_MODEL_cad4bf82cf734304a384b3ac2e6aa345",
              "IPY_MODEL_fef5f1c275974847a0a3b2bf699fb105"
            ],
            "layout": "IPY_MODEL_c078501d304141de9af3af30275f877e"
          }
        },
        "dc3ea0f6a4ba4da2bc700e6a4654c855": {
          "model_module": "@jupyter-widgets/controls",
          "model_name": "HTMLModel",
          "model_module_version": "1.5.0",
          "state": {
            "_dom_classes": [],
            "_model_module": "@jupyter-widgets/controls",
            "_model_module_version": "1.5.0",
            "_model_name": "HTMLModel",
            "_view_count": null,
            "_view_module": "@jupyter-widgets/controls",
            "_view_module_version": "1.5.0",
            "_view_name": "HTMLView",
            "description": "",
            "description_tooltip": null,
            "layout": "IPY_MODEL_a042b41fa05e497ba90429320bda1613",
            "placeholder": "​",
            "style": "IPY_MODEL_f76b3d2cc9764550bda01bb203a77783",
            "value": "config.json: 100%"
          }
        },
        "cad4bf82cf734304a384b3ac2e6aa345": {
          "model_module": "@jupyter-widgets/controls",
          "model_name": "FloatProgressModel",
          "model_module_version": "1.5.0",
          "state": {
            "_dom_classes": [],
            "_model_module": "@jupyter-widgets/controls",
            "_model_module_version": "1.5.0",
            "_model_name": "FloatProgressModel",
            "_view_count": null,
            "_view_module": "@jupyter-widgets/controls",
            "_view_module_version": "1.5.0",
            "_view_name": "ProgressView",
            "bar_style": "success",
            "description": "",
            "description_tooltip": null,
            "layout": "IPY_MODEL_3ff5fbdef38e42d09b9f2c5bdd28b996",
            "max": 735,
            "min": 0,
            "orientation": "horizontal",
            "style": "IPY_MODEL_2ae52b8082534829a0b0ccacae459090",
            "value": 735
          }
        },
        "fef5f1c275974847a0a3b2bf699fb105": {
          "model_module": "@jupyter-widgets/controls",
          "model_name": "HTMLModel",
          "model_module_version": "1.5.0",
          "state": {
            "_dom_classes": [],
            "_model_module": "@jupyter-widgets/controls",
            "_model_module_version": "1.5.0",
            "_model_name": "HTMLModel",
            "_view_count": null,
            "_view_module": "@jupyter-widgets/controls",
            "_view_module_version": "1.5.0",
            "_view_name": "HTMLView",
            "description": "",
            "description_tooltip": null,
            "layout": "IPY_MODEL_d35ff8c414464edbad25ba3864975140",
            "placeholder": "​",
            "style": "IPY_MODEL_21d04959b5114458baa59f30d3d59e20",
            "value": " 735/735 [00:00&lt;00:00, 45.3kB/s]"
          }
        },
        "c078501d304141de9af3af30275f877e": {
          "model_module": "@jupyter-widgets/base",
          "model_name": "LayoutModel",
          "model_module_version": "1.2.0",
          "state": {
            "_model_module": "@jupyter-widgets/base",
            "_model_module_version": "1.2.0",
            "_model_name": "LayoutModel",
            "_view_count": null,
            "_view_module": "@jupyter-widgets/base",
            "_view_module_version": "1.2.0",
            "_view_name": "LayoutView",
            "align_content": null,
            "align_items": null,
            "align_self": null,
            "border": null,
            "bottom": null,
            "display": null,
            "flex": null,
            "flex_flow": null,
            "grid_area": null,
            "grid_auto_columns": null,
            "grid_auto_flow": null,
            "grid_auto_rows": null,
            "grid_column": null,
            "grid_gap": null,
            "grid_row": null,
            "grid_template_areas": null,
            "grid_template_columns": null,
            "grid_template_rows": null,
            "height": null,
            "justify_content": null,
            "justify_items": null,
            "left": null,
            "margin": null,
            "max_height": null,
            "max_width": null,
            "min_height": null,
            "min_width": null,
            "object_fit": null,
            "object_position": null,
            "order": null,
            "overflow": null,
            "overflow_x": null,
            "overflow_y": null,
            "padding": null,
            "right": null,
            "top": null,
            "visibility": null,
            "width": null
          }
        },
        "a042b41fa05e497ba90429320bda1613": {
          "model_module": "@jupyter-widgets/base",
          "model_name": "LayoutModel",
          "model_module_version": "1.2.0",
          "state": {
            "_model_module": "@jupyter-widgets/base",
            "_model_module_version": "1.2.0",
            "_model_name": "LayoutModel",
            "_view_count": null,
            "_view_module": "@jupyter-widgets/base",
            "_view_module_version": "1.2.0",
            "_view_name": "LayoutView",
            "align_content": null,
            "align_items": null,
            "align_self": null,
            "border": null,
            "bottom": null,
            "display": null,
            "flex": null,
            "flex_flow": null,
            "grid_area": null,
            "grid_auto_columns": null,
            "grid_auto_flow": null,
            "grid_auto_rows": null,
            "grid_column": null,
            "grid_gap": null,
            "grid_row": null,
            "grid_template_areas": null,
            "grid_template_columns": null,
            "grid_template_rows": null,
            "height": null,
            "justify_content": null,
            "justify_items": null,
            "left": null,
            "margin": null,
            "max_height": null,
            "max_width": null,
            "min_height": null,
            "min_width": null,
            "object_fit": null,
            "object_position": null,
            "order": null,
            "overflow": null,
            "overflow_x": null,
            "overflow_y": null,
            "padding": null,
            "right": null,
            "top": null,
            "visibility": null,
            "width": null
          }
        },
        "f76b3d2cc9764550bda01bb203a77783": {
          "model_module": "@jupyter-widgets/controls",
          "model_name": "DescriptionStyleModel",
          "model_module_version": "1.5.0",
          "state": {
            "_model_module": "@jupyter-widgets/controls",
            "_model_module_version": "1.5.0",
            "_model_name": "DescriptionStyleModel",
            "_view_count": null,
            "_view_module": "@jupyter-widgets/base",
            "_view_module_version": "1.2.0",
            "_view_name": "StyleView",
            "description_width": ""
          }
        },
        "3ff5fbdef38e42d09b9f2c5bdd28b996": {
          "model_module": "@jupyter-widgets/base",
          "model_name": "LayoutModel",
          "model_module_version": "1.2.0",
          "state": {
            "_model_module": "@jupyter-widgets/base",
            "_model_module_version": "1.2.0",
            "_model_name": "LayoutModel",
            "_view_count": null,
            "_view_module": "@jupyter-widgets/base",
            "_view_module_version": "1.2.0",
            "_view_name": "LayoutView",
            "align_content": null,
            "align_items": null,
            "align_self": null,
            "border": null,
            "bottom": null,
            "display": null,
            "flex": null,
            "flex_flow": null,
            "grid_area": null,
            "grid_auto_columns": null,
            "grid_auto_flow": null,
            "grid_auto_rows": null,
            "grid_column": null,
            "grid_gap": null,
            "grid_row": null,
            "grid_template_areas": null,
            "grid_template_columns": null,
            "grid_template_rows": null,
            "height": null,
            "justify_content": null,
            "justify_items": null,
            "left": null,
            "margin": null,
            "max_height": null,
            "max_width": null,
            "min_height": null,
            "min_width": null,
            "object_fit": null,
            "object_position": null,
            "order": null,
            "overflow": null,
            "overflow_x": null,
            "overflow_y": null,
            "padding": null,
            "right": null,
            "top": null,
            "visibility": null,
            "width": null
          }
        },
        "2ae52b8082534829a0b0ccacae459090": {
          "model_module": "@jupyter-widgets/controls",
          "model_name": "ProgressStyleModel",
          "model_module_version": "1.5.0",
          "state": {
            "_model_module": "@jupyter-widgets/controls",
            "_model_module_version": "1.5.0",
            "_model_name": "ProgressStyleModel",
            "_view_count": null,
            "_view_module": "@jupyter-widgets/base",
            "_view_module_version": "1.2.0",
            "_view_name": "StyleView",
            "bar_color": null,
            "description_width": ""
          }
        },
        "d35ff8c414464edbad25ba3864975140": {
          "model_module": "@jupyter-widgets/base",
          "model_name": "LayoutModel",
          "model_module_version": "1.2.0",
          "state": {
            "_model_module": "@jupyter-widgets/base",
            "_model_module_version": "1.2.0",
            "_model_name": "LayoutModel",
            "_view_count": null,
            "_view_module": "@jupyter-widgets/base",
            "_view_module_version": "1.2.0",
            "_view_name": "LayoutView",
            "align_content": null,
            "align_items": null,
            "align_self": null,
            "border": null,
            "bottom": null,
            "display": null,
            "flex": null,
            "flex_flow": null,
            "grid_area": null,
            "grid_auto_columns": null,
            "grid_auto_flow": null,
            "grid_auto_rows": null,
            "grid_column": null,
            "grid_gap": null,
            "grid_row": null,
            "grid_template_areas": null,
            "grid_template_columns": null,
            "grid_template_rows": null,
            "height": null,
            "justify_content": null,
            "justify_items": null,
            "left": null,
            "margin": null,
            "max_height": null,
            "max_width": null,
            "min_height": null,
            "min_width": null,
            "object_fit": null,
            "object_position": null,
            "order": null,
            "overflow": null,
            "overflow_x": null,
            "overflow_y": null,
            "padding": null,
            "right": null,
            "top": null,
            "visibility": null,
            "width": null
          }
        },
        "21d04959b5114458baa59f30d3d59e20": {
          "model_module": "@jupyter-widgets/controls",
          "model_name": "DescriptionStyleModel",
          "model_module_version": "1.5.0",
          "state": {
            "_model_module": "@jupyter-widgets/controls",
            "_model_module_version": "1.5.0",
            "_model_name": "DescriptionStyleModel",
            "_view_count": null,
            "_view_module": "@jupyter-widgets/base",
            "_view_module_version": "1.2.0",
            "_view_name": "StyleView",
            "description_width": ""
          }
        },
        "78622c904add486aac41522c4444d387": {
          "model_module": "@jupyter-widgets/controls",
          "model_name": "HBoxModel",
          "model_module_version": "1.5.0",
          "state": {
            "_dom_classes": [],
            "_model_module": "@jupyter-widgets/controls",
            "_model_module_version": "1.5.0",
            "_model_name": "HBoxModel",
            "_view_count": null,
            "_view_module": "@jupyter-widgets/controls",
            "_view_module_version": "1.5.0",
            "_view_name": "HBoxView",
            "box_style": "",
            "children": [
              "IPY_MODEL_0a1ee4acea9b4a29a70bd333089febe0",
              "IPY_MODEL_469421b0fa5d47e48c630352e22e2cf8",
              "IPY_MODEL_fa67cfd7171e4781a2a982d178ecdd02"
            ],
            "layout": "IPY_MODEL_dce996813037495fbb36c253d1fbb7e2"
          }
        },
        "0a1ee4acea9b4a29a70bd333089febe0": {
          "model_module": "@jupyter-widgets/controls",
          "model_name": "HTMLModel",
          "model_module_version": "1.5.0",
          "state": {
            "_dom_classes": [],
            "_model_module": "@jupyter-widgets/controls",
            "_model_module_version": "1.5.0",
            "_model_name": "HTMLModel",
            "_view_count": null,
            "_view_module": "@jupyter-widgets/controls",
            "_view_module_version": "1.5.0",
            "_view_name": "HTMLView",
            "description": "",
            "description_tooltip": null,
            "layout": "IPY_MODEL_b7f1daef5b2c4a839aac12fa2e62dfc1",
            "placeholder": "​",
            "style": "IPY_MODEL_060cb00b72ce47969fd92cd20d8b0303",
            "value": "pytorch_model.bin: 100%"
          }
        },
        "469421b0fa5d47e48c630352e22e2cf8": {
          "model_module": "@jupyter-widgets/controls",
          "model_name": "FloatProgressModel",
          "model_module_version": "1.5.0",
          "state": {
            "_dom_classes": [],
            "_model_module": "@jupyter-widgets/controls",
            "_model_module_version": "1.5.0",
            "_model_name": "FloatProgressModel",
            "_view_count": null,
            "_view_module": "@jupyter-widgets/controls",
            "_view_module_version": "1.5.0",
            "_view_name": "ProgressView",
            "bar_style": "success",
            "description": "",
            "description_tooltip": null,
            "layout": "IPY_MODEL_ebd2f91ac94a4b67bf07e3551f9e013d",
            "max": 498657517,
            "min": 0,
            "orientation": "horizontal",
            "style": "IPY_MODEL_4cefdaa5bfe644ce8dc97f03dfc30c2e",
            "value": 498657517
          }
        },
        "fa67cfd7171e4781a2a982d178ecdd02": {
          "model_module": "@jupyter-widgets/controls",
          "model_name": "HTMLModel",
          "model_module_version": "1.5.0",
          "state": {
            "_dom_classes": [],
            "_model_module": "@jupyter-widgets/controls",
            "_model_module_version": "1.5.0",
            "_model_name": "HTMLModel",
            "_view_count": null,
            "_view_module": "@jupyter-widgets/controls",
            "_view_module_version": "1.5.0",
            "_view_name": "HTMLView",
            "description": "",
            "description_tooltip": null,
            "layout": "IPY_MODEL_60d56d0a38e8440db897cf24fa1e4006",
            "placeholder": "​",
            "style": "IPY_MODEL_5976dcd88dac4fb1909be868d3416b71",
            "value": " 499M/499M [00:04&lt;00:00, 191MB/s]"
          }
        },
        "dce996813037495fbb36c253d1fbb7e2": {
          "model_module": "@jupyter-widgets/base",
          "model_name": "LayoutModel",
          "model_module_version": "1.2.0",
          "state": {
            "_model_module": "@jupyter-widgets/base",
            "_model_module_version": "1.2.0",
            "_model_name": "LayoutModel",
            "_view_count": null,
            "_view_module": "@jupyter-widgets/base",
            "_view_module_version": "1.2.0",
            "_view_name": "LayoutView",
            "align_content": null,
            "align_items": null,
            "align_self": null,
            "border": null,
            "bottom": null,
            "display": null,
            "flex": null,
            "flex_flow": null,
            "grid_area": null,
            "grid_auto_columns": null,
            "grid_auto_flow": null,
            "grid_auto_rows": null,
            "grid_column": null,
            "grid_gap": null,
            "grid_row": null,
            "grid_template_areas": null,
            "grid_template_columns": null,
            "grid_template_rows": null,
            "height": null,
            "justify_content": null,
            "justify_items": null,
            "left": null,
            "margin": null,
            "max_height": null,
            "max_width": null,
            "min_height": null,
            "min_width": null,
            "object_fit": null,
            "object_position": null,
            "order": null,
            "overflow": null,
            "overflow_x": null,
            "overflow_y": null,
            "padding": null,
            "right": null,
            "top": null,
            "visibility": null,
            "width": null
          }
        },
        "b7f1daef5b2c4a839aac12fa2e62dfc1": {
          "model_module": "@jupyter-widgets/base",
          "model_name": "LayoutModel",
          "model_module_version": "1.2.0",
          "state": {
            "_model_module": "@jupyter-widgets/base",
            "_model_module_version": "1.2.0",
            "_model_name": "LayoutModel",
            "_view_count": null,
            "_view_module": "@jupyter-widgets/base",
            "_view_module_version": "1.2.0",
            "_view_name": "LayoutView",
            "align_content": null,
            "align_items": null,
            "align_self": null,
            "border": null,
            "bottom": null,
            "display": null,
            "flex": null,
            "flex_flow": null,
            "grid_area": null,
            "grid_auto_columns": null,
            "grid_auto_flow": null,
            "grid_auto_rows": null,
            "grid_column": null,
            "grid_gap": null,
            "grid_row": null,
            "grid_template_areas": null,
            "grid_template_columns": null,
            "grid_template_rows": null,
            "height": null,
            "justify_content": null,
            "justify_items": null,
            "left": null,
            "margin": null,
            "max_height": null,
            "max_width": null,
            "min_height": null,
            "min_width": null,
            "object_fit": null,
            "object_position": null,
            "order": null,
            "overflow": null,
            "overflow_x": null,
            "overflow_y": null,
            "padding": null,
            "right": null,
            "top": null,
            "visibility": null,
            "width": null
          }
        },
        "060cb00b72ce47969fd92cd20d8b0303": {
          "model_module": "@jupyter-widgets/controls",
          "model_name": "DescriptionStyleModel",
          "model_module_version": "1.5.0",
          "state": {
            "_model_module": "@jupyter-widgets/controls",
            "_model_module_version": "1.5.0",
            "_model_name": "DescriptionStyleModel",
            "_view_count": null,
            "_view_module": "@jupyter-widgets/base",
            "_view_module_version": "1.2.0",
            "_view_name": "StyleView",
            "description_width": ""
          }
        },
        "ebd2f91ac94a4b67bf07e3551f9e013d": {
          "model_module": "@jupyter-widgets/base",
          "model_name": "LayoutModel",
          "model_module_version": "1.2.0",
          "state": {
            "_model_module": "@jupyter-widgets/base",
            "_model_module_version": "1.2.0",
            "_model_name": "LayoutModel",
            "_view_count": null,
            "_view_module": "@jupyter-widgets/base",
            "_view_module_version": "1.2.0",
            "_view_name": "LayoutView",
            "align_content": null,
            "align_items": null,
            "align_self": null,
            "border": null,
            "bottom": null,
            "display": null,
            "flex": null,
            "flex_flow": null,
            "grid_area": null,
            "grid_auto_columns": null,
            "grid_auto_flow": null,
            "grid_auto_rows": null,
            "grid_column": null,
            "grid_gap": null,
            "grid_row": null,
            "grid_template_areas": null,
            "grid_template_columns": null,
            "grid_template_rows": null,
            "height": null,
            "justify_content": null,
            "justify_items": null,
            "left": null,
            "margin": null,
            "max_height": null,
            "max_width": null,
            "min_height": null,
            "min_width": null,
            "object_fit": null,
            "object_position": null,
            "order": null,
            "overflow": null,
            "overflow_x": null,
            "overflow_y": null,
            "padding": null,
            "right": null,
            "top": null,
            "visibility": null,
            "width": null
          }
        },
        "4cefdaa5bfe644ce8dc97f03dfc30c2e": {
          "model_module": "@jupyter-widgets/controls",
          "model_name": "ProgressStyleModel",
          "model_module_version": "1.5.0",
          "state": {
            "_model_module": "@jupyter-widgets/controls",
            "_model_module_version": "1.5.0",
            "_model_name": "ProgressStyleModel",
            "_view_count": null,
            "_view_module": "@jupyter-widgets/base",
            "_view_module_version": "1.2.0",
            "_view_name": "StyleView",
            "bar_color": null,
            "description_width": ""
          }
        },
        "60d56d0a38e8440db897cf24fa1e4006": {
          "model_module": "@jupyter-widgets/base",
          "model_name": "LayoutModel",
          "model_module_version": "1.2.0",
          "state": {
            "_model_module": "@jupyter-widgets/base",
            "_model_module_version": "1.2.0",
            "_model_name": "LayoutModel",
            "_view_count": null,
            "_view_module": "@jupyter-widgets/base",
            "_view_module_version": "1.2.0",
            "_view_name": "LayoutView",
            "align_content": null,
            "align_items": null,
            "align_self": null,
            "border": null,
            "bottom": null,
            "display": null,
            "flex": null,
            "flex_flow": null,
            "grid_area": null,
            "grid_auto_columns": null,
            "grid_auto_flow": null,
            "grid_auto_rows": null,
            "grid_column": null,
            "grid_gap": null,
            "grid_row": null,
            "grid_template_areas": null,
            "grid_template_columns": null,
            "grid_template_rows": null,
            "height": null,
            "justify_content": null,
            "justify_items": null,
            "left": null,
            "margin": null,
            "max_height": null,
            "max_width": null,
            "min_height": null,
            "min_width": null,
            "object_fit": null,
            "object_position": null,
            "order": null,
            "overflow": null,
            "overflow_x": null,
            "overflow_y": null,
            "padding": null,
            "right": null,
            "top": null,
            "visibility": null,
            "width": null
          }
        },
        "5976dcd88dac4fb1909be868d3416b71": {
          "model_module": "@jupyter-widgets/controls",
          "model_name": "DescriptionStyleModel",
          "model_module_version": "1.5.0",
          "state": {
            "_model_module": "@jupyter-widgets/controls",
            "_model_module_version": "1.5.0",
            "_model_name": "DescriptionStyleModel",
            "_view_count": null,
            "_view_module": "@jupyter-widgets/base",
            "_view_module_version": "1.2.0",
            "_view_name": "StyleView",
            "description_width": ""
          }
        },
        "d9429ac8e81048bea87cc106ec555ec1": {
          "model_module": "@jupyter-widgets/controls",
          "model_name": "HBoxModel",
          "model_module_version": "1.5.0",
          "state": {
            "_dom_classes": [],
            "_model_module": "@jupyter-widgets/controls",
            "_model_module_version": "1.5.0",
            "_model_name": "HBoxModel",
            "_view_count": null,
            "_view_module": "@jupyter-widgets/controls",
            "_view_module_version": "1.5.0",
            "_view_name": "HBoxView",
            "box_style": "",
            "children": [
              "IPY_MODEL_4aae6da09cc940c1867d40ebf9e38751",
              "IPY_MODEL_09e5a55955374714b443cff1741e7156",
              "IPY_MODEL_57953b381eea41a1899140261d68910f"
            ],
            "layout": "IPY_MODEL_0bf253c2647a4a3c8c9b3aa68288da09"
          }
        },
        "4aae6da09cc940c1867d40ebf9e38751": {
          "model_module": "@jupyter-widgets/controls",
          "model_name": "HTMLModel",
          "model_module_version": "1.5.0",
          "state": {
            "_dom_classes": [],
            "_model_module": "@jupyter-widgets/controls",
            "_model_module_version": "1.5.0",
            "_model_name": "HTMLModel",
            "_view_count": null,
            "_view_module": "@jupyter-widgets/controls",
            "_view_module_version": "1.5.0",
            "_view_name": "HTMLView",
            "description": "",
            "description_tooltip": null,
            "layout": "IPY_MODEL_12e3932503cf4da7b0089cb532446ee1",
            "placeholder": "​",
            "style": "IPY_MODEL_eb22469c8719470ea1e6ae832188d892",
            "value": "model.safetensors: 100%"
          }
        },
        "09e5a55955374714b443cff1741e7156": {
          "model_module": "@jupyter-widgets/controls",
          "model_name": "FloatProgressModel",
          "model_module_version": "1.5.0",
          "state": {
            "_dom_classes": [],
            "_model_module": "@jupyter-widgets/controls",
            "_model_module_version": "1.5.0",
            "_model_name": "FloatProgressModel",
            "_view_count": null,
            "_view_module": "@jupyter-widgets/controls",
            "_view_module_version": "1.5.0",
            "_view_name": "ProgressView",
            "bar_style": "success",
            "description": "",
            "description_tooltip": null,
            "layout": "IPY_MODEL_73bc8f9ee80e4da99449633e0b597abf",
            "max": 498617024,
            "min": 0,
            "orientation": "horizontal",
            "style": "IPY_MODEL_b8292a56c0414f3188c0e84d0830158c",
            "value": 498617024
          }
        },
        "57953b381eea41a1899140261d68910f": {
          "model_module": "@jupyter-widgets/controls",
          "model_name": "HTMLModel",
          "model_module_version": "1.5.0",
          "state": {
            "_dom_classes": [],
            "_model_module": "@jupyter-widgets/controls",
            "_model_module_version": "1.5.0",
            "_model_name": "HTMLModel",
            "_view_count": null,
            "_view_module": "@jupyter-widgets/controls",
            "_view_module_version": "1.5.0",
            "_view_name": "HTMLView",
            "description": "",
            "description_tooltip": null,
            "layout": "IPY_MODEL_657f00ef475443038767f4e6e18fb33f",
            "placeholder": "​",
            "style": "IPY_MODEL_5cfc0943d3cd4e3aaed28984a89dd538",
            "value": " 499M/499M [00:12&lt;00:00, 46.4MB/s]"
          }
        },
        "0bf253c2647a4a3c8c9b3aa68288da09": {
          "model_module": "@jupyter-widgets/base",
          "model_name": "LayoutModel",
          "model_module_version": "1.2.0",
          "state": {
            "_model_module": "@jupyter-widgets/base",
            "_model_module_version": "1.2.0",
            "_model_name": "LayoutModel",
            "_view_count": null,
            "_view_module": "@jupyter-widgets/base",
            "_view_module_version": "1.2.0",
            "_view_name": "LayoutView",
            "align_content": null,
            "align_items": null,
            "align_self": null,
            "border": null,
            "bottom": null,
            "display": null,
            "flex": null,
            "flex_flow": null,
            "grid_area": null,
            "grid_auto_columns": null,
            "grid_auto_flow": null,
            "grid_auto_rows": null,
            "grid_column": null,
            "grid_gap": null,
            "grid_row": null,
            "grid_template_areas": null,
            "grid_template_columns": null,
            "grid_template_rows": null,
            "height": null,
            "justify_content": null,
            "justify_items": null,
            "left": null,
            "margin": null,
            "max_height": null,
            "max_width": null,
            "min_height": null,
            "min_width": null,
            "object_fit": null,
            "object_position": null,
            "order": null,
            "overflow": null,
            "overflow_x": null,
            "overflow_y": null,
            "padding": null,
            "right": null,
            "top": null,
            "visibility": null,
            "width": null
          }
        },
        "12e3932503cf4da7b0089cb532446ee1": {
          "model_module": "@jupyter-widgets/base",
          "model_name": "LayoutModel",
          "model_module_version": "1.2.0",
          "state": {
            "_model_module": "@jupyter-widgets/base",
            "_model_module_version": "1.2.0",
            "_model_name": "LayoutModel",
            "_view_count": null,
            "_view_module": "@jupyter-widgets/base",
            "_view_module_version": "1.2.0",
            "_view_name": "LayoutView",
            "align_content": null,
            "align_items": null,
            "align_self": null,
            "border": null,
            "bottom": null,
            "display": null,
            "flex": null,
            "flex_flow": null,
            "grid_area": null,
            "grid_auto_columns": null,
            "grid_auto_flow": null,
            "grid_auto_rows": null,
            "grid_column": null,
            "grid_gap": null,
            "grid_row": null,
            "grid_template_areas": null,
            "grid_template_columns": null,
            "grid_template_rows": null,
            "height": null,
            "justify_content": null,
            "justify_items": null,
            "left": null,
            "margin": null,
            "max_height": null,
            "max_width": null,
            "min_height": null,
            "min_width": null,
            "object_fit": null,
            "object_position": null,
            "order": null,
            "overflow": null,
            "overflow_x": null,
            "overflow_y": null,
            "padding": null,
            "right": null,
            "top": null,
            "visibility": null,
            "width": null
          }
        },
        "eb22469c8719470ea1e6ae832188d892": {
          "model_module": "@jupyter-widgets/controls",
          "model_name": "DescriptionStyleModel",
          "model_module_version": "1.5.0",
          "state": {
            "_model_module": "@jupyter-widgets/controls",
            "_model_module_version": "1.5.0",
            "_model_name": "DescriptionStyleModel",
            "_view_count": null,
            "_view_module": "@jupyter-widgets/base",
            "_view_module_version": "1.2.0",
            "_view_name": "StyleView",
            "description_width": ""
          }
        },
        "73bc8f9ee80e4da99449633e0b597abf": {
          "model_module": "@jupyter-widgets/base",
          "model_name": "LayoutModel",
          "model_module_version": "1.2.0",
          "state": {
            "_model_module": "@jupyter-widgets/base",
            "_model_module_version": "1.2.0",
            "_model_name": "LayoutModel",
            "_view_count": null,
            "_view_module": "@jupyter-widgets/base",
            "_view_module_version": "1.2.0",
            "_view_name": "LayoutView",
            "align_content": null,
            "align_items": null,
            "align_self": null,
            "border": null,
            "bottom": null,
            "display": null,
            "flex": null,
            "flex_flow": null,
            "grid_area": null,
            "grid_auto_columns": null,
            "grid_auto_flow": null,
            "grid_auto_rows": null,
            "grid_column": null,
            "grid_gap": null,
            "grid_row": null,
            "grid_template_areas": null,
            "grid_template_columns": null,
            "grid_template_rows": null,
            "height": null,
            "justify_content": null,
            "justify_items": null,
            "left": null,
            "margin": null,
            "max_height": null,
            "max_width": null,
            "min_height": null,
            "min_width": null,
            "object_fit": null,
            "object_position": null,
            "order": null,
            "overflow": null,
            "overflow_x": null,
            "overflow_y": null,
            "padding": null,
            "right": null,
            "top": null,
            "visibility": null,
            "width": null
          }
        },
        "b8292a56c0414f3188c0e84d0830158c": {
          "model_module": "@jupyter-widgets/controls",
          "model_name": "ProgressStyleModel",
          "model_module_version": "1.5.0",
          "state": {
            "_model_module": "@jupyter-widgets/controls",
            "_model_module_version": "1.5.0",
            "_model_name": "ProgressStyleModel",
            "_view_count": null,
            "_view_module": "@jupyter-widgets/base",
            "_view_module_version": "1.2.0",
            "_view_name": "StyleView",
            "bar_color": null,
            "description_width": ""
          }
        },
        "657f00ef475443038767f4e6e18fb33f": {
          "model_module": "@jupyter-widgets/base",
          "model_name": "LayoutModel",
          "model_module_version": "1.2.0",
          "state": {
            "_model_module": "@jupyter-widgets/base",
            "_model_module_version": "1.2.0",
            "_model_name": "LayoutModel",
            "_view_count": null,
            "_view_module": "@jupyter-widgets/base",
            "_view_module_version": "1.2.0",
            "_view_name": "LayoutView",
            "align_content": null,
            "align_items": null,
            "align_self": null,
            "border": null,
            "bottom": null,
            "display": null,
            "flex": null,
            "flex_flow": null,
            "grid_area": null,
            "grid_auto_columns": null,
            "grid_auto_flow": null,
            "grid_auto_rows": null,
            "grid_column": null,
            "grid_gap": null,
            "grid_row": null,
            "grid_template_areas": null,
            "grid_template_columns": null,
            "grid_template_rows": null,
            "height": null,
            "justify_content": null,
            "justify_items": null,
            "left": null,
            "margin": null,
            "max_height": null,
            "max_width": null,
            "min_height": null,
            "min_width": null,
            "object_fit": null,
            "object_position": null,
            "order": null,
            "overflow": null,
            "overflow_x": null,
            "overflow_y": null,
            "padding": null,
            "right": null,
            "top": null,
            "visibility": null,
            "width": null
          }
        },
        "5cfc0943d3cd4e3aaed28984a89dd538": {
          "model_module": "@jupyter-widgets/controls",
          "model_name": "DescriptionStyleModel",
          "model_module_version": "1.5.0",
          "state": {
            "_model_module": "@jupyter-widgets/controls",
            "_model_module_version": "1.5.0",
            "_model_name": "DescriptionStyleModel",
            "_view_count": null,
            "_view_module": "@jupyter-widgets/base",
            "_view_module_version": "1.2.0",
            "_view_name": "StyleView",
            "description_width": ""
          }
        }
      }
    }
  },
  "nbformat": 4,
  "nbformat_minor": 5
}