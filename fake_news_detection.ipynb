{
  "cells": [
    {
      "cell_type": "markdown",
      "id": "216a3665",
      "metadata": {
        "id": "216a3665"
      },
      "source": [
        "# Fake News Detection"
      ]
    },
    {
      "cell_type": "markdown",
      "id": "e88a48c7",
      "metadata": {
        "id": "e88a48c7"
      },
      "source": [
        "## Section 1: Importing the dependencies"
      ]
    },
    {
      "cell_type": "code",
      "execution_count": null,
      "id": "d46f5ad8",
      "metadata": {
        "id": "d46f5ad8"
      },
      "outputs": [],
      "source": [
        "import numpy as np\n",
        "import pandas as pd\n",
        "import re\n",
        "import nltk\n",
        "from nltk.corpus import stopwords\n",
        "from nltk.stem.porter import PorterStemmer\n",
        "from sklearn.utils import shuffle\n",
        "from sklearn.feature_extraction.text import TfidfVectorizer\n",
        "from sklearn.model_selection import train_test_split\n",
        "from sklearn.linear_model import LogisticRegression\n",
        "from sklearn.metrics import accuracy_score, classification_report, confusion_matrix, roc_auc_score\n",
        "from transformers import AutoTokenizer, AutoModelForSequenceClassification\n",
        "from transformers import pipeline\n",
        "import torch\n",
        "from tqdm import tqdm"
      ]
    },
    {
      "cell_type": "markdown",
      "id": "457f2c6b",
      "metadata": {
        "id": "457f2c6b"
      },
      "source": [
        "### Section 1.1: NLTK Setup"
      ]
    },
    {
      "cell_type": "code",
      "execution_count": null,
      "id": "07441de7",
      "metadata": {
        "colab": {
          "base_uri": "https://localhost:8080/"
        },
        "id": "07441de7",
        "outputId": "31a9c765-85ae-4b34-d6df-b2225eca644a"
      },
      "outputs": [],
      "source": [
        "try:\n",
        "    nltk.data.find('corpora/stopwords')\n",
        "except LookupError:\n",
        "    nltk.download('stopwords')"
      ]
    },
    {
      "cell_type": "markdown",
      "id": "fa619bbc",
      "metadata": {
        "id": "fa619bbc"
      },
      "source": [
        "### Section 1.2: Stopwords Preview"
      ]
    },
    {
      "cell_type": "code",
      "execution_count": null,
      "id": "4bd35922",
      "metadata": {
        "colab": {
          "base_uri": "https://localhost:8080/"
        },
        "id": "4bd35922",
        "outputId": "26b81752-7af3-4064-93e3-7d2c0edd6433"
      },
      "outputs": [],
      "source": [
        "print(stopwords.words('english'))"
      ]
    },
    {
      "cell_type": "markdown",
      "id": "58f69a47",
      "metadata": {
        "id": "58f69a47"
      },
      "source": [
        "## Section 2: Data Loading and Merging"
      ]
    },
    {
      "cell_type": "code",
      "execution_count": null,
      "id": "301ae8dc",
      "metadata": {
        "id": "301ae8dc"
      },
      "outputs": [],
      "source": [
        "# Load both CSVs\n",
        "true_news = pd.read_csv('True.csv')\n",
        "fake_news = pd.read_csv('Fake.csv')"
      ]
    },
    {
      "cell_type": "code",
      "execution_count": null,
      "id": "68e7d15b",
      "metadata": {
        "id": "68e7d15b"
      },
      "outputs": [],
      "source": [
        "# Add label column\n",
        "true_news['label'] = 1\n",
        "fake_news['label'] = 0"
      ]
    },
    {
      "cell_type": "code",
      "execution_count": null,
      "id": "8b34f330",
      "metadata": {
        "id": "8b34f330"
      },
      "outputs": [],
      "source": [
        "# Combine the datasets\n",
        "news_dataset = pd.concat([true_news, fake_news], axis=0)"
      ]
    },
    {
      "cell_type": "code",
      "execution_count": null,
      "id": "49260fe5",
      "metadata": {
        "id": "49260fe5"
      },
      "outputs": [],
      "source": [
        "# Shuffle the dataset\n",
        "news_dataset = shuffle(news_dataset, random_state=42).reset_index(drop=True)"
      ]
    },
    {
      "cell_type": "markdown",
      "id": "1efba32d",
      "metadata": {
        "id": "1efba32d"
      },
      "source": [
        "## Section 3: Column Cleanup and Preprocessing"
      ]
    },
    {
      "cell_type": "code",
      "execution_count": null,
      "id": "13dde97d",
      "metadata": {
        "id": "13dde97d"
      },
      "outputs": [],
      "source": [
        "# Add dummy id column\n",
        "news_dataset['id'] = range(1, len(news_dataset)+1)"
      ]
    },
    {
      "cell_type": "code",
      "execution_count": null,
      "id": "ad75d467",
      "metadata": {
        "id": "ad75d467"
      },
      "outputs": [],
      "source": [
        "# Select required columns\n",
        "news_dataset = news_dataset[['id', 'title', 'text', 'label']]"
      ]
    },
    {
      "cell_type": "code",
      "execution_count": null,
      "id": "b97e3428",
      "metadata": {
        "id": "b97e3428"
      },
      "outputs": [],
      "source": [
        "# Drop rows with missing label (just in case)\n",
        "news_dataset = news_dataset.dropna(subset=['label'])"
      ]
    },
    {
      "cell_type": "code",
      "execution_count": null,
      "id": "701ab7c5",
      "metadata": {
        "id": "701ab7c5"
      },
      "outputs": [],
      "source": [
        "# Fill missing values in text columns\n",
        "news_dataset['title'] = news_dataset['title'].fillna('')\n",
        "news_dataset['text'] = news_dataset['text'].fillna('')"
      ]
    },
    {
      "cell_type": "code",
      "execution_count": null,
      "id": "e2383f42",
      "metadata": {
        "id": "e2383f42"
      },
      "outputs": [],
      "source": [
        "# Create 'content' column\n",
        "news_dataset['content'] = news_dataset['title'].astype(str) + ' ' + news_dataset['text'].astype(str)"
      ]
    },
    {
      "cell_type": "code",
      "execution_count": null,
      "id": "631851e1",
      "metadata": {
        "id": "631851e1"
      },
      "outputs": [],
      "source": [
        "news_dataset['raw_content'] = news_dataset['content']"
      ]
    },
    {
      "cell_type": "markdown",
      "id": "6296ca08",
      "metadata": {
        "id": "6296ca08"
      },
      "source": [
        "## Section 4: Final Feature and Label Split"
      ]
    },
    {
      "cell_type": "code",
      "execution_count": null,
      "id": "8a61c18c",
      "metadata": {
        "id": "8a61c18c"
      },
      "outputs": [],
      "source": [
        "# Split into X and Y\n",
        "X = news_dataset.drop(columns='label', axis=1)\n",
        "Y = news_dataset['label']"
      ]
    },
    {
      "cell_type": "code",
      "execution_count": null,
      "id": "872c3664",
      "metadata": {
        "colab": {
          "base_uri": "https://localhost:8080/",
          "height": 178
        },
        "id": "872c3664",
        "outputId": "bafd59fb-8614-44dd-f9aa-e5f40b717a5c"
      },
      "outputs": [],
      "source": [
        "news_dataset['label'].value_counts()"
      ]
    },
    {
      "cell_type": "code",
      "execution_count": null,
      "id": "98051067",
      "metadata": {
        "colab": {
          "base_uri": "https://localhost:8080/"
        },
        "id": "98051067",
        "outputId": "0aa6c9bf-f149-4fb6-fd4d-8706a1589506"
      },
      "outputs": [],
      "source": [
        "print(\"X shape:\", X.shape)\n",
        "print(\"Y shape:\", Y.shape)"
      ]
    },
    {
      "cell_type": "code",
      "execution_count": null,
      "id": "d3784c61",
      "metadata": {
        "colab": {
          "base_uri": "https://localhost:8080/"
        },
        "id": "d3784c61",
        "outputId": "225f2e96-dafb-47ee-ae88-1e84110d38b5"
      },
      "outputs": [],
      "source": [
        "print(\"\\nSample X:\\n\", X.head())"
      ]
    },
    {
      "cell_type": "code",
      "execution_count": null,
      "id": "a7f9f402",
      "metadata": {
        "colab": {
          "base_uri": "https://localhost:8080/"
        },
        "id": "a7f9f402",
        "outputId": "f341d140-d711-4bbe-9c84-c072ba5eefa5"
      },
      "outputs": [],
      "source": [
        "print(\"\\nSample Y:\\n\", Y.head())"
      ]
    },
    {
      "cell_type": "markdown",
      "id": "2083debd",
      "metadata": {
        "id": "2083debd"
      },
      "source": [
        "## Section 5: Text Preprocessing and Stemming"
      ]
    },
    {
      "cell_type": "code",
      "execution_count": null,
      "id": "00d12357",
      "metadata": {
        "id": "00d12357"
      },
      "outputs": [],
      "source": [
        "port_stem = PorterStemmer()"
      ]
    },
    {
      "cell_type": "code",
      "execution_count": null,
      "id": "3e837ef1",
      "metadata": {
        "id": "3e837ef1"
      },
      "outputs": [],
      "source": [
        "stop_words = set(stopwords.words('english')) # define once globally for performance\n",
        "\n",
        "def stemming(content):\n",
        "    stemmed_content = re.sub('[^a-zA-Z]',' ',content)\n",
        "    stemmed_content = stemmed_content.lower()\n",
        "    stemmed_content = stemmed_content.split()\n",
        "    stemmed_content = [port_stem.stem(word) for word in stemmed_content if not word in stop_words]\n",
        "    stemmed_content = ' '.join(stemmed_content)\n",
        "    return stemmed_content"
      ]
    },
    {
      "cell_type": "markdown",
      "id": "89332bc9",
      "metadata": {
        "id": "89332bc9"
      },
      "source": [
        "## Section 6: Raw-Text Preservation and Dataset Splitting"
      ]
    },
    {
      "cell_type": "code",
      "execution_count": null,
      "id": "3f17faf7",
      "metadata": {
        "id": "3f17faf7"
      },
      "outputs": [],
      "source": [
        "# Assuming 'content' = cleaned version (without stemming), 'raw_content' = untouched, and 'label' = target\n",
        "\n",
        "X_raw = news_dataset['raw_content'].values   # For BERT\n",
        "X_content = news_dataset['content'].values   # To apply stemming AFTER split\n",
        "Y = news_dataset['label'].values\n",
        "\n",
        "# Create consistent indices for splitting both raw and processed data\n",
        "indices = np.arange(len(X_content))\n",
        "train_idx, test_idx = train_test_split(indices, test_size=0.2, stratify=Y, random_state=2)\n",
        "\n",
        "# Split raw content for BERT\n",
        "X_train_raw = X_raw[train_idx]\n",
        "X_test_raw = X_raw[test_idx]\n",
        "\n",
        "# Split unstemmed content for traditional ML models\n",
        "X_train_content = X_content[train_idx]\n",
        "X_test_content = X_content[test_idx]\n",
        "\n",
        "Y_train = Y[train_idx]\n",
        "Y_test = Y[test_idx]"
      ]
    },
    {
      "cell_type": "markdown",
      "id": "2f57dffc",
      "metadata": {
        "id": "2f57dffc"
      },
      "source": [
        "## Section 7: Apply Stemming After Splitting"
      ]
    },
    {
      "cell_type": "code",
      "execution_count": null,
      "id": "cc4fc00e",
      "metadata": {
        "id": "cc4fc00e"
      },
      "outputs": [],
      "source": [
        "X_train_stemmed = np.array([stemming(text) for text in X_train_content])\n",
        "X_test_stemmed = np.array([stemming(text) for text in X_test_content])"
      ]
    },
    {
      "cell_type": "markdown",
      "id": "26aca0a0",
      "metadata": {
        "id": "26aca0a0"
      },
      "source": [
        "## Section 8: Text Vectorization Using TF-IDF"
      ]
    },
    {
      "cell_type": "code",
      "execution_count": null,
      "id": "a75ef3e7",
      "metadata": {
        "id": "a75ef3e7"
      },
      "outputs": [],
      "source": [
        "# Convert stemmed text into numerical features\n",
        "vectorizer = TfidfVectorizer()\n",
        "vectorizer.fit(X_train_stemmed)\n",
        "\n",
        "X_train_vect = vectorizer.transform(X_train_stemmed)\n",
        "X_test_vect = vectorizer.transform(X_test_stemmed)"
      ]
    },
    {
      "cell_type": "markdown",
      "id": "ae1a80bd",
      "metadata": {
        "id": "ae1a80bd"
      },
      "source": [
        "## Section 9: Training the Model - Logistic Regression"
      ]
    },
    {
      "cell_type": "code",
      "execution_count": null,
      "id": "f9e89f07",
      "metadata": {
        "id": "f9e89f07"
      },
      "outputs": [],
      "source": [
        "model = LogisticRegression()"
      ]
    },
    {
      "cell_type": "code",
      "execution_count": null,
      "id": "3de58e07",
      "metadata": {
        "colab": {
          "base_uri": "https://localhost:8080/",
          "height": 80
        },
        "id": "3de58e07",
        "outputId": "f919dbe4-d705-4aea-8e84-a5cf071ae3d4"
      },
      "outputs": [],
      "source": [
        "# Train the model\n",
        "model.fit(X_train_vect, Y_train)"
      ]
    },
    {
      "cell_type": "markdown",
      "id": "ee4dd6f1",
      "metadata": {
        "id": "ee4dd6f1"
      },
      "source": [
        "## Section 10: Evaluation – Logistic Regression"
      ]
    },
    {
      "cell_type": "code",
      "execution_count": null,
      "id": "27183071",
      "metadata": {
        "colab": {
          "base_uri": "https://localhost:8080/"
        },
        "id": "27183071",
        "outputId": "c432a316-81f6-44cc-c634-37742f9202fc"
      },
      "outputs": [],
      "source": [
        "# Evaluation on Training Data\n",
        "train_preds = model.predict(X_train_vect)\n",
        "train_accuracy = accuracy_score(Y_train, train_preds)\n",
        "print(f\"Training Accuracy: {train_accuracy:.4f}\")\n",
        "\n",
        "# Evaluation on Test Data\n",
        "test_preds = model.predict(X_test_vect)\n",
        "test_accuracy = accuracy_score(Y_test, test_preds)\n",
        "print(f\"Test Accuracy: {test_accuracy:.4f}\")\n",
        "\n",
        "# Classification Report\n",
        "print(\"\\nClassification Report:\")\n",
        "print(classification_report(Y_test, test_preds, target_names=[\"FAKE\", \"REAL\"]))\n",
        "\n",
        "# Confusion Matrix\n",
        "print(\"Confusion Matrix:\")\n",
        "print(confusion_matrix(Y_test, test_preds))\n",
        "\n",
        "# ROC-AUC Score (for probability-based models)\n",
        "if hasattr(model, \"predict_proba\"):\n",
        "    y_probs = model.predict_proba(X_test_vect)[:, 1]  # Probabilities for class 'Fake'\n",
        "    roc_auc = roc_auc_score(Y_test, y_probs)\n",
        "    print(f\"ROC-AUC Score: {roc_auc:.4f}\")\n"
      ]
    },
    {
      "cell_type": "code",
      "execution_count": null,
      "id": "22b9e89d",
      "metadata": {
        "colab": {
          "base_uri": "https://localhost:8080/"
        },
        "id": "22b9e89d",
        "outputId": "5d44937f-8a43-43ec-b9e2-04ed12b59598"
      },
      "outputs": [],
      "source": [
        "# Show predictions for first 5 test samples\n",
        "for i in range(5):\n",
        "    print(f\"\\n News Title: {X_test_raw[i]}\")\n",
        "    pred = model.predict(X_test_vect[i]).item()\n",
        "    label = \"FAKE\" if pred == 0 else \"REAL\"\n",
        "    actual = \"FAKE\" if Y_test[i] == 0 else \"REAL\"\n",
        "    print(f\"Predicted: {label} | Actual: {actual}\")\n"
      ]
    },
    {
      "cell_type": "code",
      "execution_count": null,
      "id": "7568d6d8",
      "metadata": {
        "id": "7568d6d8"
      },
      "outputs": [],
      "source": [
        "def predict_news(news_text):\n",
        "    cleaned = stemming(news_text)\n",
        "    vectorized_input = vectorizer.transform([cleaned])\n",
        "\n",
        "    prediction = model.predict(vectorized_input)[0]\n",
        "    prob = model.predict_proba(vectorized_input)[0][1] if hasattr(model, \"predict_proba\") else None\n",
        "\n",
        "    print(\"\\nInput News Title:\")\n",
        "    print(news_text)\n",
        "\n",
        "    print(\"\\nPrediction:\")\n",
        "    if prediction == 0:\n",
        "      print(\"The news is classified as: FAKE\")\n",
        "    else:\n",
        "      print(\"The news is classified as: REAL\")\n",
        "\n",
        "    if prob is not None:\n",
        "        print(f\"Confidence (Real Probability): {prob:.4f}\")\n",
        "        # print(f\"Confidence - FAKE: {prob[0]:.4f}, REAL: {prob[1]:.4f}\")"
      ]
    },
    {
      "cell_type": "code",
      "execution_count": null,
      "id": "3e7f0534",
      "metadata": {
        "colab": {
          "base_uri": "https://localhost:8080/"
        },
        "id": "3e7f0534",
        "outputId": "18845cb2-55d5-4aea-d448-fbadfd710c12"
      },
      "outputs": [],
      "source": [
        "# Example test\n",
        "custom_news = \"Pfizer and BioNTech announce positive results from late-stage COVID-19 vaccine trial. The companies reported that the vaccine was more than 90% effective in preventing COVID-19 among participants without evidence of prior infection. The Phase 3 clinical trial enrolled 43,538 participants, with no serious safety concerns reported. The vaccine candidate is based on mRNA technology and requires two doses administered three weeks apart. Pfizer plans to seek Emergency Use Authorization from the U.S. FDA. Global health experts have hailed the development as a significant milestone in the fight against the pandemic. Pfizer and BioNTech also confirmed their commitment to equitable global access, including low- and middle-income countries.\"\n",
        "predict_news(custom_news)"
      ]
    },
    {
      "cell_type": "code",
      "execution_count": null,
      "id": "TLOboQkN22p-",
      "metadata": {
        "colab": {
          "base_uri": "https://localhost:8080/"
        },
        "id": "TLOboQkN22p-",
        "outputId": "b3557e12-59ca-428c-f3f1-85571fac1751"
      },
      "outputs": [],
      "source": [
        "# Example custom input\n",
        "custom_news = \"Government confirms lizard people control major banks and media. In a shocking revelation, the Prime Minister's office released a statement confirming the existence of reptilian humanoids infiltrating global financial institutions and news networks. These shape-shifting beings, originating from the Draco constellation, have allegedly been manipulating world events for decades. The statement claims their ultimate goal is to enslave humanity and establish a New World Order. The Ministry of Defense has deployed elite units to capture and expose the reptilians, promising transparency and public safety in the coming weeks. Meanwhile, conspiracy theorists claim they were right all along.\"\n",
        "predict_news(custom_news)"
      ]
    },
    {
      "cell_type": "markdown",
      "id": "5769a4ca",
      "metadata": {
        "id": "5769a4ca"
      },
      "source": [
        "## Section 11: Fake News Detection using Pretrained BERT"
      ]
    },
    {
      "cell_type": "code",
      "execution_count": null,
      "id": "a800719e",
      "metadata": {
        "colab": {
          "base_uri": "https://localhost:8080/",
          "height": 1000,
          "referenced_widgets": [
            "a0e109c778b64880a86516e3f206c19f",
            "944d892f732d4475bc31842a6d20a507",
            "a0d5c08e791443248c318fe48ac784bb",
            "8a607b900ee64ca591ba870280908cb8",
            "94c47840ef644e688764613c2b870bc5",
            "b3ece44b224e48329de18f4223124382",
            "a5de1be25e184c7385b00703d993b1a3",
            "efd073605df446e0873b15a2b0c22997",
            "fbdfc23e587a47d3babf7372f6998db1",
            "47ae3198cae648b68023e417a12d7bad",
            "d697cc4e291947aba5d0e002caa201ad",
            "d9dbeffc88464c01898770ccb68553f1",
            "9e34a397a281451d9c2783505c60803b",
            "672827f463504f7bb624617f0d2c0a6d",
            "e2caf3da54a4459894313a5771250400",
            "4a7b96f021cb46c297713c4e1d077ff5",
            "63e4deab0edb4076b9ba0b60fd6ec4d0",
            "341d5236717d44bd9ddca87b71c42177",
            "7725427b16db45588e51636af1b536b8",
            "1fb14e43dbcd49cb87836aa8c3c3fab1",
            "ebb50f5b43f94065b49f5ac3541d7b42",
            "ad40b55ff0e141e388a0b499d306456d",
            "cd20c0353ce74c17a5593922d1f2d354",
            "1ee5ba39faae4f409b4e9dc1af6811a4",
            "a74df977c5de4ebe9ec838ef30173337",
            "374f8a83db3246168a8496252b887333",
            "8629fbe1e49548e3acc56443ce69fe0c",
            "a150d9630a7b4b5b94ea18b53161b5bb",
            "72368b9d69ff4c81b4d7fc2ae93146b3",
            "4fcc38d4d8294bfc880a23080f10f439",
            "ff2ecc88db4240d3ae8ac9d86ec92e42",
            "5ac2f0529cfc48308679dce215a94a1d",
            "12f7b20494f2486a8159b0b51bdbc913",
            "516119d345af4460b1e8da4a0af2b43b",
            "8ebddf434e734e1daac28210bca4bc3f",
            "c5e920d4ed11425e8b32b2d82087b6cb",
            "80be5069a10a4a05bdb0de601a10b05d",
            "6de3590aba144070b302daf936c894c0",
            "a20e61a4f0c3438cb8e89890c450e2c6",
            "a83a497971fa4a418a7e9a38df760897",
            "69cce3a26d894b4a9f032227c73210b2",
            "336bda99662d4684b9169330c15f8c84",
            "80394943530a4e3186cfa2a360b4100e",
            "0c7307a4413641e3a75b6368e4b33704",
            "c7a231b76398450097572e1450d91693",
            "9691d8d455e64d3eba71305607f16438",
            "9954dd707c5948d783ab55f90facb4d6",
            "f9e24a18437e4629935eb72cf3ffe609",
            "6b711f25e8694071b1b1c418b7aba4e8",
            "ce649b64355742899623aa318085b56f",
            "24d2bca1e25740c89d2de7388f51dad2",
            "e20cd491035d47cc9bdbb188de3e6b32",
            "6473fb81c0ba43d6baa50f7daca49e8f",
            "5074d79309674b73b17d3f6748fc75b3",
            "ac16a0505a8e40c7b38e9d5f9f14233b",
            "aca448f0a3634929a61d87a4340fea7c",
            "d3251c86202f434fb70b4a7ca80e0625",
            "7477dee5388e4035b3ee7cb64eb6b295",
            "a9606d00b47c4be5a70494a835fdfd46",
            "caa02fd50eab487bb991f800046f6e38",
            "ed1f0666be384fb1ac0fb19c7788a41f",
            "f72bb4f8f17f46a2bc3846b8fd4d5416",
            "59cce3a2adaf426a85961674ce30e27c",
            "ff89d01f939d4896a146684cd11dd9d0",
            "f76e072f05094d84a7d47f7a8dacf361",
            "a278a6f455064ad4a1ad51a0e919496f",
            "96d7382deaec41e7be438f751c2adc23",
            "af9b3fce28d04642b4e8a1f8c10f806d",
            "f17d67d0695640cb9f9c96ba7a2ce6cd",
            "965608407b2a43849339dd0e2d29970b",
            "c296934986ad4ae7bf704d4514c231ca",
            "66be038bc4b34199a7dbfad712d0bbc5",
            "1df47d5630d04d7a84ee8a8793f73c2a",
            "8929abd67c4c4d93a1dd34019661404b",
            "a3153e1a0b1d49c49bf01e25f2015ad4",
            "d34c46bb4a5c459bbf40b9201612038f",
            "7162c8026f7e4687aaa3c6b6d6051e8b"
          ]
        },
        "id": "a800719e",
        "outputId": "3f540967-8ab3-4ad4-c567-7279cd57923e"
      },
      "outputs": [],
      "source": [
        "# Load Model & Tokenizer\n",
        "model_name = \"jy46604790/Fake-News-Bert-Detect\"\n",
        "tokenizer = AutoTokenizer.from_pretrained(model_name)\n",
        "model = AutoModelForSequenceClassification.from_pretrained(model_name)\n",
        "\n",
        "device = torch.device(\"cuda\" if torch.cuda.is_available() else \"cpu\")\n",
        "model.to(device)\n",
        "\n",
        "# Use pipeline with truncation handling\n",
        "classifier = pipeline(\n",
        "    \"text-classification\",\n",
        "    model=model,\n",
        "    tokenizer=tokenizer,\n",
        "    device=0 if torch.cuda.is_available() else -1,\n",
        "    truncation=True,\n",
        "    max_length=512,\n",
        "    padding=True\n",
        ")\n",
        "\n",
        "# Define label map\n",
        "label_map = {'LABEL_0': 0, 'LABEL_1': 1}  # 0 = FAKE, 1 = REAL\n",
        "\n",
        "def clean_batch(batch):\n",
        "    return [str(x) if x is not None else \"\" for x in batch]\n",
        "\n",
        "# Evaluation on Training Data\n",
        "bert_train_preds = []\n",
        "batch_size = 8\n",
        "\n",
        "for i in tqdm(range(0, len(X_train_raw), batch_size), desc=\"BERT Train Batches\"):\n",
        "    batch = clean_batch(X_train_raw[i:i+batch_size])\n",
        "    results = classifier(batch)\n",
        "    for pred in results:\n",
        "        label = pred['label']\n",
        "        if label not in label_map:\n",
        "            raise ValueError(f\"Unexpected label: {label}\")\n",
        "        bert_train_preds.append(label_map[label])\n",
        "\n",
        "train_accuracy = accuracy_score(Y_train, bert_train_preds)\n",
        "print(f\"\\nTraining Accuracy: {train_accuracy:.4f}\")\n",
        "\n",
        "# Evaluation on Test Data\n",
        "bert_test_preds = []\n",
        "\n",
        "for i in tqdm(range(0, len(X_test_raw), batch_size), desc=\"BERT Test Batches\"):\n",
        "    batch = clean_batch(X_test_raw[i:i+batch_size])\n",
        "    results = classifier(batch)\n",
        "    for pred in results:\n",
        "        label = pred['label']\n",
        "        if label not in label_map:\n",
        "            raise ValueError(f\"Unexpected label: {label}\")\n",
        "        bert_test_preds.append(label_map[label])\n",
        "\n",
        "test_accuracy = accuracy_score(Y_test, bert_test_preds)\n",
        "print(f\"Test Accuracy: {test_accuracy:.4f}\")\n",
        "\n",
        "# Classification Report\n",
        "print(\"\\n[BERT] Classification Report:\")\n",
        "print(classification_report(Y_test, bert_test_preds, target_names=[\"FAKE\", \"REAL\"]))\n",
        "\n",
        "# Confusion Matrix\n",
        "print(\"Confusion Matrix:\")\n",
        "print(confusion_matrix(Y_test, bert_test_preds))"
      ]
    },
    {
      "cell_type": "code",
      "execution_count": null,
      "id": "cf862281",
      "metadata": {
        "colab": {
          "base_uri": "https://localhost:8080/"
        },
        "id": "cf862281",
        "outputId": "414382e2-589a-40d2-ca96-c4d833e18c0f"
      },
      "outputs": [],
      "source": [
        "# Show predictions for first 5 test samples\n",
        "for i in range(5):\n",
        "    print(f\"\\nNews Title: {X_test_raw[i]}\")\n",
        "    predicted_label = \"FAKE\" if bert_test_preds[i] == 0 else \"REAL\"\n",
        "    actual_label = \"FAKE\" if Y_test[i] == 0 else \"REAL\"\n",
        "    print(f\"Predicted: {predicted_label} | Actual: {actual_label}\")"
      ]
    },
    {
      "cell_type": "code",
      "execution_count": null,
      "id": "e8b2d8d2",
      "metadata": {
        "id": "e8b2d8d2"
      },
      "outputs": [],
      "source": [
        "# Custom Prediction Function\n",
        "def predict_news_bert(news_text):\n",
        "    pred = classifier(news_text)[0]\n",
        "    label = \"FAKE\" if pred['label'] == 'LABEL_0' else \"REAL\"\n",
        "    score = pred['score']\n",
        "\n",
        "    print(\"\\nInput News Title:\")\n",
        "    print(news_text)\n",
        "\n",
        "    print(\"\\nPrediction:\")\n",
        "    print(f\"The news is classified as: {label}\")\n",
        "    print(f\"Confidence Score: {score:.4f}\")"
      ]
    },
    {
      "cell_type": "code",
      "execution_count": null,
      "id": "80ca7e2e",
      "metadata": {
        "colab": {
          "base_uri": "https://localhost:8080/"
        },
        "id": "80ca7e2e",
        "outputId": "92409be1-bc45-4433-d7a3-3e9f6970b076"
      },
      "outputs": [],
      "source": [
        "# Example custom input\n",
        "custom_news = \"Pfizer and BioNTech announce positive results from late-stage COVID-19 vaccine trial. The companies reported that the vaccine was more than 90% effective in preventing COVID-19 among participants without evidence of prior infection. The Phase 3 clinical trial enrolled 43,538 participants, with no serious safety concerns reported. The vaccine candidate is based on mRNA technology and requires two doses administered three weeks apart. Pfizer plans to seek Emergency Use Authorization from the U.S. FDA. Global health experts have hailed the development as a significant milestone in the fight against the pandemic. Pfizer and BioNTech also confirmed their commitment to equitable global access, including low- and middle-income countries.\"\n",
        "predict_news_bert(custom_news)"
      ]
    },
    {
      "cell_type": "code",
      "execution_count": null,
      "id": "0abe5cc4",
      "metadata": {
        "colab": {
          "base_uri": "https://localhost:8080/"
        },
        "id": "0abe5cc4",
        "outputId": "e51441c3-14d3-4777-d0b2-d75e2e03a00e"
      },
      "outputs": [],
      "source": [
        "# Example custom input\n",
        "custom_news = \"Government confirms lizard people control major banks and media. In a shocking revelation, the Prime Minister's office released a statement confirming the existence of reptilian humanoids infiltrating global financial institutions and news networks. These shape-shifting beings, originating from the Draco constellation, have allegedly been manipulating world events for decades. The statement claims their ultimate goal is to enslave humanity and establish a New World Order. The Ministry of Defense has deployed elite units to capture and expose the reptilians, promising transparency and public safety in the coming weeks. Meanwhile, conspiracy theorists claim they were right all along.\"\n",
        "predict_news_bert(custom_news)"
      ]
    },
    {
      "cell_type": "code",
      "execution_count": null,
      "id": "J-rV5qx6LGOn",
      "metadata": {
        "id": "J-rV5qx6LGOn"
      },
      "outputs": [],
      "source": []
    }
  ],
  "metadata": {
    "accelerator": "GPU",
    "colab": {
      "gpuType": "T4",
      "provenance": []
    },
    "kernelspec": {
      "display_name": "Python 3",
      "name": "python3"
    },
    "language_info": {
      "codemirror_mode": {
        "name": "ipython",
        "version": 3
      },
      "file_extension": ".py",
      "mimetype": "text/x-python",
      "name": "python",
      "nbconvert_exporter": "python",
      "pygments_lexer": "ipython3",
      "version": "3.9.20"
    },
    "widgets": {
      "state": {},
      "application/vnd.jupyter.widget-state+json": {
        "0c7307a4413641e3a75b6368e4b33704": {
          "model_module": "@jupyter-widgets/controls",
          "model_module_version": "1.5.0",
          "model_name": "DescriptionStyleModel",
          "state": {
            "_model_module": "@jupyter-widgets/controls",
            "_model_module_version": "1.5.0",
            "_model_name": "DescriptionStyleModel",
            "_view_count": null,
            "_view_module": "@jupyter-widgets/base",
            "_view_module_version": "1.2.0",
            "_view_name": "StyleView",
            "description_width": ""
          }
        },
        "12f7b20494f2486a8159b0b51bdbc913": {
          "model_module": "@jupyter-widgets/controls",
          "model_module_version": "1.5.0",
          "model_name": "DescriptionStyleModel",
          "state": {
            "_model_module": "@jupyter-widgets/controls",
            "_model_module_version": "1.5.0",
            "_model_name": "DescriptionStyleModel",
            "_view_count": null,
            "_view_module": "@jupyter-widgets/base",
            "_view_module_version": "1.2.0",
            "_view_name": "StyleView",
            "description_width": ""
          }
        },
        "1df47d5630d04d7a84ee8a8793f73c2a": {
          "model_module": "@jupyter-widgets/controls",
          "model_module_version": "1.5.0",
          "model_name": "DescriptionStyleModel",
          "state": {
            "_model_module": "@jupyter-widgets/controls",
            "_model_module_version": "1.5.0",
            "_model_name": "DescriptionStyleModel",
            "_view_count": null,
            "_view_module": "@jupyter-widgets/base",
            "_view_module_version": "1.2.0",
            "_view_name": "StyleView",
            "description_width": ""
          }
        },
        "1ee5ba39faae4f409b4e9dc1af6811a4": {
          "model_module": "@jupyter-widgets/controls",
          "model_module_version": "1.5.0",
          "model_name": "HTMLModel",
          "state": {
            "_dom_classes": [],
            "_model_module": "@jupyter-widgets/controls",
            "_model_module_version": "1.5.0",
            "_model_name": "HTMLModel",
            "_view_count": null,
            "_view_module": "@jupyter-widgets/controls",
            "_view_module_version": "1.5.0",
            "_view_name": "HTMLView",
            "description": "",
            "description_tooltip": null,
            "layout": "IPY_MODEL_a150d9630a7b4b5b94ea18b53161b5bb",
            "placeholder": "​",
            "style": "IPY_MODEL_72368b9d69ff4c81b4d7fc2ae93146b3",
            "value": "merges.txt: "
          }
        },
        "1fb14e43dbcd49cb87836aa8c3c3fab1": {
          "model_module": "@jupyter-widgets/controls",
          "model_module_version": "1.5.0",
          "model_name": "ProgressStyleModel",
          "state": {
            "_model_module": "@jupyter-widgets/controls",
            "_model_module_version": "1.5.0",
            "_model_name": "ProgressStyleModel",
            "_view_count": null,
            "_view_module": "@jupyter-widgets/base",
            "_view_module_version": "1.2.0",
            "_view_name": "StyleView",
            "bar_color": null,
            "description_width": ""
          }
        },
        "24d2bca1e25740c89d2de7388f51dad2": {
          "model_module": "@jupyter-widgets/controls",
          "model_module_version": "1.5.0",
          "model_name": "DescriptionStyleModel",
          "state": {
            "_model_module": "@jupyter-widgets/controls",
            "_model_module_version": "1.5.0",
            "_model_name": "DescriptionStyleModel",
            "_view_count": null,
            "_view_module": "@jupyter-widgets/base",
            "_view_module_version": "1.2.0",
            "_view_name": "StyleView",
            "description_width": ""
          }
        },
        "336bda99662d4684b9169330c15f8c84": {
          "model_module": "@jupyter-widgets/controls",
          "model_module_version": "1.5.0",
          "model_name": "ProgressStyleModel",
          "state": {
            "_model_module": "@jupyter-widgets/controls",
            "_model_module_version": "1.5.0",
            "_model_name": "ProgressStyleModel",
            "_view_count": null,
            "_view_module": "@jupyter-widgets/base",
            "_view_module_version": "1.2.0",
            "_view_name": "StyleView",
            "bar_color": null,
            "description_width": ""
          }
        },
        "341d5236717d44bd9ddca87b71c42177": {
          "model_module": "@jupyter-widgets/controls",
          "model_module_version": "1.5.0",
          "model_name": "DescriptionStyleModel",
          "state": {
            "_model_module": "@jupyter-widgets/controls",
            "_model_module_version": "1.5.0",
            "_model_name": "DescriptionStyleModel",
            "_view_count": null,
            "_view_module": "@jupyter-widgets/base",
            "_view_module_version": "1.2.0",
            "_view_name": "StyleView",
            "description_width": ""
          }
        },
        "374f8a83db3246168a8496252b887333": {
          "model_module": "@jupyter-widgets/controls",
          "model_module_version": "1.5.0",
          "model_name": "HTMLModel",
          "state": {
            "_dom_classes": [],
            "_model_module": "@jupyter-widgets/controls",
            "_model_module_version": "1.5.0",
            "_model_name": "HTMLModel",
            "_view_count": null,
            "_view_module": "@jupyter-widgets/controls",
            "_view_module_version": "1.5.0",
            "_view_name": "HTMLView",
            "description": "",
            "description_tooltip": null,
            "layout": "IPY_MODEL_5ac2f0529cfc48308679dce215a94a1d",
            "placeholder": "​",
            "style": "IPY_MODEL_12f7b20494f2486a8159b0b51bdbc913",
            "value": " 456k/? [00:00&lt;00:00, 23.1MB/s]"
          }
        },
        "47ae3198cae648b68023e417a12d7bad": {
          "model_module": "@jupyter-widgets/base",
          "model_module_version": "1.2.0",
          "model_name": "LayoutModel",
          "state": {
            "_model_module": "@jupyter-widgets/base",
            "_model_module_version": "1.2.0",
            "_model_name": "LayoutModel",
            "_view_count": null,
            "_view_module": "@jupyter-widgets/base",
            "_view_module_version": "1.2.0",
            "_view_name": "LayoutView",
            "align_content": null,
            "align_items": null,
            "align_self": null,
            "border": null,
            "bottom": null,
            "display": null,
            "flex": null,
            "flex_flow": null,
            "grid_area": null,
            "grid_auto_columns": null,
            "grid_auto_flow": null,
            "grid_auto_rows": null,
            "grid_column": null,
            "grid_gap": null,
            "grid_row": null,
            "grid_template_areas": null,
            "grid_template_columns": null,
            "grid_template_rows": null,
            "height": null,
            "justify_content": null,
            "justify_items": null,
            "left": null,
            "margin": null,
            "max_height": null,
            "max_width": null,
            "min_height": null,
            "min_width": null,
            "object_fit": null,
            "object_position": null,
            "order": null,
            "overflow": null,
            "overflow_x": null,
            "overflow_y": null,
            "padding": null,
            "right": null,
            "top": null,
            "visibility": null,
            "width": null
          }
        },
        "4a7b96f021cb46c297713c4e1d077ff5": {
          "model_module": "@jupyter-widgets/base",
          "model_module_version": "1.2.0",
          "model_name": "LayoutModel",
          "state": {
            "_model_module": "@jupyter-widgets/base",
            "_model_module_version": "1.2.0",
            "_model_name": "LayoutModel",
            "_view_count": null,
            "_view_module": "@jupyter-widgets/base",
            "_view_module_version": "1.2.0",
            "_view_name": "LayoutView",
            "align_content": null,
            "align_items": null,
            "align_self": null,
            "border": null,
            "bottom": null,
            "display": null,
            "flex": null,
            "flex_flow": null,
            "grid_area": null,
            "grid_auto_columns": null,
            "grid_auto_flow": null,
            "grid_auto_rows": null,
            "grid_column": null,
            "grid_gap": null,
            "grid_row": null,
            "grid_template_areas": null,
            "grid_template_columns": null,
            "grid_template_rows": null,
            "height": null,
            "justify_content": null,
            "justify_items": null,
            "left": null,
            "margin": null,
            "max_height": null,
            "max_width": null,
            "min_height": null,
            "min_width": null,
            "object_fit": null,
            "object_position": null,
            "order": null,
            "overflow": null,
            "overflow_x": null,
            "overflow_y": null,
            "padding": null,
            "right": null,
            "top": null,
            "visibility": null,
            "width": null
          }
        },
        "4fcc38d4d8294bfc880a23080f10f439": {
          "model_module": "@jupyter-widgets/base",
          "model_module_version": "1.2.0",
          "model_name": "LayoutModel",
          "state": {
            "_model_module": "@jupyter-widgets/base",
            "_model_module_version": "1.2.0",
            "_model_name": "LayoutModel",
            "_view_count": null,
            "_view_module": "@jupyter-widgets/base",
            "_view_module_version": "1.2.0",
            "_view_name": "LayoutView",
            "align_content": null,
            "align_items": null,
            "align_self": null,
            "border": null,
            "bottom": null,
            "display": null,
            "flex": null,
            "flex_flow": null,
            "grid_area": null,
            "grid_auto_columns": null,
            "grid_auto_flow": null,
            "grid_auto_rows": null,
            "grid_column": null,
            "grid_gap": null,
            "grid_row": null,
            "grid_template_areas": null,
            "grid_template_columns": null,
            "grid_template_rows": null,
            "height": null,
            "justify_content": null,
            "justify_items": null,
            "left": null,
            "margin": null,
            "max_height": null,
            "max_width": null,
            "min_height": null,
            "min_width": null,
            "object_fit": null,
            "object_position": null,
            "order": null,
            "overflow": null,
            "overflow_x": null,
            "overflow_y": null,
            "padding": null,
            "right": null,
            "top": null,
            "visibility": null,
            "width": "20px"
          }
        },
        "5074d79309674b73b17d3f6748fc75b3": {
          "model_module": "@jupyter-widgets/base",
          "model_module_version": "1.2.0",
          "model_name": "LayoutModel",
          "state": {
            "_model_module": "@jupyter-widgets/base",
            "_model_module_version": "1.2.0",
            "_model_name": "LayoutModel",
            "_view_count": null,
            "_view_module": "@jupyter-widgets/base",
            "_view_module_version": "1.2.0",
            "_view_name": "LayoutView",
            "align_content": null,
            "align_items": null,
            "align_self": null,
            "border": null,
            "bottom": null,
            "display": null,
            "flex": null,
            "flex_flow": null,
            "grid_area": null,
            "grid_auto_columns": null,
            "grid_auto_flow": null,
            "grid_auto_rows": null,
            "grid_column": null,
            "grid_gap": null,
            "grid_row": null,
            "grid_template_areas": null,
            "grid_template_columns": null,
            "grid_template_rows": null,
            "height": null,
            "justify_content": null,
            "justify_items": null,
            "left": null,
            "margin": null,
            "max_height": null,
            "max_width": null,
            "min_height": null,
            "min_width": null,
            "object_fit": null,
            "object_position": null,
            "order": null,
            "overflow": null,
            "overflow_x": null,
            "overflow_y": null,
            "padding": null,
            "right": null,
            "top": null,
            "visibility": null,
            "width": null
          }
        },
        "516119d345af4460b1e8da4a0af2b43b": {
          "model_module": "@jupyter-widgets/controls",
          "model_module_version": "1.5.0",
          "model_name": "HBoxModel",
          "state": {
            "_dom_classes": [],
            "_model_module": "@jupyter-widgets/controls",
            "_model_module_version": "1.5.0",
            "_model_name": "HBoxModel",
            "_view_count": null,
            "_view_module": "@jupyter-widgets/controls",
            "_view_module_version": "1.5.0",
            "_view_name": "HBoxView",
            "box_style": "",
            "children": [
              "IPY_MODEL_8ebddf434e734e1daac28210bca4bc3f",
              "IPY_MODEL_c5e920d4ed11425e8b32b2d82087b6cb",
              "IPY_MODEL_80be5069a10a4a05bdb0de601a10b05d"
            ],
            "layout": "IPY_MODEL_6de3590aba144070b302daf936c894c0"
          }
        },
        "59cce3a2adaf426a85961674ce30e27c": {
          "model_module": "@jupyter-widgets/base",
          "model_module_version": "1.2.0",
          "model_name": "LayoutModel",
          "state": {
            "_model_module": "@jupyter-widgets/base",
            "_model_module_version": "1.2.0",
            "_model_name": "LayoutModel",
            "_view_count": null,
            "_view_module": "@jupyter-widgets/base",
            "_view_module_version": "1.2.0",
            "_view_name": "LayoutView",
            "align_content": null,
            "align_items": null,
            "align_self": null,
            "border": null,
            "bottom": null,
            "display": null,
            "flex": null,
            "flex_flow": null,
            "grid_area": null,
            "grid_auto_columns": null,
            "grid_auto_flow": null,
            "grid_auto_rows": null,
            "grid_column": null,
            "grid_gap": null,
            "grid_row": null,
            "grid_template_areas": null,
            "grid_template_columns": null,
            "grid_template_rows": null,
            "height": null,
            "justify_content": null,
            "justify_items": null,
            "left": null,
            "margin": null,
            "max_height": null,
            "max_width": null,
            "min_height": null,
            "min_width": null,
            "object_fit": null,
            "object_position": null,
            "order": null,
            "overflow": null,
            "overflow_x": null,
            "overflow_y": null,
            "padding": null,
            "right": null,
            "top": null,
            "visibility": null,
            "width": null
          }
        },
        "5ac2f0529cfc48308679dce215a94a1d": {
          "model_module": "@jupyter-widgets/base",
          "model_module_version": "1.2.0",
          "model_name": "LayoutModel",
          "state": {
            "_model_module": "@jupyter-widgets/base",
            "_model_module_version": "1.2.0",
            "_model_name": "LayoutModel",
            "_view_count": null,
            "_view_module": "@jupyter-widgets/base",
            "_view_module_version": "1.2.0",
            "_view_name": "LayoutView",
            "align_content": null,
            "align_items": null,
            "align_self": null,
            "border": null,
            "bottom": null,
            "display": null,
            "flex": null,
            "flex_flow": null,
            "grid_area": null,
            "grid_auto_columns": null,
            "grid_auto_flow": null,
            "grid_auto_rows": null,
            "grid_column": null,
            "grid_gap": null,
            "grid_row": null,
            "grid_template_areas": null,
            "grid_template_columns": null,
            "grid_template_rows": null,
            "height": null,
            "justify_content": null,
            "justify_items": null,
            "left": null,
            "margin": null,
            "max_height": null,
            "max_width": null,
            "min_height": null,
            "min_width": null,
            "object_fit": null,
            "object_position": null,
            "order": null,
            "overflow": null,
            "overflow_x": null,
            "overflow_y": null,
            "padding": null,
            "right": null,
            "top": null,
            "visibility": null,
            "width": null
          }
        },
        "63e4deab0edb4076b9ba0b60fd6ec4d0": {
          "model_module": "@jupyter-widgets/base",
          "model_module_version": "1.2.0",
          "model_name": "LayoutModel",
          "state": {
            "_model_module": "@jupyter-widgets/base",
            "_model_module_version": "1.2.0",
            "_model_name": "LayoutModel",
            "_view_count": null,
            "_view_module": "@jupyter-widgets/base",
            "_view_module_version": "1.2.0",
            "_view_name": "LayoutView",
            "align_content": null,
            "align_items": null,
            "align_self": null,
            "border": null,
            "bottom": null,
            "display": null,
            "flex": null,
            "flex_flow": null,
            "grid_area": null,
            "grid_auto_columns": null,
            "grid_auto_flow": null,
            "grid_auto_rows": null,
            "grid_column": null,
            "grid_gap": null,
            "grid_row": null,
            "grid_template_areas": null,
            "grid_template_columns": null,
            "grid_template_rows": null,
            "height": null,
            "justify_content": null,
            "justify_items": null,
            "left": null,
            "margin": null,
            "max_height": null,
            "max_width": null,
            "min_height": null,
            "min_width": null,
            "object_fit": null,
            "object_position": null,
            "order": null,
            "overflow": null,
            "overflow_x": null,
            "overflow_y": null,
            "padding": null,
            "right": null,
            "top": null,
            "visibility": null,
            "width": null
          }
        },
        "6473fb81c0ba43d6baa50f7daca49e8f": {
          "model_module": "@jupyter-widgets/controls",
          "model_module_version": "1.5.0",
          "model_name": "ProgressStyleModel",
          "state": {
            "_model_module": "@jupyter-widgets/controls",
            "_model_module_version": "1.5.0",
            "_model_name": "ProgressStyleModel",
            "_view_count": null,
            "_view_module": "@jupyter-widgets/base",
            "_view_module_version": "1.2.0",
            "_view_name": "StyleView",
            "bar_color": null,
            "description_width": ""
          }
        },
        "66be038bc4b34199a7dbfad712d0bbc5": {
          "model_module": "@jupyter-widgets/base",
          "model_module_version": "1.2.0",
          "model_name": "LayoutModel",
          "state": {
            "_model_module": "@jupyter-widgets/base",
            "_model_module_version": "1.2.0",
            "_model_name": "LayoutModel",
            "_view_count": null,
            "_view_module": "@jupyter-widgets/base",
            "_view_module_version": "1.2.0",
            "_view_name": "LayoutView",
            "align_content": null,
            "align_items": null,
            "align_self": null,
            "border": null,
            "bottom": null,
            "display": null,
            "flex": null,
            "flex_flow": null,
            "grid_area": null,
            "grid_auto_columns": null,
            "grid_auto_flow": null,
            "grid_auto_rows": null,
            "grid_column": null,
            "grid_gap": null,
            "grid_row": null,
            "grid_template_areas": null,
            "grid_template_columns": null,
            "grid_template_rows": null,
            "height": null,
            "justify_content": null,
            "justify_items": null,
            "left": null,
            "margin": null,
            "max_height": null,
            "max_width": null,
            "min_height": null,
            "min_width": null,
            "object_fit": null,
            "object_position": null,
            "order": null,
            "overflow": null,
            "overflow_x": null,
            "overflow_y": null,
            "padding": null,
            "right": null,
            "top": null,
            "visibility": null,
            "width": null
          }
        },
        "672827f463504f7bb624617f0d2c0a6d": {
          "model_module": "@jupyter-widgets/controls",
          "model_module_version": "1.5.0",
          "model_name": "FloatProgressModel",
          "state": {
            "_dom_classes": [],
            "_model_module": "@jupyter-widgets/controls",
            "_model_module_version": "1.5.0",
            "_model_name": "FloatProgressModel",
            "_view_count": null,
            "_view_module": "@jupyter-widgets/controls",
            "_view_module_version": "1.5.0",
            "_view_name": "ProgressView",
            "bar_style": "success",
            "description": "",
            "description_tooltip": null,
            "layout": "IPY_MODEL_7725427b16db45588e51636af1b536b8",
            "max": 1,
            "min": 0,
            "orientation": "horizontal",
            "style": "IPY_MODEL_1fb14e43dbcd49cb87836aa8c3c3fab1",
            "value": 1
          }
        },
        "69cce3a26d894b4a9f032227c73210b2": {
          "model_module": "@jupyter-widgets/base",
          "model_module_version": "1.2.0",
          "model_name": "LayoutModel",
          "state": {
            "_model_module": "@jupyter-widgets/base",
            "_model_module_version": "1.2.0",
            "_model_name": "LayoutModel",
            "_view_count": null,
            "_view_module": "@jupyter-widgets/base",
            "_view_module_version": "1.2.0",
            "_view_name": "LayoutView",
            "align_content": null,
            "align_items": null,
            "align_self": null,
            "border": null,
            "bottom": null,
            "display": null,
            "flex": null,
            "flex_flow": null,
            "grid_area": null,
            "grid_auto_columns": null,
            "grid_auto_flow": null,
            "grid_auto_rows": null,
            "grid_column": null,
            "grid_gap": null,
            "grid_row": null,
            "grid_template_areas": null,
            "grid_template_columns": null,
            "grid_template_rows": null,
            "height": null,
            "justify_content": null,
            "justify_items": null,
            "left": null,
            "margin": null,
            "max_height": null,
            "max_width": null,
            "min_height": null,
            "min_width": null,
            "object_fit": null,
            "object_position": null,
            "order": null,
            "overflow": null,
            "overflow_x": null,
            "overflow_y": null,
            "padding": null,
            "right": null,
            "top": null,
            "visibility": null,
            "width": null
          }
        },
        "6b711f25e8694071b1b1c418b7aba4e8": {
          "model_module": "@jupyter-widgets/base",
          "model_module_version": "1.2.0",
          "model_name": "LayoutModel",
          "state": {
            "_model_module": "@jupyter-widgets/base",
            "_model_module_version": "1.2.0",
            "_model_name": "LayoutModel",
            "_view_count": null,
            "_view_module": "@jupyter-widgets/base",
            "_view_module_version": "1.2.0",
            "_view_name": "LayoutView",
            "align_content": null,
            "align_items": null,
            "align_self": null,
            "border": null,
            "bottom": null,
            "display": null,
            "flex": null,
            "flex_flow": null,
            "grid_area": null,
            "grid_auto_columns": null,
            "grid_auto_flow": null,
            "grid_auto_rows": null,
            "grid_column": null,
            "grid_gap": null,
            "grid_row": null,
            "grid_template_areas": null,
            "grid_template_columns": null,
            "grid_template_rows": null,
            "height": null,
            "justify_content": null,
            "justify_items": null,
            "left": null,
            "margin": null,
            "max_height": null,
            "max_width": null,
            "min_height": null,
            "min_width": null,
            "object_fit": null,
            "object_position": null,
            "order": null,
            "overflow": null,
            "overflow_x": null,
            "overflow_y": null,
            "padding": null,
            "right": null,
            "top": null,
            "visibility": null,
            "width": null
          }
        },
        "6de3590aba144070b302daf936c894c0": {
          "model_module": "@jupyter-widgets/base",
          "model_module_version": "1.2.0",
          "model_name": "LayoutModel",
          "state": {
            "_model_module": "@jupyter-widgets/base",
            "_model_module_version": "1.2.0",
            "_model_name": "LayoutModel",
            "_view_count": null,
            "_view_module": "@jupyter-widgets/base",
            "_view_module_version": "1.2.0",
            "_view_name": "LayoutView",
            "align_content": null,
            "align_items": null,
            "align_self": null,
            "border": null,
            "bottom": null,
            "display": null,
            "flex": null,
            "flex_flow": null,
            "grid_area": null,
            "grid_auto_columns": null,
            "grid_auto_flow": null,
            "grid_auto_rows": null,
            "grid_column": null,
            "grid_gap": null,
            "grid_row": null,
            "grid_template_areas": null,
            "grid_template_columns": null,
            "grid_template_rows": null,
            "height": null,
            "justify_content": null,
            "justify_items": null,
            "left": null,
            "margin": null,
            "max_height": null,
            "max_width": null,
            "min_height": null,
            "min_width": null,
            "object_fit": null,
            "object_position": null,
            "order": null,
            "overflow": null,
            "overflow_x": null,
            "overflow_y": null,
            "padding": null,
            "right": null,
            "top": null,
            "visibility": null,
            "width": null
          }
        },
        "7162c8026f7e4687aaa3c6b6d6051e8b": {
          "model_module": "@jupyter-widgets/controls",
          "model_module_version": "1.5.0",
          "model_name": "DescriptionStyleModel",
          "state": {
            "_model_module": "@jupyter-widgets/controls",
            "_model_module_version": "1.5.0",
            "_model_name": "DescriptionStyleModel",
            "_view_count": null,
            "_view_module": "@jupyter-widgets/base",
            "_view_module_version": "1.2.0",
            "_view_name": "StyleView",
            "description_width": ""
          }
        },
        "72368b9d69ff4c81b4d7fc2ae93146b3": {
          "model_module": "@jupyter-widgets/controls",
          "model_module_version": "1.5.0",
          "model_name": "DescriptionStyleModel",
          "state": {
            "_model_module": "@jupyter-widgets/controls",
            "_model_module_version": "1.5.0",
            "_model_name": "DescriptionStyleModel",
            "_view_count": null,
            "_view_module": "@jupyter-widgets/base",
            "_view_module_version": "1.2.0",
            "_view_name": "StyleView",
            "description_width": ""
          }
        },
        "7477dee5388e4035b3ee7cb64eb6b295": {
          "model_module": "@jupyter-widgets/controls",
          "model_module_version": "1.5.0",
          "model_name": "FloatProgressModel",
          "state": {
            "_dom_classes": [],
            "_model_module": "@jupyter-widgets/controls",
            "_model_module_version": "1.5.0",
            "_model_name": "FloatProgressModel",
            "_view_count": null,
            "_view_module": "@jupyter-widgets/controls",
            "_view_module_version": "1.5.0",
            "_view_name": "ProgressView",
            "bar_style": "success",
            "description": "",
            "description_tooltip": null,
            "layout": "IPY_MODEL_59cce3a2adaf426a85961674ce30e27c",
            "max": 498657517,
            "min": 0,
            "orientation": "horizontal",
            "style": "IPY_MODEL_ff89d01f939d4896a146684cd11dd9d0",
            "value": 498657517
          }
        },
        "7725427b16db45588e51636af1b536b8": {
          "model_module": "@jupyter-widgets/base",
          "model_module_version": "1.2.0",
          "model_name": "LayoutModel",
          "state": {
            "_model_module": "@jupyter-widgets/base",
            "_model_module_version": "1.2.0",
            "_model_name": "LayoutModel",
            "_view_count": null,
            "_view_module": "@jupyter-widgets/base",
            "_view_module_version": "1.2.0",
            "_view_name": "LayoutView",
            "align_content": null,
            "align_items": null,
            "align_self": null,
            "border": null,
            "bottom": null,
            "display": null,
            "flex": null,
            "flex_flow": null,
            "grid_area": null,
            "grid_auto_columns": null,
            "grid_auto_flow": null,
            "grid_auto_rows": null,
            "grid_column": null,
            "grid_gap": null,
            "grid_row": null,
            "grid_template_areas": null,
            "grid_template_columns": null,
            "grid_template_rows": null,
            "height": null,
            "justify_content": null,
            "justify_items": null,
            "left": null,
            "margin": null,
            "max_height": null,
            "max_width": null,
            "min_height": null,
            "min_width": null,
            "object_fit": null,
            "object_position": null,
            "order": null,
            "overflow": null,
            "overflow_x": null,
            "overflow_y": null,
            "padding": null,
            "right": null,
            "top": null,
            "visibility": null,
            "width": "20px"
          }
        },
        "80394943530a4e3186cfa2a360b4100e": {
          "model_module": "@jupyter-widgets/base",
          "model_module_version": "1.2.0",
          "model_name": "LayoutModel",
          "state": {
            "_model_module": "@jupyter-widgets/base",
            "_model_module_version": "1.2.0",
            "_model_name": "LayoutModel",
            "_view_count": null,
            "_view_module": "@jupyter-widgets/base",
            "_view_module_version": "1.2.0",
            "_view_name": "LayoutView",
            "align_content": null,
            "align_items": null,
            "align_self": null,
            "border": null,
            "bottom": null,
            "display": null,
            "flex": null,
            "flex_flow": null,
            "grid_area": null,
            "grid_auto_columns": null,
            "grid_auto_flow": null,
            "grid_auto_rows": null,
            "grid_column": null,
            "grid_gap": null,
            "grid_row": null,
            "grid_template_areas": null,
            "grid_template_columns": null,
            "grid_template_rows": null,
            "height": null,
            "justify_content": null,
            "justify_items": null,
            "left": null,
            "margin": null,
            "max_height": null,
            "max_width": null,
            "min_height": null,
            "min_width": null,
            "object_fit": null,
            "object_position": null,
            "order": null,
            "overflow": null,
            "overflow_x": null,
            "overflow_y": null,
            "padding": null,
            "right": null,
            "top": null,
            "visibility": null,
            "width": null
          }
        },
        "80be5069a10a4a05bdb0de601a10b05d": {
          "model_module": "@jupyter-widgets/controls",
          "model_module_version": "1.5.0",
          "model_name": "HTMLModel",
          "state": {
            "_dom_classes": [],
            "_model_module": "@jupyter-widgets/controls",
            "_model_module_version": "1.5.0",
            "_model_name": "HTMLModel",
            "_view_count": null,
            "_view_module": "@jupyter-widgets/controls",
            "_view_module_version": "1.5.0",
            "_view_name": "HTMLView",
            "description": "",
            "description_tooltip": null,
            "layout": "IPY_MODEL_80394943530a4e3186cfa2a360b4100e",
            "placeholder": "​",
            "style": "IPY_MODEL_0c7307a4413641e3a75b6368e4b33704",
            "value": " 772/772 [00:00&lt;00:00, 70.2kB/s]"
          }
        },
        "8629fbe1e49548e3acc56443ce69fe0c": {
          "model_module": "@jupyter-widgets/base",
          "model_module_version": "1.2.0",
          "model_name": "LayoutModel",
          "state": {
            "_model_module": "@jupyter-widgets/base",
            "_model_module_version": "1.2.0",
            "_model_name": "LayoutModel",
            "_view_count": null,
            "_view_module": "@jupyter-widgets/base",
            "_view_module_version": "1.2.0",
            "_view_name": "LayoutView",
            "align_content": null,
            "align_items": null,
            "align_self": null,
            "border": null,
            "bottom": null,
            "display": null,
            "flex": null,
            "flex_flow": null,
            "grid_area": null,
            "grid_auto_columns": null,
            "grid_auto_flow": null,
            "grid_auto_rows": null,
            "grid_column": null,
            "grid_gap": null,
            "grid_row": null,
            "grid_template_areas": null,
            "grid_template_columns": null,
            "grid_template_rows": null,
            "height": null,
            "justify_content": null,
            "justify_items": null,
            "left": null,
            "margin": null,
            "max_height": null,
            "max_width": null,
            "min_height": null,
            "min_width": null,
            "object_fit": null,
            "object_position": null,
            "order": null,
            "overflow": null,
            "overflow_x": null,
            "overflow_y": null,
            "padding": null,
            "right": null,
            "top": null,
            "visibility": null,
            "width": null
          }
        },
        "8929abd67c4c4d93a1dd34019661404b": {
          "model_module": "@jupyter-widgets/base",
          "model_module_version": "1.2.0",
          "model_name": "LayoutModel",
          "state": {
            "_model_module": "@jupyter-widgets/base",
            "_model_module_version": "1.2.0",
            "_model_name": "LayoutModel",
            "_view_count": null,
            "_view_module": "@jupyter-widgets/base",
            "_view_module_version": "1.2.0",
            "_view_name": "LayoutView",
            "align_content": null,
            "align_items": null,
            "align_self": null,
            "border": null,
            "bottom": null,
            "display": null,
            "flex": null,
            "flex_flow": null,
            "grid_area": null,
            "grid_auto_columns": null,
            "grid_auto_flow": null,
            "grid_auto_rows": null,
            "grid_column": null,
            "grid_gap": null,
            "grid_row": null,
            "grid_template_areas": null,
            "grid_template_columns": null,
            "grid_template_rows": null,
            "height": null,
            "justify_content": null,
            "justify_items": null,
            "left": null,
            "margin": null,
            "max_height": null,
            "max_width": null,
            "min_height": null,
            "min_width": null,
            "object_fit": null,
            "object_position": null,
            "order": null,
            "overflow": null,
            "overflow_x": null,
            "overflow_y": null,
            "padding": null,
            "right": null,
            "top": null,
            "visibility": null,
            "width": null
          }
        },
        "8a607b900ee64ca591ba870280908cb8": {
          "model_module": "@jupyter-widgets/controls",
          "model_module_version": "1.5.0",
          "model_name": "HTMLModel",
          "state": {
            "_dom_classes": [],
            "_model_module": "@jupyter-widgets/controls",
            "_model_module_version": "1.5.0",
            "_model_name": "HTMLModel",
            "_view_count": null,
            "_view_module": "@jupyter-widgets/controls",
            "_view_module_version": "1.5.0",
            "_view_name": "HTMLView",
            "description": "",
            "description_tooltip": null,
            "layout": "IPY_MODEL_47ae3198cae648b68023e417a12d7bad",
            "placeholder": "​",
            "style": "IPY_MODEL_d697cc4e291947aba5d0e002caa201ad",
            "value": " 1.14k/? [00:00&lt;00:00, 98.4kB/s]"
          }
        },
        "8ebddf434e734e1daac28210bca4bc3f": {
          "model_module": "@jupyter-widgets/controls",
          "model_module_version": "1.5.0",
          "model_name": "HTMLModel",
          "state": {
            "_dom_classes": [],
            "_model_module": "@jupyter-widgets/controls",
            "_model_module_version": "1.5.0",
            "_model_name": "HTMLModel",
            "_view_count": null,
            "_view_module": "@jupyter-widgets/controls",
            "_view_module_version": "1.5.0",
            "_view_name": "HTMLView",
            "description": "",
            "description_tooltip": null,
            "layout": "IPY_MODEL_a20e61a4f0c3438cb8e89890c450e2c6",
            "placeholder": "​",
            "style": "IPY_MODEL_a83a497971fa4a418a7e9a38df760897",
            "value": "special_tokens_map.json: 100%"
          }
        },
        "944d892f732d4475bc31842a6d20a507": {
          "model_module": "@jupyter-widgets/controls",
          "model_module_version": "1.5.0",
          "model_name": "HTMLModel",
          "state": {
            "_dom_classes": [],
            "_model_module": "@jupyter-widgets/controls",
            "_model_module_version": "1.5.0",
            "_model_name": "HTMLModel",
            "_view_count": null,
            "_view_module": "@jupyter-widgets/controls",
            "_view_module_version": "1.5.0",
            "_view_name": "HTMLView",
            "description": "",
            "description_tooltip": null,
            "layout": "IPY_MODEL_b3ece44b224e48329de18f4223124382",
            "placeholder": "​",
            "style": "IPY_MODEL_a5de1be25e184c7385b00703d993b1a3",
            "value": "tokenizer_config.json: "
          }
        },
        "94c47840ef644e688764613c2b870bc5": {
          "model_module": "@jupyter-widgets/base",
          "model_module_version": "1.2.0",
          "model_name": "LayoutModel",
          "state": {
            "_model_module": "@jupyter-widgets/base",
            "_model_module_version": "1.2.0",
            "_model_name": "LayoutModel",
            "_view_count": null,
            "_view_module": "@jupyter-widgets/base",
            "_view_module_version": "1.2.0",
            "_view_name": "LayoutView",
            "align_content": null,
            "align_items": null,
            "align_self": null,
            "border": null,
            "bottom": null,
            "display": null,
            "flex": null,
            "flex_flow": null,
            "grid_area": null,
            "grid_auto_columns": null,
            "grid_auto_flow": null,
            "grid_auto_rows": null,
            "grid_column": null,
            "grid_gap": null,
            "grid_row": null,
            "grid_template_areas": null,
            "grid_template_columns": null,
            "grid_template_rows": null,
            "height": null,
            "justify_content": null,
            "justify_items": null,
            "left": null,
            "margin": null,
            "max_height": null,
            "max_width": null,
            "min_height": null,
            "min_width": null,
            "object_fit": null,
            "object_position": null,
            "order": null,
            "overflow": null,
            "overflow_x": null,
            "overflow_y": null,
            "padding": null,
            "right": null,
            "top": null,
            "visibility": null,
            "width": null
          }
        },
        "965608407b2a43849339dd0e2d29970b": {
          "model_module": "@jupyter-widgets/controls",
          "model_module_version": "1.5.0",
          "model_name": "HTMLModel",
          "state": {
            "_dom_classes": [],
            "_model_module": "@jupyter-widgets/controls",
            "_model_module_version": "1.5.0",
            "_model_name": "HTMLModel",
            "_view_count": null,
            "_view_module": "@jupyter-widgets/controls",
            "_view_module_version": "1.5.0",
            "_view_name": "HTMLView",
            "description": "",
            "description_tooltip": null,
            "layout": "IPY_MODEL_d34c46bb4a5c459bbf40b9201612038f",
            "placeholder": "​",
            "style": "IPY_MODEL_7162c8026f7e4687aaa3c6b6d6051e8b",
            "value": " 499M/499M [00:37&lt;00:00, 12.7MB/s]"
          }
        },
        "9691d8d455e64d3eba71305607f16438": {
          "model_module": "@jupyter-widgets/controls",
          "model_module_version": "1.5.0",
          "model_name": "HTMLModel",
          "state": {
            "_dom_classes": [],
            "_model_module": "@jupyter-widgets/controls",
            "_model_module_version": "1.5.0",
            "_model_name": "HTMLModel",
            "_view_count": null,
            "_view_module": "@jupyter-widgets/controls",
            "_view_module_version": "1.5.0",
            "_view_name": "HTMLView",
            "description": "",
            "description_tooltip": null,
            "layout": "IPY_MODEL_ce649b64355742899623aa318085b56f",
            "placeholder": "​",
            "style": "IPY_MODEL_24d2bca1e25740c89d2de7388f51dad2",
            "value": "config.json: 100%"
          }
        },
        "96d7382deaec41e7be438f751c2adc23": {
          "model_module": "@jupyter-widgets/controls",
          "model_module_version": "1.5.0",
          "model_name": "HBoxModel",
          "state": {
            "_dom_classes": [],
            "_model_module": "@jupyter-widgets/controls",
            "_model_module_version": "1.5.0",
            "_model_name": "HBoxModel",
            "_view_count": null,
            "_view_module": "@jupyter-widgets/controls",
            "_view_module_version": "1.5.0",
            "_view_name": "HBoxView",
            "box_style": "",
            "children": [
              "IPY_MODEL_af9b3fce28d04642b4e8a1f8c10f806d",
              "IPY_MODEL_f17d67d0695640cb9f9c96ba7a2ce6cd",
              "IPY_MODEL_965608407b2a43849339dd0e2d29970b"
            ],
            "layout": "IPY_MODEL_c296934986ad4ae7bf704d4514c231ca"
          }
        },
        "9954dd707c5948d783ab55f90facb4d6": {
          "model_module": "@jupyter-widgets/controls",
          "model_module_version": "1.5.0",
          "model_name": "FloatProgressModel",
          "state": {
            "_dom_classes": [],
            "_model_module": "@jupyter-widgets/controls",
            "_model_module_version": "1.5.0",
            "_model_name": "FloatProgressModel",
            "_view_count": null,
            "_view_module": "@jupyter-widgets/controls",
            "_view_module_version": "1.5.0",
            "_view_name": "ProgressView",
            "bar_style": "success",
            "description": "",
            "description_tooltip": null,
            "layout": "IPY_MODEL_e20cd491035d47cc9bdbb188de3e6b32",
            "max": 735,
            "min": 0,
            "orientation": "horizontal",
            "style": "IPY_MODEL_6473fb81c0ba43d6baa50f7daca49e8f",
            "value": 735
          }
        },
        "9e34a397a281451d9c2783505c60803b": {
          "model_module": "@jupyter-widgets/controls",
          "model_module_version": "1.5.0",
          "model_name": "HTMLModel",
          "state": {
            "_dom_classes": [],
            "_model_module": "@jupyter-widgets/controls",
            "_model_module_version": "1.5.0",
            "_model_name": "HTMLModel",
            "_view_count": null,
            "_view_module": "@jupyter-widgets/controls",
            "_view_module_version": "1.5.0",
            "_view_name": "HTMLView",
            "description": "",
            "description_tooltip": null,
            "layout": "IPY_MODEL_63e4deab0edb4076b9ba0b60fd6ec4d0",
            "placeholder": "​",
            "style": "IPY_MODEL_341d5236717d44bd9ddca87b71c42177",
            "value": "vocab.json: "
          }
        },
        "a0d5c08e791443248c318fe48ac784bb": {
          "model_module": "@jupyter-widgets/controls",
          "model_module_version": "1.5.0",
          "model_name": "FloatProgressModel",
          "state": {
            "_dom_classes": [],
            "_model_module": "@jupyter-widgets/controls",
            "_model_module_version": "1.5.0",
            "_model_name": "FloatProgressModel",
            "_view_count": null,
            "_view_module": "@jupyter-widgets/controls",
            "_view_module_version": "1.5.0",
            "_view_name": "ProgressView",
            "bar_style": "success",
            "description": "",
            "description_tooltip": null,
            "layout": "IPY_MODEL_efd073605df446e0873b15a2b0c22997",
            "max": 1,
            "min": 0,
            "orientation": "horizontal",
            "style": "IPY_MODEL_fbdfc23e587a47d3babf7372f6998db1",
            "value": 1
          }
        },
        "a0e109c778b64880a86516e3f206c19f": {
          "model_module": "@jupyter-widgets/controls",
          "model_module_version": "1.5.0",
          "model_name": "HBoxModel",
          "state": {
            "_dom_classes": [],
            "_model_module": "@jupyter-widgets/controls",
            "_model_module_version": "1.5.0",
            "_model_name": "HBoxModel",
            "_view_count": null,
            "_view_module": "@jupyter-widgets/controls",
            "_view_module_version": "1.5.0",
            "_view_name": "HBoxView",
            "box_style": "",
            "children": [
              "IPY_MODEL_944d892f732d4475bc31842a6d20a507",
              "IPY_MODEL_a0d5c08e791443248c318fe48ac784bb",
              "IPY_MODEL_8a607b900ee64ca591ba870280908cb8"
            ],
            "layout": "IPY_MODEL_94c47840ef644e688764613c2b870bc5"
          }
        },
        "a150d9630a7b4b5b94ea18b53161b5bb": {
          "model_module": "@jupyter-widgets/base",
          "model_module_version": "1.2.0",
          "model_name": "LayoutModel",
          "state": {
            "_model_module": "@jupyter-widgets/base",
            "_model_module_version": "1.2.0",
            "_model_name": "LayoutModel",
            "_view_count": null,
            "_view_module": "@jupyter-widgets/base",
            "_view_module_version": "1.2.0",
            "_view_name": "LayoutView",
            "align_content": null,
            "align_items": null,
            "align_self": null,
            "border": null,
            "bottom": null,
            "display": null,
            "flex": null,
            "flex_flow": null,
            "grid_area": null,
            "grid_auto_columns": null,
            "grid_auto_flow": null,
            "grid_auto_rows": null,
            "grid_column": null,
            "grid_gap": null,
            "grid_row": null,
            "grid_template_areas": null,
            "grid_template_columns": null,
            "grid_template_rows": null,
            "height": null,
            "justify_content": null,
            "justify_items": null,
            "left": null,
            "margin": null,
            "max_height": null,
            "max_width": null,
            "min_height": null,
            "min_width": null,
            "object_fit": null,
            "object_position": null,
            "order": null,
            "overflow": null,
            "overflow_x": null,
            "overflow_y": null,
            "padding": null,
            "right": null,
            "top": null,
            "visibility": null,
            "width": null
          }
        },
        "a20e61a4f0c3438cb8e89890c450e2c6": {
          "model_module": "@jupyter-widgets/base",
          "model_module_version": "1.2.0",
          "model_name": "LayoutModel",
          "state": {
            "_model_module": "@jupyter-widgets/base",
            "_model_module_version": "1.2.0",
            "_model_name": "LayoutModel",
            "_view_count": null,
            "_view_module": "@jupyter-widgets/base",
            "_view_module_version": "1.2.0",
            "_view_name": "LayoutView",
            "align_content": null,
            "align_items": null,
            "align_self": null,
            "border": null,
            "bottom": null,
            "display": null,
            "flex": null,
            "flex_flow": null,
            "grid_area": null,
            "grid_auto_columns": null,
            "grid_auto_flow": null,
            "grid_auto_rows": null,
            "grid_column": null,
            "grid_gap": null,
            "grid_row": null,
            "grid_template_areas": null,
            "grid_template_columns": null,
            "grid_template_rows": null,
            "height": null,
            "justify_content": null,
            "justify_items": null,
            "left": null,
            "margin": null,
            "max_height": null,
            "max_width": null,
            "min_height": null,
            "min_width": null,
            "object_fit": null,
            "object_position": null,
            "order": null,
            "overflow": null,
            "overflow_x": null,
            "overflow_y": null,
            "padding": null,
            "right": null,
            "top": null,
            "visibility": null,
            "width": null
          }
        },
        "a278a6f455064ad4a1ad51a0e919496f": {
          "model_module": "@jupyter-widgets/controls",
          "model_module_version": "1.5.0",
          "model_name": "DescriptionStyleModel",
          "state": {
            "_model_module": "@jupyter-widgets/controls",
            "_model_module_version": "1.5.0",
            "_model_name": "DescriptionStyleModel",
            "_view_count": null,
            "_view_module": "@jupyter-widgets/base",
            "_view_module_version": "1.2.0",
            "_view_name": "StyleView",
            "description_width": ""
          }
        },
        "a3153e1a0b1d49c49bf01e25f2015ad4": {
          "model_module": "@jupyter-widgets/controls",
          "model_module_version": "1.5.0",
          "model_name": "ProgressStyleModel",
          "state": {
            "_model_module": "@jupyter-widgets/controls",
            "_model_module_version": "1.5.0",
            "_model_name": "ProgressStyleModel",
            "_view_count": null,
            "_view_module": "@jupyter-widgets/base",
            "_view_module_version": "1.2.0",
            "_view_name": "StyleView",
            "bar_color": null,
            "description_width": ""
          }
        },
        "a5de1be25e184c7385b00703d993b1a3": {
          "model_module": "@jupyter-widgets/controls",
          "model_module_version": "1.5.0",
          "model_name": "DescriptionStyleModel",
          "state": {
            "_model_module": "@jupyter-widgets/controls",
            "_model_module_version": "1.5.0",
            "_model_name": "DescriptionStyleModel",
            "_view_count": null,
            "_view_module": "@jupyter-widgets/base",
            "_view_module_version": "1.2.0",
            "_view_name": "StyleView",
            "description_width": ""
          }
        },
        "a74df977c5de4ebe9ec838ef30173337": {
          "model_module": "@jupyter-widgets/controls",
          "model_module_version": "1.5.0",
          "model_name": "FloatProgressModel",
          "state": {
            "_dom_classes": [],
            "_model_module": "@jupyter-widgets/controls",
            "_model_module_version": "1.5.0",
            "_model_name": "FloatProgressModel",
            "_view_count": null,
            "_view_module": "@jupyter-widgets/controls",
            "_view_module_version": "1.5.0",
            "_view_name": "ProgressView",
            "bar_style": "success",
            "description": "",
            "description_tooltip": null,
            "layout": "IPY_MODEL_4fcc38d4d8294bfc880a23080f10f439",
            "max": 1,
            "min": 0,
            "orientation": "horizontal",
            "style": "IPY_MODEL_ff2ecc88db4240d3ae8ac9d86ec92e42",
            "value": 1
          }
        },
        "a83a497971fa4a418a7e9a38df760897": {
          "model_module": "@jupyter-widgets/controls",
          "model_module_version": "1.5.0",
          "model_name": "DescriptionStyleModel",
          "state": {
            "_model_module": "@jupyter-widgets/controls",
            "_model_module_version": "1.5.0",
            "_model_name": "DescriptionStyleModel",
            "_view_count": null,
            "_view_module": "@jupyter-widgets/base",
            "_view_module_version": "1.2.0",
            "_view_name": "StyleView",
            "description_width": ""
          }
        },
        "a9606d00b47c4be5a70494a835fdfd46": {
          "model_module": "@jupyter-widgets/controls",
          "model_module_version": "1.5.0",
          "model_name": "HTMLModel",
          "state": {
            "_dom_classes": [],
            "_model_module": "@jupyter-widgets/controls",
            "_model_module_version": "1.5.0",
            "_model_name": "HTMLModel",
            "_view_count": null,
            "_view_module": "@jupyter-widgets/controls",
            "_view_module_version": "1.5.0",
            "_view_name": "HTMLView",
            "description": "",
            "description_tooltip": null,
            "layout": "IPY_MODEL_f76e072f05094d84a7d47f7a8dacf361",
            "placeholder": "​",
            "style": "IPY_MODEL_a278a6f455064ad4a1ad51a0e919496f",
            "value": " 499M/499M [00:12&lt;00:00, 32.6MB/s]"
          }
        },
        "ac16a0505a8e40c7b38e9d5f9f14233b": {
          "model_module": "@jupyter-widgets/controls",
          "model_module_version": "1.5.0",
          "model_name": "DescriptionStyleModel",
          "state": {
            "_model_module": "@jupyter-widgets/controls",
            "_model_module_version": "1.5.0",
            "_model_name": "DescriptionStyleModel",
            "_view_count": null,
            "_view_module": "@jupyter-widgets/base",
            "_view_module_version": "1.2.0",
            "_view_name": "StyleView",
            "description_width": ""
          }
        },
        "aca448f0a3634929a61d87a4340fea7c": {
          "model_module": "@jupyter-widgets/controls",
          "model_module_version": "1.5.0",
          "model_name": "HBoxModel",
          "state": {
            "_dom_classes": [],
            "_model_module": "@jupyter-widgets/controls",
            "_model_module_version": "1.5.0",
            "_model_name": "HBoxModel",
            "_view_count": null,
            "_view_module": "@jupyter-widgets/controls",
            "_view_module_version": "1.5.0",
            "_view_name": "HBoxView",
            "box_style": "",
            "children": [
              "IPY_MODEL_d3251c86202f434fb70b4a7ca80e0625",
              "IPY_MODEL_7477dee5388e4035b3ee7cb64eb6b295",
              "IPY_MODEL_a9606d00b47c4be5a70494a835fdfd46"
            ],
            "layout": "IPY_MODEL_caa02fd50eab487bb991f800046f6e38"
          }
        },
        "ad40b55ff0e141e388a0b499d306456d": {
          "model_module": "@jupyter-widgets/controls",
          "model_module_version": "1.5.0",
          "model_name": "DescriptionStyleModel",
          "state": {
            "_model_module": "@jupyter-widgets/controls",
            "_model_module_version": "1.5.0",
            "_model_name": "DescriptionStyleModel",
            "_view_count": null,
            "_view_module": "@jupyter-widgets/base",
            "_view_module_version": "1.2.0",
            "_view_name": "StyleView",
            "description_width": ""
          }
        },
        "af9b3fce28d04642b4e8a1f8c10f806d": {
          "model_module": "@jupyter-widgets/controls",
          "model_module_version": "1.5.0",
          "model_name": "HTMLModel",
          "state": {
            "_dom_classes": [],
            "_model_module": "@jupyter-widgets/controls",
            "_model_module_version": "1.5.0",
            "_model_name": "HTMLModel",
            "_view_count": null,
            "_view_module": "@jupyter-widgets/controls",
            "_view_module_version": "1.5.0",
            "_view_name": "HTMLView",
            "description": "",
            "description_tooltip": null,
            "layout": "IPY_MODEL_66be038bc4b34199a7dbfad712d0bbc5",
            "placeholder": "​",
            "style": "IPY_MODEL_1df47d5630d04d7a84ee8a8793f73c2a",
            "value": "model.safetensors: 100%"
          }
        },
        "b3ece44b224e48329de18f4223124382": {
          "model_module": "@jupyter-widgets/base",
          "model_module_version": "1.2.0",
          "model_name": "LayoutModel",
          "state": {
            "_model_module": "@jupyter-widgets/base",
            "_model_module_version": "1.2.0",
            "_model_name": "LayoutModel",
            "_view_count": null,
            "_view_module": "@jupyter-widgets/base",
            "_view_module_version": "1.2.0",
            "_view_name": "LayoutView",
            "align_content": null,
            "align_items": null,
            "align_self": null,
            "border": null,
            "bottom": null,
            "display": null,
            "flex": null,
            "flex_flow": null,
            "grid_area": null,
            "grid_auto_columns": null,
            "grid_auto_flow": null,
            "grid_auto_rows": null,
            "grid_column": null,
            "grid_gap": null,
            "grid_row": null,
            "grid_template_areas": null,
            "grid_template_columns": null,
            "grid_template_rows": null,
            "height": null,
            "justify_content": null,
            "justify_items": null,
            "left": null,
            "margin": null,
            "max_height": null,
            "max_width": null,
            "min_height": null,
            "min_width": null,
            "object_fit": null,
            "object_position": null,
            "order": null,
            "overflow": null,
            "overflow_x": null,
            "overflow_y": null,
            "padding": null,
            "right": null,
            "top": null,
            "visibility": null,
            "width": null
          }
        },
        "c296934986ad4ae7bf704d4514c231ca": {
          "model_module": "@jupyter-widgets/base",
          "model_module_version": "1.2.0",
          "model_name": "LayoutModel",
          "state": {
            "_model_module": "@jupyter-widgets/base",
            "_model_module_version": "1.2.0",
            "_model_name": "LayoutModel",
            "_view_count": null,
            "_view_module": "@jupyter-widgets/base",
            "_view_module_version": "1.2.0",
            "_view_name": "LayoutView",
            "align_content": null,
            "align_items": null,
            "align_self": null,
            "border": null,
            "bottom": null,
            "display": null,
            "flex": null,
            "flex_flow": null,
            "grid_area": null,
            "grid_auto_columns": null,
            "grid_auto_flow": null,
            "grid_auto_rows": null,
            "grid_column": null,
            "grid_gap": null,
            "grid_row": null,
            "grid_template_areas": null,
            "grid_template_columns": null,
            "grid_template_rows": null,
            "height": null,
            "justify_content": null,
            "justify_items": null,
            "left": null,
            "margin": null,
            "max_height": null,
            "max_width": null,
            "min_height": null,
            "min_width": null,
            "object_fit": null,
            "object_position": null,
            "order": null,
            "overflow": null,
            "overflow_x": null,
            "overflow_y": null,
            "padding": null,
            "right": null,
            "top": null,
            "visibility": null,
            "width": null
          }
        },
        "c5e920d4ed11425e8b32b2d82087b6cb": {
          "model_module": "@jupyter-widgets/controls",
          "model_module_version": "1.5.0",
          "model_name": "FloatProgressModel",
          "state": {
            "_dom_classes": [],
            "_model_module": "@jupyter-widgets/controls",
            "_model_module_version": "1.5.0",
            "_model_name": "FloatProgressModel",
            "_view_count": null,
            "_view_module": "@jupyter-widgets/controls",
            "_view_module_version": "1.5.0",
            "_view_name": "ProgressView",
            "bar_style": "success",
            "description": "",
            "description_tooltip": null,
            "layout": "IPY_MODEL_69cce3a26d894b4a9f032227c73210b2",
            "max": 772,
            "min": 0,
            "orientation": "horizontal",
            "style": "IPY_MODEL_336bda99662d4684b9169330c15f8c84",
            "value": 772
          }
        },
        "c7a231b76398450097572e1450d91693": {
          "model_module": "@jupyter-widgets/controls",
          "model_module_version": "1.5.0",
          "model_name": "HBoxModel",
          "state": {
            "_dom_classes": [],
            "_model_module": "@jupyter-widgets/controls",
            "_model_module_version": "1.5.0",
            "_model_name": "HBoxModel",
            "_view_count": null,
            "_view_module": "@jupyter-widgets/controls",
            "_view_module_version": "1.5.0",
            "_view_name": "HBoxView",
            "box_style": "",
            "children": [
              "IPY_MODEL_9691d8d455e64d3eba71305607f16438",
              "IPY_MODEL_9954dd707c5948d783ab55f90facb4d6",
              "IPY_MODEL_f9e24a18437e4629935eb72cf3ffe609"
            ],
            "layout": "IPY_MODEL_6b711f25e8694071b1b1c418b7aba4e8"
          }
        },
        "caa02fd50eab487bb991f800046f6e38": {
          "model_module": "@jupyter-widgets/base",
          "model_module_version": "1.2.0",
          "model_name": "LayoutModel",
          "state": {
            "_model_module": "@jupyter-widgets/base",
            "_model_module_version": "1.2.0",
            "_model_name": "LayoutModel",
            "_view_count": null,
            "_view_module": "@jupyter-widgets/base",
            "_view_module_version": "1.2.0",
            "_view_name": "LayoutView",
            "align_content": null,
            "align_items": null,
            "align_self": null,
            "border": null,
            "bottom": null,
            "display": null,
            "flex": null,
            "flex_flow": null,
            "grid_area": null,
            "grid_auto_columns": null,
            "grid_auto_flow": null,
            "grid_auto_rows": null,
            "grid_column": null,
            "grid_gap": null,
            "grid_row": null,
            "grid_template_areas": null,
            "grid_template_columns": null,
            "grid_template_rows": null,
            "height": null,
            "justify_content": null,
            "justify_items": null,
            "left": null,
            "margin": null,
            "max_height": null,
            "max_width": null,
            "min_height": null,
            "min_width": null,
            "object_fit": null,
            "object_position": null,
            "order": null,
            "overflow": null,
            "overflow_x": null,
            "overflow_y": null,
            "padding": null,
            "right": null,
            "top": null,
            "visibility": null,
            "width": null
          }
        },
        "cd20c0353ce74c17a5593922d1f2d354": {
          "model_module": "@jupyter-widgets/controls",
          "model_module_version": "1.5.0",
          "model_name": "HBoxModel",
          "state": {
            "_dom_classes": [],
            "_model_module": "@jupyter-widgets/controls",
            "_model_module_version": "1.5.0",
            "_model_name": "HBoxModel",
            "_view_count": null,
            "_view_module": "@jupyter-widgets/controls",
            "_view_module_version": "1.5.0",
            "_view_name": "HBoxView",
            "box_style": "",
            "children": [
              "IPY_MODEL_1ee5ba39faae4f409b4e9dc1af6811a4",
              "IPY_MODEL_a74df977c5de4ebe9ec838ef30173337",
              "IPY_MODEL_374f8a83db3246168a8496252b887333"
            ],
            "layout": "IPY_MODEL_8629fbe1e49548e3acc56443ce69fe0c"
          }
        },
        "ce649b64355742899623aa318085b56f": {
          "model_module": "@jupyter-widgets/base",
          "model_module_version": "1.2.0",
          "model_name": "LayoutModel",
          "state": {
            "_model_module": "@jupyter-widgets/base",
            "_model_module_version": "1.2.0",
            "_model_name": "LayoutModel",
            "_view_count": null,
            "_view_module": "@jupyter-widgets/base",
            "_view_module_version": "1.2.0",
            "_view_name": "LayoutView",
            "align_content": null,
            "align_items": null,
            "align_self": null,
            "border": null,
            "bottom": null,
            "display": null,
            "flex": null,
            "flex_flow": null,
            "grid_area": null,
            "grid_auto_columns": null,
            "grid_auto_flow": null,
            "grid_auto_rows": null,
            "grid_column": null,
            "grid_gap": null,
            "grid_row": null,
            "grid_template_areas": null,
            "grid_template_columns": null,
            "grid_template_rows": null,
            "height": null,
            "justify_content": null,
            "justify_items": null,
            "left": null,
            "margin": null,
            "max_height": null,
            "max_width": null,
            "min_height": null,
            "min_width": null,
            "object_fit": null,
            "object_position": null,
            "order": null,
            "overflow": null,
            "overflow_x": null,
            "overflow_y": null,
            "padding": null,
            "right": null,
            "top": null,
            "visibility": null,
            "width": null
          }
        },
        "d3251c86202f434fb70b4a7ca80e0625": {
          "model_module": "@jupyter-widgets/controls",
          "model_module_version": "1.5.0",
          "model_name": "HTMLModel",
          "state": {
            "_dom_classes": [],
            "_model_module": "@jupyter-widgets/controls",
            "_model_module_version": "1.5.0",
            "_model_name": "HTMLModel",
            "_view_count": null,
            "_view_module": "@jupyter-widgets/controls",
            "_view_module_version": "1.5.0",
            "_view_name": "HTMLView",
            "description": "",
            "description_tooltip": null,
            "layout": "IPY_MODEL_ed1f0666be384fb1ac0fb19c7788a41f",
            "placeholder": "​",
            "style": "IPY_MODEL_f72bb4f8f17f46a2bc3846b8fd4d5416",
            "value": "pytorch_model.bin: 100%"
          }
        },
        "d34c46bb4a5c459bbf40b9201612038f": {
          "model_module": "@jupyter-widgets/base",
          "model_module_version": "1.2.0",
          "model_name": "LayoutModel",
          "state": {
            "_model_module": "@jupyter-widgets/base",
            "_model_module_version": "1.2.0",
            "_model_name": "LayoutModel",
            "_view_count": null,
            "_view_module": "@jupyter-widgets/base",
            "_view_module_version": "1.2.0",
            "_view_name": "LayoutView",
            "align_content": null,
            "align_items": null,
            "align_self": null,
            "border": null,
            "bottom": null,
            "display": null,
            "flex": null,
            "flex_flow": null,
            "grid_area": null,
            "grid_auto_columns": null,
            "grid_auto_flow": null,
            "grid_auto_rows": null,
            "grid_column": null,
            "grid_gap": null,
            "grid_row": null,
            "grid_template_areas": null,
            "grid_template_columns": null,
            "grid_template_rows": null,
            "height": null,
            "justify_content": null,
            "justify_items": null,
            "left": null,
            "margin": null,
            "max_height": null,
            "max_width": null,
            "min_height": null,
            "min_width": null,
            "object_fit": null,
            "object_position": null,
            "order": null,
            "overflow": null,
            "overflow_x": null,
            "overflow_y": null,
            "padding": null,
            "right": null,
            "top": null,
            "visibility": null,
            "width": null
          }
        },
        "d697cc4e291947aba5d0e002caa201ad": {
          "model_module": "@jupyter-widgets/controls",
          "model_module_version": "1.5.0",
          "model_name": "DescriptionStyleModel",
          "state": {
            "_model_module": "@jupyter-widgets/controls",
            "_model_module_version": "1.5.0",
            "_model_name": "DescriptionStyleModel",
            "_view_count": null,
            "_view_module": "@jupyter-widgets/base",
            "_view_module_version": "1.2.0",
            "_view_name": "StyleView",
            "description_width": ""
          }
        },
        "d9dbeffc88464c01898770ccb68553f1": {
          "model_module": "@jupyter-widgets/controls",
          "model_module_version": "1.5.0",
          "model_name": "HBoxModel",
          "state": {
            "_dom_classes": [],
            "_model_module": "@jupyter-widgets/controls",
            "_model_module_version": "1.5.0",
            "_model_name": "HBoxModel",
            "_view_count": null,
            "_view_module": "@jupyter-widgets/controls",
            "_view_module_version": "1.5.0",
            "_view_name": "HBoxView",
            "box_style": "",
            "children": [
              "IPY_MODEL_9e34a397a281451d9c2783505c60803b",
              "IPY_MODEL_672827f463504f7bb624617f0d2c0a6d",
              "IPY_MODEL_e2caf3da54a4459894313a5771250400"
            ],
            "layout": "IPY_MODEL_4a7b96f021cb46c297713c4e1d077ff5"
          }
        },
        "e20cd491035d47cc9bdbb188de3e6b32": {
          "model_module": "@jupyter-widgets/base",
          "model_module_version": "1.2.0",
          "model_name": "LayoutModel",
          "state": {
            "_model_module": "@jupyter-widgets/base",
            "_model_module_version": "1.2.0",
            "_model_name": "LayoutModel",
            "_view_count": null,
            "_view_module": "@jupyter-widgets/base",
            "_view_module_version": "1.2.0",
            "_view_name": "LayoutView",
            "align_content": null,
            "align_items": null,
            "align_self": null,
            "border": null,
            "bottom": null,
            "display": null,
            "flex": null,
            "flex_flow": null,
            "grid_area": null,
            "grid_auto_columns": null,
            "grid_auto_flow": null,
            "grid_auto_rows": null,
            "grid_column": null,
            "grid_gap": null,
            "grid_row": null,
            "grid_template_areas": null,
            "grid_template_columns": null,
            "grid_template_rows": null,
            "height": null,
            "justify_content": null,
            "justify_items": null,
            "left": null,
            "margin": null,
            "max_height": null,
            "max_width": null,
            "min_height": null,
            "min_width": null,
            "object_fit": null,
            "object_position": null,
            "order": null,
            "overflow": null,
            "overflow_x": null,
            "overflow_y": null,
            "padding": null,
            "right": null,
            "top": null,
            "visibility": null,
            "width": null
          }
        },
        "e2caf3da54a4459894313a5771250400": {
          "model_module": "@jupyter-widgets/controls",
          "model_module_version": "1.5.0",
          "model_name": "HTMLModel",
          "state": {
            "_dom_classes": [],
            "_model_module": "@jupyter-widgets/controls",
            "_model_module_version": "1.5.0",
            "_model_name": "HTMLModel",
            "_view_count": null,
            "_view_module": "@jupyter-widgets/controls",
            "_view_module_version": "1.5.0",
            "_view_name": "HTMLView",
            "description": "",
            "description_tooltip": null,
            "layout": "IPY_MODEL_ebb50f5b43f94065b49f5ac3541d7b42",
            "placeholder": "​",
            "style": "IPY_MODEL_ad40b55ff0e141e388a0b499d306456d",
            "value": " 899k/? [00:00&lt;00:00, 17.4MB/s]"
          }
        },
        "ebb50f5b43f94065b49f5ac3541d7b42": {
          "model_module": "@jupyter-widgets/base",
          "model_module_version": "1.2.0",
          "model_name": "LayoutModel",
          "state": {
            "_model_module": "@jupyter-widgets/base",
            "_model_module_version": "1.2.0",
            "_model_name": "LayoutModel",
            "_view_count": null,
            "_view_module": "@jupyter-widgets/base",
            "_view_module_version": "1.2.0",
            "_view_name": "LayoutView",
            "align_content": null,
            "align_items": null,
            "align_self": null,
            "border": null,
            "bottom": null,
            "display": null,
            "flex": null,
            "flex_flow": null,
            "grid_area": null,
            "grid_auto_columns": null,
            "grid_auto_flow": null,
            "grid_auto_rows": null,
            "grid_column": null,
            "grid_gap": null,
            "grid_row": null,
            "grid_template_areas": null,
            "grid_template_columns": null,
            "grid_template_rows": null,
            "height": null,
            "justify_content": null,
            "justify_items": null,
            "left": null,
            "margin": null,
            "max_height": null,
            "max_width": null,
            "min_height": null,
            "min_width": null,
            "object_fit": null,
            "object_position": null,
            "order": null,
            "overflow": null,
            "overflow_x": null,
            "overflow_y": null,
            "padding": null,
            "right": null,
            "top": null,
            "visibility": null,
            "width": null
          }
        },
        "ed1f0666be384fb1ac0fb19c7788a41f": {
          "model_module": "@jupyter-widgets/base",
          "model_module_version": "1.2.0",
          "model_name": "LayoutModel",
          "state": {
            "_model_module": "@jupyter-widgets/base",
            "_model_module_version": "1.2.0",
            "_model_name": "LayoutModel",
            "_view_count": null,
            "_view_module": "@jupyter-widgets/base",
            "_view_module_version": "1.2.0",
            "_view_name": "LayoutView",
            "align_content": null,
            "align_items": null,
            "align_self": null,
            "border": null,
            "bottom": null,
            "display": null,
            "flex": null,
            "flex_flow": null,
            "grid_area": null,
            "grid_auto_columns": null,
            "grid_auto_flow": null,
            "grid_auto_rows": null,
            "grid_column": null,
            "grid_gap": null,
            "grid_row": null,
            "grid_template_areas": null,
            "grid_template_columns": null,
            "grid_template_rows": null,
            "height": null,
            "justify_content": null,
            "justify_items": null,
            "left": null,
            "margin": null,
            "max_height": null,
            "max_width": null,
            "min_height": null,
            "min_width": null,
            "object_fit": null,
            "object_position": null,
            "order": null,
            "overflow": null,
            "overflow_x": null,
            "overflow_y": null,
            "padding": null,
            "right": null,
            "top": null,
            "visibility": null,
            "width": null
          }
        },
        "efd073605df446e0873b15a2b0c22997": {
          "model_module": "@jupyter-widgets/base",
          "model_module_version": "1.2.0",
          "model_name": "LayoutModel",
          "state": {
            "_model_module": "@jupyter-widgets/base",
            "_model_module_version": "1.2.0",
            "_model_name": "LayoutModel",
            "_view_count": null,
            "_view_module": "@jupyter-widgets/base",
            "_view_module_version": "1.2.0",
            "_view_name": "LayoutView",
            "align_content": null,
            "align_items": null,
            "align_self": null,
            "border": null,
            "bottom": null,
            "display": null,
            "flex": null,
            "flex_flow": null,
            "grid_area": null,
            "grid_auto_columns": null,
            "grid_auto_flow": null,
            "grid_auto_rows": null,
            "grid_column": null,
            "grid_gap": null,
            "grid_row": null,
            "grid_template_areas": null,
            "grid_template_columns": null,
            "grid_template_rows": null,
            "height": null,
            "justify_content": null,
            "justify_items": null,
            "left": null,
            "margin": null,
            "max_height": null,
            "max_width": null,
            "min_height": null,
            "min_width": null,
            "object_fit": null,
            "object_position": null,
            "order": null,
            "overflow": null,
            "overflow_x": null,
            "overflow_y": null,
            "padding": null,
            "right": null,
            "top": null,
            "visibility": null,
            "width": "20px"
          }
        },
        "f17d67d0695640cb9f9c96ba7a2ce6cd": {
          "model_module": "@jupyter-widgets/controls",
          "model_module_version": "1.5.0",
          "model_name": "FloatProgressModel",
          "state": {
            "_dom_classes": [],
            "_model_module": "@jupyter-widgets/controls",
            "_model_module_version": "1.5.0",
            "_model_name": "FloatProgressModel",
            "_view_count": null,
            "_view_module": "@jupyter-widgets/controls",
            "_view_module_version": "1.5.0",
            "_view_name": "ProgressView",
            "bar_style": "success",
            "description": "",
            "description_tooltip": null,
            "layout": "IPY_MODEL_8929abd67c4c4d93a1dd34019661404b",
            "max": 498617024,
            "min": 0,
            "orientation": "horizontal",
            "style": "IPY_MODEL_a3153e1a0b1d49c49bf01e25f2015ad4",
            "value": 498617024
          }
        },
        "f72bb4f8f17f46a2bc3846b8fd4d5416": {
          "model_module": "@jupyter-widgets/controls",
          "model_module_version": "1.5.0",
          "model_name": "DescriptionStyleModel",
          "state": {
            "_model_module": "@jupyter-widgets/controls",
            "_model_module_version": "1.5.0",
            "_model_name": "DescriptionStyleModel",
            "_view_count": null,
            "_view_module": "@jupyter-widgets/base",
            "_view_module_version": "1.2.0",
            "_view_name": "StyleView",
            "description_width": ""
          }
        },
        "f76e072f05094d84a7d47f7a8dacf361": {
          "model_module": "@jupyter-widgets/base",
          "model_module_version": "1.2.0",
          "model_name": "LayoutModel",
          "state": {
            "_model_module": "@jupyter-widgets/base",
            "_model_module_version": "1.2.0",
            "_model_name": "LayoutModel",
            "_view_count": null,
            "_view_module": "@jupyter-widgets/base",
            "_view_module_version": "1.2.0",
            "_view_name": "LayoutView",
            "align_content": null,
            "align_items": null,
            "align_self": null,
            "border": null,
            "bottom": null,
            "display": null,
            "flex": null,
            "flex_flow": null,
            "grid_area": null,
            "grid_auto_columns": null,
            "grid_auto_flow": null,
            "grid_auto_rows": null,
            "grid_column": null,
            "grid_gap": null,
            "grid_row": null,
            "grid_template_areas": null,
            "grid_template_columns": null,
            "grid_template_rows": null,
            "height": null,
            "justify_content": null,
            "justify_items": null,
            "left": null,
            "margin": null,
            "max_height": null,
            "max_width": null,
            "min_height": null,
            "min_width": null,
            "object_fit": null,
            "object_position": null,
            "order": null,
            "overflow": null,
            "overflow_x": null,
            "overflow_y": null,
            "padding": null,
            "right": null,
            "top": null,
            "visibility": null,
            "width": null
          }
        },
        "f9e24a18437e4629935eb72cf3ffe609": {
          "model_module": "@jupyter-widgets/controls",
          "model_module_version": "1.5.0",
          "model_name": "HTMLModel",
          "state": {
            "_dom_classes": [],
            "_model_module": "@jupyter-widgets/controls",
            "_model_module_version": "1.5.0",
            "_model_name": "HTMLModel",
            "_view_count": null,
            "_view_module": "@jupyter-widgets/controls",
            "_view_module_version": "1.5.0",
            "_view_name": "HTMLView",
            "description": "",
            "description_tooltip": null,
            "layout": "IPY_MODEL_5074d79309674b73b17d3f6748fc75b3",
            "placeholder": "​",
            "style": "IPY_MODEL_ac16a0505a8e40c7b38e9d5f9f14233b",
            "value": " 735/735 [00:00&lt;00:00, 66.9kB/s]"
          }
        },
        "fbdfc23e587a47d3babf7372f6998db1": {
          "model_module": "@jupyter-widgets/controls",
          "model_module_version": "1.5.0",
          "model_name": "ProgressStyleModel",
          "state": {
            "_model_module": "@jupyter-widgets/controls",
            "_model_module_version": "1.5.0",
            "_model_name": "ProgressStyleModel",
            "_view_count": null,
            "_view_module": "@jupyter-widgets/base",
            "_view_module_version": "1.2.0",
            "_view_name": "StyleView",
            "bar_color": null,
            "description_width": ""
          }
        },
        "ff2ecc88db4240d3ae8ac9d86ec92e42": {
          "model_module": "@jupyter-widgets/controls",
          "model_module_version": "1.5.0",
          "model_name": "ProgressStyleModel",
          "state": {
            "_model_module": "@jupyter-widgets/controls",
            "_model_module_version": "1.5.0",
            "_model_name": "ProgressStyleModel",
            "_view_count": null,
            "_view_module": "@jupyter-widgets/base",
            "_view_module_version": "1.2.0",
            "_view_name": "StyleView",
            "bar_color": null,
            "description_width": ""
          }
        },
        "ff89d01f939d4896a146684cd11dd9d0": {
          "model_module": "@jupyter-widgets/controls",
          "model_module_version": "1.5.0",
          "model_name": "ProgressStyleModel",
          "state": {
            "_model_module": "@jupyter-widgets/controls",
            "_model_module_version": "1.5.0",
            "_model_name": "ProgressStyleModel",
            "_view_count": null,
            "_view_module": "@jupyter-widgets/base",
            "_view_module_version": "1.2.0",
            "_view_name": "StyleView",
            "bar_color": null,
            "description_width": ""
          }
        }
      }
    }
  },
  "nbformat": 4,
  "nbformat_minor": 5
}
