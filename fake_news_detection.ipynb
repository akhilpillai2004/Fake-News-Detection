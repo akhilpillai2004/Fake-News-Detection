{
  "cells": [
    {
      "cell_type": "markdown",
      "id": "216a3665",
      "metadata": {
        "id": "216a3665"
      },
      "source": [
        "# Fake News Detection"
      ]
    },
    {
      "cell_type": "markdown",
      "id": "e88a48c7",
      "metadata": {
        "id": "e88a48c7"
      },
      "source": [
        "## Section 1: Importing the dependencies"
      ]
    },
    {
      "cell_type": "code",
      "execution_count": null,
      "id": "d46f5ad8",
      "metadata": {
        "id": "d46f5ad8"
      },
      "outputs": [],
      "source": [
        "import numpy as np\n",
        "import pandas as pd\n",
        "import re\n",
        "import nltk\n",
        "from nltk.corpus import stopwords\n",
        "from nltk.stem.porter import PorterStemmer\n",
        "from sklearn.utils import shuffle\n",
        "from sklearn.feature_extraction.text import TfidfVectorizer\n",
        "from sklearn.model_selection import train_test_split\n",
        "from sklearn.linear_model import LogisticRegression\n",
        "from sklearn.metrics import accuracy_score, classification_report, confusion_matrix, roc_auc_score\n",
        "from transformers import AutoTokenizer, AutoModelForSequenceClassification\n",
        "from transformers import pipeline\n",
        "import torch\n",
        "from tqdm import tqdm"
      ]
    },
    {
      "cell_type": "markdown",
      "id": "457f2c6b",
      "metadata": {
        "id": "457f2c6b"
      },
      "source": [
        "### Section 1.1: NLTK Setup"
      ]
    },
    {
      "cell_type": "code",
      "execution_count": null,
      "id": "07441de7",
      "metadata": {
        "colab": {
          "base_uri": "https://localhost:8080/"
        },
        "id": "07441de7",
        "outputId": "c80c045e-6a67-4d15-b196-9c46ed6a99bb"
      },
      "outputs": [],
      "source": [
        "try:\n",
        "    nltk.data.find('corpora/stopwords')\n",
        "except LookupError:\n",
        "    nltk.download('stopwords')"
      ]
    },
    {
      "cell_type": "markdown",
      "id": "fa619bbc",
      "metadata": {
        "id": "fa619bbc"
      },
      "source": [
        "### Section 1.2: Stopwords Preview"
      ]
    },
    {
      "cell_type": "code",
      "execution_count": null,
      "id": "4bd35922",
      "metadata": {
        "colab": {
          "base_uri": "https://localhost:8080/"
        },
        "id": "4bd35922",
        "outputId": "3a538d95-e571-4f7d-f617-318c073f0697"
      },
      "outputs": [],
      "source": [
        "print(stopwords.words('english'))"
      ]
    },
    {
      "cell_type": "markdown",
      "id": "58f69a47",
      "metadata": {
        "id": "58f69a47"
      },
      "source": [
        "## Section 2: Data Loading and Merging"
      ]
    },
    {
      "cell_type": "code",
      "execution_count": null,
      "id": "301ae8dc",
      "metadata": {
        "id": "301ae8dc"
      },
      "outputs": [],
      "source": [
        "# Load both CSVs\n",
        "true_news = pd.read_csv('True.csv')\n",
        "fake_news = pd.read_csv('Fake.csv')"
      ]
    },
    {
      "cell_type": "code",
      "execution_count": null,
      "id": "68e7d15b",
      "metadata": {
        "id": "68e7d15b"
      },
      "outputs": [],
      "source": [
        "# Add label column\n",
        "true_news['label'] = 1\n",
        "fake_news['label'] = 0"
      ]
    },
    {
      "cell_type": "code",
      "execution_count": null,
      "id": "8b34f330",
      "metadata": {
        "id": "8b34f330"
      },
      "outputs": [],
      "source": [
        "# Combine the datasets\n",
        "news_dataset = pd.concat([true_news, fake_news], axis=0)"
      ]
    },
    {
      "cell_type": "code",
      "execution_count": null,
      "id": "49260fe5",
      "metadata": {
        "id": "49260fe5"
      },
      "outputs": [],
      "source": [
        "# Shuffle the dataset\n",
        "news_dataset = shuffle(news_dataset, random_state=42).reset_index(drop=True)"
      ]
    },
    {
      "cell_type": "markdown",
      "id": "1efba32d",
      "metadata": {
        "id": "1efba32d"
      },
      "source": [
        "## Section 3: Column Cleanup and Preprocessing"
      ]
    },
    {
      "cell_type": "code",
      "execution_count": null,
      "id": "13dde97d",
      "metadata": {
        "id": "13dde97d"
      },
      "outputs": [],
      "source": [
        "# Add dummy id column\n",
        "news_dataset['id'] = range(1, len(news_dataset)+1)"
      ]
    },
    {
      "cell_type": "code",
      "execution_count": null,
      "id": "ad75d467",
      "metadata": {
        "id": "ad75d467"
      },
      "outputs": [],
      "source": [
        "# Select required columns\n",
        "news_dataset = news_dataset[['id', 'title', 'text', 'label']]"
      ]
    },
    {
      "cell_type": "code",
      "execution_count": null,
      "id": "b97e3428",
      "metadata": {
        "id": "b97e3428"
      },
      "outputs": [],
      "source": [
        "# Drop rows with missing label (just in case)\n",
        "news_dataset = news_dataset.dropna(subset=['label'])"
      ]
    },
    {
      "cell_type": "code",
      "execution_count": null,
      "id": "701ab7c5",
      "metadata": {
        "id": "701ab7c5"
      },
      "outputs": [],
      "source": [
        "# Fill missing values in text columns\n",
        "news_dataset['title'] = news_dataset['title'].fillna('')\n",
        "news_dataset['text'] = news_dataset['text'].fillna('')"
      ]
    },
    {
      "cell_type": "code",
      "execution_count": null,
      "id": "e2383f42",
      "metadata": {
        "id": "e2383f42"
      },
      "outputs": [],
      "source": [
        "# Create 'content' column\n",
        "news_dataset['content'] = news_dataset['title'].astype(str) + ' ' + news_dataset['text'].astype(str)"
      ]
    },
    {
      "cell_type": "code",
      "execution_count": null,
      "id": "631851e1",
      "metadata": {
        "id": "631851e1"
      },
      "outputs": [],
      "source": [
        "news_dataset['raw_content'] = news_dataset['content']"
      ]
    },
    {
      "cell_type": "markdown",
      "id": "6296ca08",
      "metadata": {
        "id": "6296ca08"
      },
      "source": [
        "## Section 4: Final Feature and Label Split"
      ]
    },
    {
      "cell_type": "code",
      "execution_count": null,
      "id": "8a61c18c",
      "metadata": {
        "id": "8a61c18c"
      },
      "outputs": [],
      "source": [
        "# Split into X and Y\n",
        "X = news_dataset.drop(columns='label', axis=1)\n",
        "Y = news_dataset['label']"
      ]
    },
    {
      "cell_type": "code",
      "execution_count": null,
      "id": "872c3664",
      "metadata": {
        "colab": {
          "base_uri": "https://localhost:8080/",
          "height": 178
        },
        "id": "872c3664",
        "outputId": "c3e41fe1-aeb4-4315-98d5-eff6d3f2c503"
      },
      "outputs": [],
      "source": [
        "news_dataset['label'].value_counts()"
      ]
    },
    {
      "cell_type": "code",
      "execution_count": null,
      "id": "98051067",
      "metadata": {
        "colab": {
          "base_uri": "https://localhost:8080/"
        },
        "id": "98051067",
        "outputId": "31121323-c0f4-45ca-b85b-7b880302a55a"
      },
      "outputs": [],
      "source": [
        "print(\"X shape:\", X.shape)\n",
        "print(\"Y shape:\", Y.shape)"
      ]
    },
    {
      "cell_type": "code",
      "execution_count": null,
      "id": "d3784c61",
      "metadata": {
        "colab": {
          "base_uri": "https://localhost:8080/"
        },
        "id": "d3784c61",
        "outputId": "c6822132-aba8-4778-da83-fec218b5ad24"
      },
      "outputs": [],
      "source": [
        "print(\"\\nSample X:\\n\", X.head())"
      ]
    },
    {
      "cell_type": "code",
      "execution_count": null,
      "id": "a7f9f402",
      "metadata": {
        "colab": {
          "base_uri": "https://localhost:8080/"
        },
        "id": "a7f9f402",
        "outputId": "35619e6a-4fc9-4759-f172-aa8a6d9daacf"
      },
      "outputs": [],
      "source": [
        "print(\"\\nSample Y:\\n\", Y.head())"
      ]
    },
    {
      "cell_type": "markdown",
      "id": "2083debd",
      "metadata": {
        "id": "2083debd"
      },
      "source": [
        "## Section 5: Text Preprocessing and Stemming"
      ]
    },
    {
      "cell_type": "code",
      "execution_count": null,
      "id": "00d12357",
      "metadata": {
        "id": "00d12357"
      },
      "outputs": [],
      "source": [
        "port_stem = PorterStemmer()"
      ]
    },
    {
      "cell_type": "code",
      "execution_count": null,
      "id": "3e837ef1",
      "metadata": {
        "id": "3e837ef1"
      },
      "outputs": [],
      "source": [
        "stop_words = set(stopwords.words('english')) # define once globally for performance\n",
        "\n",
        "def stemming(content):\n",
        "    stemmed_content = re.sub('[^a-zA-Z]',' ',content)\n",
        "    stemmed_content = stemmed_content.lower()\n",
        "    stemmed_content = stemmed_content.split()\n",
        "    stemmed_content = [port_stem.stem(word) for word in stemmed_content if not word in stop_words]\n",
        "    stemmed_content = ' '.join(stemmed_content)\n",
        "    return stemmed_content"
      ]
    },
    {
      "cell_type": "markdown",
      "id": "89332bc9",
      "metadata": {
        "id": "89332bc9"
      },
      "source": [
        "## Section 6: Raw-Text Preservation and Dataset Splitting"
      ]
    },
    {
      "cell_type": "code",
      "execution_count": null,
      "id": "3f17faf7",
      "metadata": {
        "id": "3f17faf7"
      },
      "outputs": [],
      "source": [
        "# Assuming 'content' = cleaned version (without stemming), 'raw_content' = untouched, and 'label' = target\n",
        "\n",
        "X_raw = news_dataset['raw_content'].values   # For BERT\n",
        "X_content = news_dataset['content'].values   # To apply stemming AFTER split\n",
        "Y = news_dataset['label'].values\n",
        "\n",
        "# Create consistent indices for splitting both raw and processed data\n",
        "indices = np.arange(len(X_content))\n",
        "train_idx, test_idx = train_test_split(indices, test_size=0.2, stratify=Y, random_state=2)\n",
        "\n",
        "# Split raw content for BERT\n",
        "X_train_raw = X_raw[train_idx]\n",
        "X_test_raw = X_raw[test_idx]\n",
        "\n",
        "# Split unstemmed content for traditional ML models\n",
        "X_train_content = X_content[train_idx]\n",
        "X_test_content = X_content[test_idx]\n",
        "\n",
        "Y_train = Y[train_idx]\n",
        "Y_test = Y[test_idx]"
      ]
    },
    {
      "cell_type": "markdown",
      "id": "2f57dffc",
      "metadata": {
        "id": "2f57dffc"
      },
      "source": [
        "## Section 7: Apply Stemming After Splitting"
      ]
    },
    {
      "cell_type": "code",
      "execution_count": null,
      "id": "cc4fc00e",
      "metadata": {
        "id": "cc4fc00e"
      },
      "outputs": [],
      "source": [
        "X_train_stemmed = np.array([stemming(text) for text in X_train_content])\n",
        "X_test_stemmed = np.array([stemming(text) for text in X_test_content])"
      ]
    },
    {
      "cell_type": "markdown",
      "id": "26aca0a0",
      "metadata": {
        "id": "26aca0a0"
      },
      "source": [
        "## Section 8: Text Vectorization Using TF-IDF"
      ]
    },
    {
      "cell_type": "code",
      "execution_count": null,
      "id": "a75ef3e7",
      "metadata": {
        "id": "a75ef3e7"
      },
      "outputs": [],
      "source": [
        "# Convert stemmed text into numerical features\n",
        "vectorizer = TfidfVectorizer()\n",
        "vectorizer.fit(X_train_stemmed)\n",
        "\n",
        "X_train_vect = vectorizer.transform(X_train_stemmed)\n",
        "X_test_vect = vectorizer.transform(X_test_stemmed)"
      ]
    },
    {
      "cell_type": "markdown",
      "id": "ae1a80bd",
      "metadata": {
        "id": "ae1a80bd"
      },
      "source": [
        "## Section 9: Training the Model - Logistic Regression"
      ]
    },
    {
      "cell_type": "code",
      "execution_count": null,
      "id": "f9e89f07",
      "metadata": {
        "id": "f9e89f07"
      },
      "outputs": [],
      "source": [
        "model = LogisticRegression()"
      ]
    },
    {
      "cell_type": "code",
      "execution_count": null,
      "id": "3de58e07",
      "metadata": {
        "colab": {
          "base_uri": "https://localhost:8080/",
          "height": 80
        },
        "id": "3de58e07",
        "outputId": "cb3c596c-b269-4127-bd24-8936160b072c"
      },
      "outputs": [],
      "source": [
        "# Train the model\n",
        "model.fit(X_train_vect, Y_train)"
      ]
    },
    {
      "cell_type": "markdown",
      "id": "ee4dd6f1",
      "metadata": {
        "id": "ee4dd6f1"
      },
      "source": [
        "## Section 10: Evaluation – Logistic Regression"
      ]
    },
    {
      "cell_type": "code",
      "execution_count": null,
      "id": "27183071",
      "metadata": {
        "colab": {
          "base_uri": "https://localhost:8080/"
        },
        "id": "27183071",
        "outputId": "18f3f44b-278b-42d1-f1ff-b2b0e1d7b6a1"
      },
      "outputs": [],
      "source": [
        "# Evaluation on Training Data\n",
        "train_preds = model.predict(X_train_vect)\n",
        "train_accuracy = accuracy_score(Y_train, train_preds)\n",
        "print(f\"Training Accuracy: {train_accuracy:.4f}\")\n",
        "\n",
        "# Evaluation on Test Data\n",
        "test_preds = model.predict(X_test_vect)\n",
        "test_accuracy = accuracy_score(Y_test, test_preds)\n",
        "print(f\"Test Accuracy: {test_accuracy:.4f}\")\n",
        "\n",
        "# Classification Report\n",
        "print(\"\\nClassification Report:\")\n",
        "print(classification_report(Y_test, test_preds, target_names=[\"FAKE\", \"REAL\"]))\n",
        "\n",
        "# Confusion Matrix\n",
        "print(\"Confusion Matrix:\")\n",
        "print(confusion_matrix(Y_test, test_preds))\n",
        "\n",
        "# ROC-AUC Score (for probability-based models)\n",
        "if hasattr(model, \"predict_proba\"):\n",
        "    y_probs = model.predict_proba(X_test_vect)[:, 1]  # Probabilities for class 'Fake'\n",
        "    roc_auc = roc_auc_score(Y_test, y_probs)\n",
        "    print(f\"ROC-AUC Score: {roc_auc:.4f}\")\n"
      ]
    },
    {
      "cell_type": "code",
      "execution_count": null,
      "id": "22b9e89d",
      "metadata": {
        "colab": {
          "base_uri": "https://localhost:8080/"
        },
        "id": "22b9e89d",
        "outputId": "bd93b638-cb06-4618-e06d-5960f01a6ff5"
      },
      "outputs": [],
      "source": [
        "# Show predictions for first 5 test samples\n",
        "for i in range(5):\n",
        "    print(f\"\\n News Title: {X_test_raw[i]}\")\n",
        "    pred = model.predict(X_test_vect[i]).item()\n",
        "    label = \"FAKE\" if pred == 0 else \"REAL\"\n",
        "    actual = \"FAKE\" if Y_test[i] == 0 else \"REAL\"\n",
        "    print(f\"Predicted: {label} | Actual: {actual}\")\n"
      ]
    },
    {
      "cell_type": "code",
      "execution_count": null,
      "id": "7568d6d8",
      "metadata": {
        "id": "7568d6d8"
      },
      "outputs": [],
      "source": [
        "def predict_news(news_text):\n",
        "    cleaned = stemming(news_text)\n",
        "    vectorized_input = vectorizer.transform([cleaned])\n",
        "\n",
        "    prediction = model.predict(vectorized_input)[0]\n",
        "    prob = model.predict_proba(vectorized_input)[0][1] if hasattr(model, \"predict_proba\") else None\n",
        "\n",
        "    print(\"\\nInput News Title:\")\n",
        "    print(news_text)\n",
        "\n",
        "    print(\"\\nPrediction:\")\n",
        "    if prediction == 0:\n",
        "      print(\"The news is classified as: FAKE\")\n",
        "    else:\n",
        "      print(\"The news is classified as: REAL\")\n",
        "\n",
        "    if prob is not None:\n",
        "        print(f\"Confidence (Real Probability): {prob:.4f}\")\n",
        "        # print(f\"Confidence - FAKE: {prob[0]:.4f}, REAL: {prob[1]:.4f}\")"
      ]
    },
    {
      "cell_type": "code",
      "execution_count": null,
      "id": "3e7f0534",
      "metadata": {
        "colab": {
          "base_uri": "https://localhost:8080/"
        },
        "id": "3e7f0534",
        "outputId": "7266b224-16f7-4ca8-a00f-93d7d23278aa"
      },
      "outputs": [],
      "source": [
        "# Example test\n",
        "custom_news = \"Pfizer and BioNTech announce positive results from late-stage COVID-19 vaccine trial. The companies reported that the vaccine was more than 90% effective in preventing COVID-19 among participants without evidence of prior infection. The Phase 3 clinical trial enrolled 43,538 participants, with no serious safety concerns reported. The vaccine candidate is based on mRNA technology and requires two doses administered three weeks apart. Pfizer plans to seek Emergency Use Authorization from the U.S. FDA. Global health experts have hailed the development as a significant milestone in the fight against the pandemic. Pfizer and BioNTech also confirmed their commitment to equitable global access, including low- and middle-income countries.\"\n",
        "predict_news(custom_news)"
      ]
    },
    {
      "cell_type": "code",
      "execution_count": null,
      "id": "TLOboQkN22p-",
      "metadata": {
        "colab": {
          "base_uri": "https://localhost:8080/"
        },
        "id": "TLOboQkN22p-",
        "outputId": "140c1f4e-0184-410d-fc87-9bda88f018b5"
      },
      "outputs": [],
      "source": [
        "# Example custom input\n",
        "custom_news = \"Government confirms lizard people control major banks and media. In a shocking revelation, the Prime Minister's office released a statement confirming the existence of reptilian humanoids infiltrating global financial institutions and news networks. These shape-shifting beings, originating from the Draco constellation, have allegedly been manipulating world events for decades. The statement claims their ultimate goal is to enslave humanity and establish a New World Order. The Ministry of Defense has deployed elite units to capture and expose the reptilians, promising transparency and public safety in the coming weeks. Meanwhile, conspiracy theorists claim they were right all along.\"\n",
        "predict_news(custom_news)"
      ]
    },
    {
      "cell_type": "markdown",
      "id": "5769a4ca",
      "metadata": {
        "id": "5769a4ca"
      },
      "source": [
        "## Section 11: Fake News Detection using Pretrained BERT"
      ]
    },
    {
      "cell_type": "code",
      "execution_count": null,
      "id": "a800719e",
      "metadata": {
        "colab": {
          "base_uri": "https://localhost:8080/",
          "height": 1000,
          "referenced_widgets": [
            "6f2e18b860714df6bab95634e9ecfa72",
            "c0ebafb372594b33bf48e7707727d451",
            "ba36787805bb4b5e80fa2774d79fcde3",
            "ad7142a63305498b8866aa389c0a2e3b",
            "004cddf2789948f996bb37681733b122",
            "6cec86b644544147a9ab4d0c0fcdebc2",
            "b073eb6834bf478db3807bdd54b55d52",
            "9c79f4d3646b4cb9abde168d40f5b5e4",
            "a70d21bbb5134a49979802aaba56b3c2",
            "a8abe0e6d04442059e715739821caae5",
            "412a6a6af041400ca30221ea9dc10fe5",
            "48ca0ddb7493443db2b66bb876f63e3f",
            "3b21865ac23d4a22a35bd5a2330363d6",
            "230df80a636b4182bbc75a2b398aeb9b",
            "580e26994eda4bf088400e6a20aaa23d",
            "2a3b586e30b04a2a9e165ed4da30830b",
            "dc857b38207f4c9daf713000d10182fa",
            "a29b31d2ba0f4e86b77a7e0b833f3397",
            "2a2e819bf41146aea4256cd09a120f87",
            "6da913e57de54bbba3b9dd4b68ad013f",
            "1a309f67dc6e47adb2572c8fb7bfd2be",
            "79469e8f281740ddbb1021a57b3d5dfe",
            "d99f2ac5fa55458e823cb408b1e57305",
            "6b48b209bd514f68a1bcf7e4c4bb54df",
            "a7d7f1ff25c54f0193cd9873a84ab2da",
            "b0ef55424f054f729e6531dab3031f72",
            "8a9de3bbaad34554855f9ba5f173a9ee",
            "ceeaf471298b4e0889694e2d65d527cc",
            "58c23791edaf48ac888a5f9e1679fc7e",
            "c616298f071b42bba2a7806a6c15af0b",
            "6b6f978656b74dad8222923b09b3f952",
            "b6d7a640035147c4b24d61ae0467b3fc",
            "96feb7cf864f47fb86a163200a72ef19",
            "d3d70a1a4dd740c298c7f1506cee62de",
            "f4483ad4eedf46fe8d65386bf87fbd8e",
            "3df1415729e34aa5b31d4d5ffcd0e089",
            "7b69cbd0fb044d6e84f9801d92c64502",
            "ac25d536a4a74b71a9682519fc70c444",
            "976663fa659142188d63b74073184f5b",
            "037f12f343cb44c18e9d4ce9463c2536",
            "34a8184270ab440190df90fed1e2685c",
            "34b9d77365d043199c230c02d716658e",
            "21c3dfcdb81b4c229960ec4938ca16ff",
            "3ab8fd8e8da14fe3bc3941ae547f0e10",
            "491f54a3a87b4a12b3acacbeadc10970",
            "244561a7d93e4bb4835f992d483184c8",
            "03fb53af5b9443c18907e5e71876ad21",
            "4541f5520cf54103ae0f2f59f5356d29",
            "124ddd8b6e16408595273c3e25ef5368",
            "c092584005df49e289123d5e171e4cdb",
            "0fce17e0ffec469f9fcb7ed2602b0595",
            "3170a630f15241e58f447d68b740c76a",
            "ae3fd6aa420a4c0faf7eba34206091e9",
            "369ea7f066724067a1d60561467a6b0d",
            "fbf4b13256a24785aaec949dcf269faa",
            "b6d96e68000e40ed8e47b3cc3b4c5b38",
            "ba4d2f868fbb4591911a572a1acf2779",
            "d63758a9b22141ae91d01d1418cac302",
            "bcda4bb3626e411c81ce2f93c69e7177",
            "57a0e3937342438bbd733fa61653cc42",
            "72faf924b434435fad7f7e3d38cd6087",
            "aa0201e78da8458f9eb60208861ef32b",
            "926e1b4d4854460d9782baa2b1493cf1",
            "ac76e8fd76cc490194f64a0c9039ace2",
            "d88833d1fff647c6a481f03778923b33",
            "df1242fd9bb14f509aa0ecd11bd1a0ef",
            "c14e583c58464f72a15b7174300577c6",
            "0bd30361913b4a858e760ce2d88f7a1f",
            "c8b3d7171f4d4cf2baf4df2e9be7f180",
            "4c2da00590e7403f87c510e661909533",
            "c7004aa9ce17491383be35fc7759fd6e",
            "bb7abc906a1c445c85f48ff7fbb032a2",
            "fbc17aa2046e4054967a268157b8f9db",
            "6c7f25e04a7249eeae238c291d04f660",
            "9ca14600e639495cb64291d79c2e2971",
            "3286d8ebd2a0484dab16003cc3c78fec",
            "a350cb48f8e24656b5fa5ab19b33ac9a"
          ]
        },
        "id": "a800719e",
        "outputId": "540b692a-d319-44f8-ec75-89189f9e1b46"
      },
      "outputs": [],
      "source": [
        "# Load Model & Tokenizer\n",
        "model_name = \"jy46604790/Fake-News-Bert-Detect\"\n",
        "tokenizer = AutoTokenizer.from_pretrained(model_name)\n",
        "model = AutoModelForSequenceClassification.from_pretrained(model_name)\n",
        "\n",
        "device = torch.device(\"cuda\" if torch.cuda.is_available() else \"cpu\")\n",
        "model.to(device)\n",
        "\n",
        "# Use pipeline with truncation handling\n",
        "classifier = pipeline(\n",
        "    \"text-classification\",\n",
        "    model=model,\n",
        "    tokenizer=tokenizer,\n",
        "    device=0 if torch.cuda.is_available() else -1,\n",
        "    truncation=True,\n",
        "    max_length=512,\n",
        "    padding=True\n",
        ")\n",
        "\n",
        "# Define label map\n",
        "label_map = {'LABEL_0': 0, 'LABEL_1': 1}  # 0 = FAKE, 1 = REAL\n",
        "\n",
        "def clean_batch(batch):\n",
        "    return [str(x) if x is not None else \"\" for x in batch]\n",
        "\n",
        "# Evaluation on Training Data\n",
        "bert_train_preds = []\n",
        "batch_size = 8\n",
        "\n",
        "for i in tqdm(range(0, len(X_train_raw), batch_size), desc=\"BERT Train Batches\"):\n",
        "    batch = clean_batch(X_train_raw[i:i+batch_size])\n",
        "    results = classifier(batch)\n",
        "    for pred in results:\n",
        "        label = pred['label']\n",
        "        if label not in label_map:\n",
        "            raise ValueError(f\"Unexpected label: {label}\")\n",
        "        bert_train_preds.append(label_map[label])\n",
        "\n",
        "train_accuracy = accuracy_score(Y_train, bert_train_preds)\n",
        "print(f\"\\nTraining Accuracy: {train_accuracy:.4f}\")\n",
        "\n",
        "# Evaluation on Test Data\n",
        "bert_test_preds = []\n",
        "\n",
        "for i in tqdm(range(0, len(X_test_raw), batch_size), desc=\"BERT Test Batches\"):\n",
        "    batch = clean_batch(X_test_raw[i:i+batch_size])\n",
        "    results = classifier(batch)\n",
        "    for pred in results:\n",
        "        label = pred['label']\n",
        "        if label not in label_map:\n",
        "            raise ValueError(f\"Unexpected label: {label}\")\n",
        "        bert_test_preds.append(label_map[label])\n",
        "\n",
        "test_accuracy = accuracy_score(Y_test, bert_test_preds)\n",
        "print(f\"Test Accuracy: {test_accuracy:.4f}\")\n",
        "\n",
        "# Classification Report\n",
        "print(\"\\n[BERT] Classification Report:\")\n",
        "print(classification_report(Y_test, bert_test_preds, target_names=[\"FAKE\", \"REAL\"]))\n",
        "\n",
        "# Confusion Matrix\n",
        "print(\"Confusion Matrix:\")\n",
        "print(confusion_matrix(Y_test, bert_test_preds))"
      ]
    },
    {
      "cell_type": "code",
      "execution_count": null,
      "id": "cf862281",
      "metadata": {
        "colab": {
          "base_uri": "https://localhost:8080/"
        },
        "id": "cf862281",
        "outputId": "50900073-6188-43d0-a602-2133ac3eee8d"
      },
      "outputs": [],
      "source": [
        "# Show predictions for first 5 test samples\n",
        "for i in range(5):\n",
        "    print(f\"\\nNews Title: {X_test_raw[i]}\")\n",
        "    predicted_label = \"FAKE\" if bert_test_preds[i] == 0 else \"REAL\"\n",
        "    actual_label = \"FAKE\" if Y_test[i] == 0 else \"REAL\"\n",
        "    print(f\"Predicted: {predicted_label} | Actual: {actual_label}\")"
      ]
    },
    {
      "cell_type": "code",
      "execution_count": null,
      "id": "e8b2d8d2",
      "metadata": {
        "id": "e8b2d8d2"
      },
      "outputs": [],
      "source": [
        "# Custom Prediction Function\n",
        "def predict_news_bert(news_text):\n",
        "    pred = classifier(news_text)[0]\n",
        "    label = \"FAKE\" if pred['label'] == 'LABEL_0' else \"REAL\"\n",
        "    score = pred['score']\n",
        "\n",
        "    print(\"\\nInput News Title:\")\n",
        "    print(news_text)\n",
        "\n",
        "    print(\"\\nPrediction:\")\n",
        "    print(f\"The news is classified as: {label}\")\n",
        "    print(f\"Confidence Score: {score:.4f}\")"
      ]
    },
    {
      "cell_type": "code",
      "execution_count": null,
      "id": "80ca7e2e",
      "metadata": {
        "colab": {
          "base_uri": "https://localhost:8080/"
        },
        "id": "80ca7e2e",
        "outputId": "9bbc5de2-a8da-49ba-cdc6-77f51d5c6bbd"
      },
      "outputs": [],
      "source": [
        "# Example custom input\n",
        "custom_news = \"Pfizer and BioNTech announce positive results from late-stage COVID-19 vaccine trial. The companies reported that the vaccine was more than 90% effective in preventing COVID-19 among participants without evidence of prior infection. The Phase 3 clinical trial enrolled 43,538 participants, with no serious safety concerns reported. The vaccine candidate is based on mRNA technology and requires two doses administered three weeks apart. Pfizer plans to seek Emergency Use Authorization from the U.S. FDA. Global health experts have hailed the development as a significant milestone in the fight against the pandemic. Pfizer and BioNTech also confirmed their commitment to equitable global access, including low- and middle-income countries.\"\n",
        "predict_news_bert(custom_news)"
      ]
    },
    {
      "cell_type": "code",
      "execution_count": null,
      "id": "0abe5cc4",
      "metadata": {
        "colab": {
          "base_uri": "https://localhost:8080/"
        },
        "id": "0abe5cc4",
        "outputId": "c428ac4c-cb9d-4ba3-db42-00b26ca87de6"
      },
      "outputs": [],
      "source": [
        "# Example custom input\n",
        "custom_news = \"Government confirms lizard people control major banks and media. In a shocking revelation, the Prime Minister's office released a statement confirming the existence of reptilian humanoids infiltrating global financial institutions and news networks. These shape-shifting beings, originating from the Draco constellation, have allegedly been manipulating world events for decades. The statement claims their ultimate goal is to enslave humanity and establish a New World Order. The Ministry of Defense has deployed elite units to capture and expose the reptilians, promising transparency and public safety in the coming weeks. Meanwhile, conspiracy theorists claim they were right all along.\"\n",
        "predict_news_bert(custom_news)"
      ]
    },
    {
      "cell_type": "code",
      "execution_count": null,
      "id": "94lojE0U9gYu",
      "metadata": {
        "id": "94lojE0U9gYu"
      },
      "outputs": [],
      "source": []
    }
  ],
  "metadata": {
    "accelerator": "GPU",
    "colab": {
      "gpuType": "T4",
      "provenance": []
    },
    "kernelspec": {
      "display_name": "ml_env",
      "language": "python",
      "name": "python3"
    },
    "language_info": {
      "codemirror_mode": {
        "name": "ipython",
        "version": 3
      },
      "file_extension": ".py",
      "mimetype": "text/x-python",
      "name": "python",
      "nbconvert_exporter": "python",
      "pygments_lexer": "ipython3",
      "version": "3.9.20"
    },
    "widgets": {
      "application/vnd.jupyter.widget-state+json": {
        "004cddf2789948f996bb37681733b122": {
          "model_module": "@jupyter-widgets/base",
          "model_module_version": "1.2.0",
          "model_name": "LayoutModel",
          "state": {
            "_model_module": "@jupyter-widgets/base",
            "_model_module_version": "1.2.0",
            "_model_name": "LayoutModel",
            "_view_count": null,
            "_view_module": "@jupyter-widgets/base",
            "_view_module_version": "1.2.0",
            "_view_name": "LayoutView",
            "align_content": null,
            "align_items": null,
            "align_self": null,
            "border": null,
            "bottom": null,
            "display": null,
            "flex": null,
            "flex_flow": null,
            "grid_area": null,
            "grid_auto_columns": null,
            "grid_auto_flow": null,
            "grid_auto_rows": null,
            "grid_column": null,
            "grid_gap": null,
            "grid_row": null,
            "grid_template_areas": null,
            "grid_template_columns": null,
            "grid_template_rows": null,
            "height": null,
            "justify_content": null,
            "justify_items": null,
            "left": null,
            "margin": null,
            "max_height": null,
            "max_width": null,
            "min_height": null,
            "min_width": null,
            "object_fit": null,
            "object_position": null,
            "order": null,
            "overflow": null,
            "overflow_x": null,
            "overflow_y": null,
            "padding": null,
            "right": null,
            "top": null,
            "visibility": null,
            "width": null
          }
        },
        "037f12f343cb44c18e9d4ce9463c2536": {
          "model_module": "@jupyter-widgets/controls",
          "model_module_version": "1.5.0",
          "model_name": "DescriptionStyleModel",
          "state": {
            "_model_module": "@jupyter-widgets/controls",
            "_model_module_version": "1.5.0",
            "_model_name": "DescriptionStyleModel",
            "_view_count": null,
            "_view_module": "@jupyter-widgets/base",
            "_view_module_version": "1.2.0",
            "_view_name": "StyleView",
            "description_width": ""
          }
        },
        "03fb53af5b9443c18907e5e71876ad21": {
          "model_module": "@jupyter-widgets/controls",
          "model_module_version": "1.5.0",
          "model_name": "FloatProgressModel",
          "state": {
            "_dom_classes": [],
            "_model_module": "@jupyter-widgets/controls",
            "_model_module_version": "1.5.0",
            "_model_name": "FloatProgressModel",
            "_view_count": null,
            "_view_module": "@jupyter-widgets/controls",
            "_view_module_version": "1.5.0",
            "_view_name": "ProgressView",
            "bar_style": "success",
            "description": "",
            "description_tooltip": null,
            "layout": "IPY_MODEL_3170a630f15241e58f447d68b740c76a",
            "max": 735,
            "min": 0,
            "orientation": "horizontal",
            "style": "IPY_MODEL_ae3fd6aa420a4c0faf7eba34206091e9",
            "value": 735
          }
        },
        "0bd30361913b4a858e760ce2d88f7a1f": {
          "model_module": "@jupyter-widgets/controls",
          "model_module_version": "1.5.0",
          "model_name": "HTMLModel",
          "state": {
            "_dom_classes": [],
            "_model_module": "@jupyter-widgets/controls",
            "_model_module_version": "1.5.0",
            "_model_name": "HTMLModel",
            "_view_count": null,
            "_view_module": "@jupyter-widgets/controls",
            "_view_module_version": "1.5.0",
            "_view_name": "HTMLView",
            "description": "",
            "description_tooltip": null,
            "layout": "IPY_MODEL_bb7abc906a1c445c85f48ff7fbb032a2",
            "placeholder": "​",
            "style": "IPY_MODEL_fbc17aa2046e4054967a268157b8f9db",
            "value": "model.safetensors: 100%"
          }
        },
        "0fce17e0ffec469f9fcb7ed2602b0595": {
          "model_module": "@jupyter-widgets/controls",
          "model_module_version": "1.5.0",
          "model_name": "DescriptionStyleModel",
          "state": {
            "_model_module": "@jupyter-widgets/controls",
            "_model_module_version": "1.5.0",
            "_model_name": "DescriptionStyleModel",
            "_view_count": null,
            "_view_module": "@jupyter-widgets/base",
            "_view_module_version": "1.2.0",
            "_view_name": "StyleView",
            "description_width": ""
          }
        },
        "124ddd8b6e16408595273c3e25ef5368": {
          "model_module": "@jupyter-widgets/base",
          "model_module_version": "1.2.0",
          "model_name": "LayoutModel",
          "state": {
            "_model_module": "@jupyter-widgets/base",
            "_model_module_version": "1.2.0",
            "_model_name": "LayoutModel",
            "_view_count": null,
            "_view_module": "@jupyter-widgets/base",
            "_view_module_version": "1.2.0",
            "_view_name": "LayoutView",
            "align_content": null,
            "align_items": null,
            "align_self": null,
            "border": null,
            "bottom": null,
            "display": null,
            "flex": null,
            "flex_flow": null,
            "grid_area": null,
            "grid_auto_columns": null,
            "grid_auto_flow": null,
            "grid_auto_rows": null,
            "grid_column": null,
            "grid_gap": null,
            "grid_row": null,
            "grid_template_areas": null,
            "grid_template_columns": null,
            "grid_template_rows": null,
            "height": null,
            "justify_content": null,
            "justify_items": null,
            "left": null,
            "margin": null,
            "max_height": null,
            "max_width": null,
            "min_height": null,
            "min_width": null,
            "object_fit": null,
            "object_position": null,
            "order": null,
            "overflow": null,
            "overflow_x": null,
            "overflow_y": null,
            "padding": null,
            "right": null,
            "top": null,
            "visibility": null,
            "width": null
          }
        },
        "1a309f67dc6e47adb2572c8fb7bfd2be": {
          "model_module": "@jupyter-widgets/base",
          "model_module_version": "1.2.0",
          "model_name": "LayoutModel",
          "state": {
            "_model_module": "@jupyter-widgets/base",
            "_model_module_version": "1.2.0",
            "_model_name": "LayoutModel",
            "_view_count": null,
            "_view_module": "@jupyter-widgets/base",
            "_view_module_version": "1.2.0",
            "_view_name": "LayoutView",
            "align_content": null,
            "align_items": null,
            "align_self": null,
            "border": null,
            "bottom": null,
            "display": null,
            "flex": null,
            "flex_flow": null,
            "grid_area": null,
            "grid_auto_columns": null,
            "grid_auto_flow": null,
            "grid_auto_rows": null,
            "grid_column": null,
            "grid_gap": null,
            "grid_row": null,
            "grid_template_areas": null,
            "grid_template_columns": null,
            "grid_template_rows": null,
            "height": null,
            "justify_content": null,
            "justify_items": null,
            "left": null,
            "margin": null,
            "max_height": null,
            "max_width": null,
            "min_height": null,
            "min_width": null,
            "object_fit": null,
            "object_position": null,
            "order": null,
            "overflow": null,
            "overflow_x": null,
            "overflow_y": null,
            "padding": null,
            "right": null,
            "top": null,
            "visibility": null,
            "width": null
          }
        },
        "21c3dfcdb81b4c229960ec4938ca16ff": {
          "model_module": "@jupyter-widgets/base",
          "model_module_version": "1.2.0",
          "model_name": "LayoutModel",
          "state": {
            "_model_module": "@jupyter-widgets/base",
            "_model_module_version": "1.2.0",
            "_model_name": "LayoutModel",
            "_view_count": null,
            "_view_module": "@jupyter-widgets/base",
            "_view_module_version": "1.2.0",
            "_view_name": "LayoutView",
            "align_content": null,
            "align_items": null,
            "align_self": null,
            "border": null,
            "bottom": null,
            "display": null,
            "flex": null,
            "flex_flow": null,
            "grid_area": null,
            "grid_auto_columns": null,
            "grid_auto_flow": null,
            "grid_auto_rows": null,
            "grid_column": null,
            "grid_gap": null,
            "grid_row": null,
            "grid_template_areas": null,
            "grid_template_columns": null,
            "grid_template_rows": null,
            "height": null,
            "justify_content": null,
            "justify_items": null,
            "left": null,
            "margin": null,
            "max_height": null,
            "max_width": null,
            "min_height": null,
            "min_width": null,
            "object_fit": null,
            "object_position": null,
            "order": null,
            "overflow": null,
            "overflow_x": null,
            "overflow_y": null,
            "padding": null,
            "right": null,
            "top": null,
            "visibility": null,
            "width": null
          }
        },
        "230df80a636b4182bbc75a2b398aeb9b": {
          "model_module": "@jupyter-widgets/controls",
          "model_module_version": "1.5.0",
          "model_name": "FloatProgressModel",
          "state": {
            "_dom_classes": [],
            "_model_module": "@jupyter-widgets/controls",
            "_model_module_version": "1.5.0",
            "_model_name": "FloatProgressModel",
            "_view_count": null,
            "_view_module": "@jupyter-widgets/controls",
            "_view_module_version": "1.5.0",
            "_view_name": "ProgressView",
            "bar_style": "success",
            "description": "",
            "description_tooltip": null,
            "layout": "IPY_MODEL_2a2e819bf41146aea4256cd09a120f87",
            "max": 1,
            "min": 0,
            "orientation": "horizontal",
            "style": "IPY_MODEL_6da913e57de54bbba3b9dd4b68ad013f",
            "value": 1
          }
        },
        "244561a7d93e4bb4835f992d483184c8": {
          "model_module": "@jupyter-widgets/controls",
          "model_module_version": "1.5.0",
          "model_name": "HTMLModel",
          "state": {
            "_dom_classes": [],
            "_model_module": "@jupyter-widgets/controls",
            "_model_module_version": "1.5.0",
            "_model_name": "HTMLModel",
            "_view_count": null,
            "_view_module": "@jupyter-widgets/controls",
            "_view_module_version": "1.5.0",
            "_view_name": "HTMLView",
            "description": "",
            "description_tooltip": null,
            "layout": "IPY_MODEL_c092584005df49e289123d5e171e4cdb",
            "placeholder": "​",
            "style": "IPY_MODEL_0fce17e0ffec469f9fcb7ed2602b0595",
            "value": "config.json: 100%"
          }
        },
        "2a2e819bf41146aea4256cd09a120f87": {
          "model_module": "@jupyter-widgets/base",
          "model_module_version": "1.2.0",
          "model_name": "LayoutModel",
          "state": {
            "_model_module": "@jupyter-widgets/base",
            "_model_module_version": "1.2.0",
            "_model_name": "LayoutModel",
            "_view_count": null,
            "_view_module": "@jupyter-widgets/base",
            "_view_module_version": "1.2.0",
            "_view_name": "LayoutView",
            "align_content": null,
            "align_items": null,
            "align_self": null,
            "border": null,
            "bottom": null,
            "display": null,
            "flex": null,
            "flex_flow": null,
            "grid_area": null,
            "grid_auto_columns": null,
            "grid_auto_flow": null,
            "grid_auto_rows": null,
            "grid_column": null,
            "grid_gap": null,
            "grid_row": null,
            "grid_template_areas": null,
            "grid_template_columns": null,
            "grid_template_rows": null,
            "height": null,
            "justify_content": null,
            "justify_items": null,
            "left": null,
            "margin": null,
            "max_height": null,
            "max_width": null,
            "min_height": null,
            "min_width": null,
            "object_fit": null,
            "object_position": null,
            "order": null,
            "overflow": null,
            "overflow_x": null,
            "overflow_y": null,
            "padding": null,
            "right": null,
            "top": null,
            "visibility": null,
            "width": "20px"
          }
        },
        "2a3b586e30b04a2a9e165ed4da30830b": {
          "model_module": "@jupyter-widgets/base",
          "model_module_version": "1.2.0",
          "model_name": "LayoutModel",
          "state": {
            "_model_module": "@jupyter-widgets/base",
            "_model_module_version": "1.2.0",
            "_model_name": "LayoutModel",
            "_view_count": null,
            "_view_module": "@jupyter-widgets/base",
            "_view_module_version": "1.2.0",
            "_view_name": "LayoutView",
            "align_content": null,
            "align_items": null,
            "align_self": null,
            "border": null,
            "bottom": null,
            "display": null,
            "flex": null,
            "flex_flow": null,
            "grid_area": null,
            "grid_auto_columns": null,
            "grid_auto_flow": null,
            "grid_auto_rows": null,
            "grid_column": null,
            "grid_gap": null,
            "grid_row": null,
            "grid_template_areas": null,
            "grid_template_columns": null,
            "grid_template_rows": null,
            "height": null,
            "justify_content": null,
            "justify_items": null,
            "left": null,
            "margin": null,
            "max_height": null,
            "max_width": null,
            "min_height": null,
            "min_width": null,
            "object_fit": null,
            "object_position": null,
            "order": null,
            "overflow": null,
            "overflow_x": null,
            "overflow_y": null,
            "padding": null,
            "right": null,
            "top": null,
            "visibility": null,
            "width": null
          }
        },
        "3170a630f15241e58f447d68b740c76a": {
          "model_module": "@jupyter-widgets/base",
          "model_module_version": "1.2.0",
          "model_name": "LayoutModel",
          "state": {
            "_model_module": "@jupyter-widgets/base",
            "_model_module_version": "1.2.0",
            "_model_name": "LayoutModel",
            "_view_count": null,
            "_view_module": "@jupyter-widgets/base",
            "_view_module_version": "1.2.0",
            "_view_name": "LayoutView",
            "align_content": null,
            "align_items": null,
            "align_self": null,
            "border": null,
            "bottom": null,
            "display": null,
            "flex": null,
            "flex_flow": null,
            "grid_area": null,
            "grid_auto_columns": null,
            "grid_auto_flow": null,
            "grid_auto_rows": null,
            "grid_column": null,
            "grid_gap": null,
            "grid_row": null,
            "grid_template_areas": null,
            "grid_template_columns": null,
            "grid_template_rows": null,
            "height": null,
            "justify_content": null,
            "justify_items": null,
            "left": null,
            "margin": null,
            "max_height": null,
            "max_width": null,
            "min_height": null,
            "min_width": null,
            "object_fit": null,
            "object_position": null,
            "order": null,
            "overflow": null,
            "overflow_x": null,
            "overflow_y": null,
            "padding": null,
            "right": null,
            "top": null,
            "visibility": null,
            "width": null
          }
        },
        "3286d8ebd2a0484dab16003cc3c78fec": {
          "model_module": "@jupyter-widgets/base",
          "model_module_version": "1.2.0",
          "model_name": "LayoutModel",
          "state": {
            "_model_module": "@jupyter-widgets/base",
            "_model_module_version": "1.2.0",
            "_model_name": "LayoutModel",
            "_view_count": null,
            "_view_module": "@jupyter-widgets/base",
            "_view_module_version": "1.2.0",
            "_view_name": "LayoutView",
            "align_content": null,
            "align_items": null,
            "align_self": null,
            "border": null,
            "bottom": null,
            "display": null,
            "flex": null,
            "flex_flow": null,
            "grid_area": null,
            "grid_auto_columns": null,
            "grid_auto_flow": null,
            "grid_auto_rows": null,
            "grid_column": null,
            "grid_gap": null,
            "grid_row": null,
            "grid_template_areas": null,
            "grid_template_columns": null,
            "grid_template_rows": null,
            "height": null,
            "justify_content": null,
            "justify_items": null,
            "left": null,
            "margin": null,
            "max_height": null,
            "max_width": null,
            "min_height": null,
            "min_width": null,
            "object_fit": null,
            "object_position": null,
            "order": null,
            "overflow": null,
            "overflow_x": null,
            "overflow_y": null,
            "padding": null,
            "right": null,
            "top": null,
            "visibility": null,
            "width": null
          }
        },
        "34a8184270ab440190df90fed1e2685c": {
          "model_module": "@jupyter-widgets/base",
          "model_module_version": "1.2.0",
          "model_name": "LayoutModel",
          "state": {
            "_model_module": "@jupyter-widgets/base",
            "_model_module_version": "1.2.0",
            "_model_name": "LayoutModel",
            "_view_count": null,
            "_view_module": "@jupyter-widgets/base",
            "_view_module_version": "1.2.0",
            "_view_name": "LayoutView",
            "align_content": null,
            "align_items": null,
            "align_self": null,
            "border": null,
            "bottom": null,
            "display": null,
            "flex": null,
            "flex_flow": null,
            "grid_area": null,
            "grid_auto_columns": null,
            "grid_auto_flow": null,
            "grid_auto_rows": null,
            "grid_column": null,
            "grid_gap": null,
            "grid_row": null,
            "grid_template_areas": null,
            "grid_template_columns": null,
            "grid_template_rows": null,
            "height": null,
            "justify_content": null,
            "justify_items": null,
            "left": null,
            "margin": null,
            "max_height": null,
            "max_width": null,
            "min_height": null,
            "min_width": null,
            "object_fit": null,
            "object_position": null,
            "order": null,
            "overflow": null,
            "overflow_x": null,
            "overflow_y": null,
            "padding": null,
            "right": null,
            "top": null,
            "visibility": null,
            "width": null
          }
        },
        "34b9d77365d043199c230c02d716658e": {
          "model_module": "@jupyter-widgets/controls",
          "model_module_version": "1.5.0",
          "model_name": "ProgressStyleModel",
          "state": {
            "_model_module": "@jupyter-widgets/controls",
            "_model_module_version": "1.5.0",
            "_model_name": "ProgressStyleModel",
            "_view_count": null,
            "_view_module": "@jupyter-widgets/base",
            "_view_module_version": "1.2.0",
            "_view_name": "StyleView",
            "bar_color": null,
            "description_width": ""
          }
        },
        "369ea7f066724067a1d60561467a6b0d": {
          "model_module": "@jupyter-widgets/base",
          "model_module_version": "1.2.0",
          "model_name": "LayoutModel",
          "state": {
            "_model_module": "@jupyter-widgets/base",
            "_model_module_version": "1.2.0",
            "_model_name": "LayoutModel",
            "_view_count": null,
            "_view_module": "@jupyter-widgets/base",
            "_view_module_version": "1.2.0",
            "_view_name": "LayoutView",
            "align_content": null,
            "align_items": null,
            "align_self": null,
            "border": null,
            "bottom": null,
            "display": null,
            "flex": null,
            "flex_flow": null,
            "grid_area": null,
            "grid_auto_columns": null,
            "grid_auto_flow": null,
            "grid_auto_rows": null,
            "grid_column": null,
            "grid_gap": null,
            "grid_row": null,
            "grid_template_areas": null,
            "grid_template_columns": null,
            "grid_template_rows": null,
            "height": null,
            "justify_content": null,
            "justify_items": null,
            "left": null,
            "margin": null,
            "max_height": null,
            "max_width": null,
            "min_height": null,
            "min_width": null,
            "object_fit": null,
            "object_position": null,
            "order": null,
            "overflow": null,
            "overflow_x": null,
            "overflow_y": null,
            "padding": null,
            "right": null,
            "top": null,
            "visibility": null,
            "width": null
          }
        },
        "3ab8fd8e8da14fe3bc3941ae547f0e10": {
          "model_module": "@jupyter-widgets/controls",
          "model_module_version": "1.5.0",
          "model_name": "DescriptionStyleModel",
          "state": {
            "_model_module": "@jupyter-widgets/controls",
            "_model_module_version": "1.5.0",
            "_model_name": "DescriptionStyleModel",
            "_view_count": null,
            "_view_module": "@jupyter-widgets/base",
            "_view_module_version": "1.2.0",
            "_view_name": "StyleView",
            "description_width": ""
          }
        },
        "3b21865ac23d4a22a35bd5a2330363d6": {
          "model_module": "@jupyter-widgets/controls",
          "model_module_version": "1.5.0",
          "model_name": "HTMLModel",
          "state": {
            "_dom_classes": [],
            "_model_module": "@jupyter-widgets/controls",
            "_model_module_version": "1.5.0",
            "_model_name": "HTMLModel",
            "_view_count": null,
            "_view_module": "@jupyter-widgets/controls",
            "_view_module_version": "1.5.0",
            "_view_name": "HTMLView",
            "description": "",
            "description_tooltip": null,
            "layout": "IPY_MODEL_dc857b38207f4c9daf713000d10182fa",
            "placeholder": "​",
            "style": "IPY_MODEL_a29b31d2ba0f4e86b77a7e0b833f3397",
            "value": "vocab.json: "
          }
        },
        "3df1415729e34aa5b31d4d5ffcd0e089": {
          "model_module": "@jupyter-widgets/controls",
          "model_module_version": "1.5.0",
          "model_name": "FloatProgressModel",
          "state": {
            "_dom_classes": [],
            "_model_module": "@jupyter-widgets/controls",
            "_model_module_version": "1.5.0",
            "_model_name": "FloatProgressModel",
            "_view_count": null,
            "_view_module": "@jupyter-widgets/controls",
            "_view_module_version": "1.5.0",
            "_view_name": "ProgressView",
            "bar_style": "success",
            "description": "",
            "description_tooltip": null,
            "layout": "IPY_MODEL_34a8184270ab440190df90fed1e2685c",
            "max": 772,
            "min": 0,
            "orientation": "horizontal",
            "style": "IPY_MODEL_34b9d77365d043199c230c02d716658e",
            "value": 772
          }
        },
        "412a6a6af041400ca30221ea9dc10fe5": {
          "model_module": "@jupyter-widgets/controls",
          "model_module_version": "1.5.0",
          "model_name": "DescriptionStyleModel",
          "state": {
            "_model_module": "@jupyter-widgets/controls",
            "_model_module_version": "1.5.0",
            "_model_name": "DescriptionStyleModel",
            "_view_count": null,
            "_view_module": "@jupyter-widgets/base",
            "_view_module_version": "1.2.0",
            "_view_name": "StyleView",
            "description_width": ""
          }
        },
        "4541f5520cf54103ae0f2f59f5356d29": {
          "model_module": "@jupyter-widgets/controls",
          "model_module_version": "1.5.0",
          "model_name": "HTMLModel",
          "state": {
            "_dom_classes": [],
            "_model_module": "@jupyter-widgets/controls",
            "_model_module_version": "1.5.0",
            "_model_name": "HTMLModel",
            "_view_count": null,
            "_view_module": "@jupyter-widgets/controls",
            "_view_module_version": "1.5.0",
            "_view_name": "HTMLView",
            "description": "",
            "description_tooltip": null,
            "layout": "IPY_MODEL_369ea7f066724067a1d60561467a6b0d",
            "placeholder": "​",
            "style": "IPY_MODEL_fbf4b13256a24785aaec949dcf269faa",
            "value": " 735/735 [00:00&lt;00:00, 49.0kB/s]"
          }
        },
        "48ca0ddb7493443db2b66bb876f63e3f": {
          "model_module": "@jupyter-widgets/controls",
          "model_module_version": "1.5.0",
          "model_name": "HBoxModel",
          "state": {
            "_dom_classes": [],
            "_model_module": "@jupyter-widgets/controls",
            "_model_module_version": "1.5.0",
            "_model_name": "HBoxModel",
            "_view_count": null,
            "_view_module": "@jupyter-widgets/controls",
            "_view_module_version": "1.5.0",
            "_view_name": "HBoxView",
            "box_style": "",
            "children": [
              "IPY_MODEL_3b21865ac23d4a22a35bd5a2330363d6",
              "IPY_MODEL_230df80a636b4182bbc75a2b398aeb9b",
              "IPY_MODEL_580e26994eda4bf088400e6a20aaa23d"
            ],
            "layout": "IPY_MODEL_2a3b586e30b04a2a9e165ed4da30830b"
          }
        },
        "491f54a3a87b4a12b3acacbeadc10970": {
          "model_module": "@jupyter-widgets/controls",
          "model_module_version": "1.5.0",
          "model_name": "HBoxModel",
          "state": {
            "_dom_classes": [],
            "_model_module": "@jupyter-widgets/controls",
            "_model_module_version": "1.5.0",
            "_model_name": "HBoxModel",
            "_view_count": null,
            "_view_module": "@jupyter-widgets/controls",
            "_view_module_version": "1.5.0",
            "_view_name": "HBoxView",
            "box_style": "",
            "children": [
              "IPY_MODEL_244561a7d93e4bb4835f992d483184c8",
              "IPY_MODEL_03fb53af5b9443c18907e5e71876ad21",
              "IPY_MODEL_4541f5520cf54103ae0f2f59f5356d29"
            ],
            "layout": "IPY_MODEL_124ddd8b6e16408595273c3e25ef5368"
          }
        },
        "4c2da00590e7403f87c510e661909533": {
          "model_module": "@jupyter-widgets/controls",
          "model_module_version": "1.5.0",
          "model_name": "HTMLModel",
          "state": {
            "_dom_classes": [],
            "_model_module": "@jupyter-widgets/controls",
            "_model_module_version": "1.5.0",
            "_model_name": "HTMLModel",
            "_view_count": null,
            "_view_module": "@jupyter-widgets/controls",
            "_view_module_version": "1.5.0",
            "_view_name": "HTMLView",
            "description": "",
            "description_tooltip": null,
            "layout": "IPY_MODEL_3286d8ebd2a0484dab16003cc3c78fec",
            "placeholder": "​",
            "style": "IPY_MODEL_a350cb48f8e24656b5fa5ab19b33ac9a",
            "value": " 499M/499M [00:24&lt;00:00, 27.1MB/s]"
          }
        },
        "57a0e3937342438bbd733fa61653cc42": {
          "model_module": "@jupyter-widgets/base",
          "model_module_version": "1.2.0",
          "model_name": "LayoutModel",
          "state": {
            "_model_module": "@jupyter-widgets/base",
            "_model_module_version": "1.2.0",
            "_model_name": "LayoutModel",
            "_view_count": null,
            "_view_module": "@jupyter-widgets/base",
            "_view_module_version": "1.2.0",
            "_view_name": "LayoutView",
            "align_content": null,
            "align_items": null,
            "align_self": null,
            "border": null,
            "bottom": null,
            "display": null,
            "flex": null,
            "flex_flow": null,
            "grid_area": null,
            "grid_auto_columns": null,
            "grid_auto_flow": null,
            "grid_auto_rows": null,
            "grid_column": null,
            "grid_gap": null,
            "grid_row": null,
            "grid_template_areas": null,
            "grid_template_columns": null,
            "grid_template_rows": null,
            "height": null,
            "justify_content": null,
            "justify_items": null,
            "left": null,
            "margin": null,
            "max_height": null,
            "max_width": null,
            "min_height": null,
            "min_width": null,
            "object_fit": null,
            "object_position": null,
            "order": null,
            "overflow": null,
            "overflow_x": null,
            "overflow_y": null,
            "padding": null,
            "right": null,
            "top": null,
            "visibility": null,
            "width": null
          }
        },
        "580e26994eda4bf088400e6a20aaa23d": {
          "model_module": "@jupyter-widgets/controls",
          "model_module_version": "1.5.0",
          "model_name": "HTMLModel",
          "state": {
            "_dom_classes": [],
            "_model_module": "@jupyter-widgets/controls",
            "_model_module_version": "1.5.0",
            "_model_name": "HTMLModel",
            "_view_count": null,
            "_view_module": "@jupyter-widgets/controls",
            "_view_module_version": "1.5.0",
            "_view_name": "HTMLView",
            "description": "",
            "description_tooltip": null,
            "layout": "IPY_MODEL_1a309f67dc6e47adb2572c8fb7bfd2be",
            "placeholder": "​",
            "style": "IPY_MODEL_79469e8f281740ddbb1021a57b3d5dfe",
            "value": " 899k/? [00:00&lt;00:00, 26.6MB/s]"
          }
        },
        "58c23791edaf48ac888a5f9e1679fc7e": {
          "model_module": "@jupyter-widgets/controls",
          "model_module_version": "1.5.0",
          "model_name": "DescriptionStyleModel",
          "state": {
            "_model_module": "@jupyter-widgets/controls",
            "_model_module_version": "1.5.0",
            "_model_name": "DescriptionStyleModel",
            "_view_count": null,
            "_view_module": "@jupyter-widgets/base",
            "_view_module_version": "1.2.0",
            "_view_name": "StyleView",
            "description_width": ""
          }
        },
        "6b48b209bd514f68a1bcf7e4c4bb54df": {
          "model_module": "@jupyter-widgets/controls",
          "model_module_version": "1.5.0",
          "model_name": "HTMLModel",
          "state": {
            "_dom_classes": [],
            "_model_module": "@jupyter-widgets/controls",
            "_model_module_version": "1.5.0",
            "_model_name": "HTMLModel",
            "_view_count": null,
            "_view_module": "@jupyter-widgets/controls",
            "_view_module_version": "1.5.0",
            "_view_name": "HTMLView",
            "description": "",
            "description_tooltip": null,
            "layout": "IPY_MODEL_ceeaf471298b4e0889694e2d65d527cc",
            "placeholder": "​",
            "style": "IPY_MODEL_58c23791edaf48ac888a5f9e1679fc7e",
            "value": "merges.txt: "
          }
        },
        "6b6f978656b74dad8222923b09b3f952": {
          "model_module": "@jupyter-widgets/controls",
          "model_module_version": "1.5.0",
          "model_name": "ProgressStyleModel",
          "state": {
            "_model_module": "@jupyter-widgets/controls",
            "_model_module_version": "1.5.0",
            "_model_name": "ProgressStyleModel",
            "_view_count": null,
            "_view_module": "@jupyter-widgets/base",
            "_view_module_version": "1.2.0",
            "_view_name": "StyleView",
            "bar_color": null,
            "description_width": ""
          }
        },
        "6c7f25e04a7249eeae238c291d04f660": {
          "model_module": "@jupyter-widgets/base",
          "model_module_version": "1.2.0",
          "model_name": "LayoutModel",
          "state": {
            "_model_module": "@jupyter-widgets/base",
            "_model_module_version": "1.2.0",
            "_model_name": "LayoutModel",
            "_view_count": null,
            "_view_module": "@jupyter-widgets/base",
            "_view_module_version": "1.2.0",
            "_view_name": "LayoutView",
            "align_content": null,
            "align_items": null,
            "align_self": null,
            "border": null,
            "bottom": null,
            "display": null,
            "flex": null,
            "flex_flow": null,
            "grid_area": null,
            "grid_auto_columns": null,
            "grid_auto_flow": null,
            "grid_auto_rows": null,
            "grid_column": null,
            "grid_gap": null,
            "grid_row": null,
            "grid_template_areas": null,
            "grid_template_columns": null,
            "grid_template_rows": null,
            "height": null,
            "justify_content": null,
            "justify_items": null,
            "left": null,
            "margin": null,
            "max_height": null,
            "max_width": null,
            "min_height": null,
            "min_width": null,
            "object_fit": null,
            "object_position": null,
            "order": null,
            "overflow": null,
            "overflow_x": null,
            "overflow_y": null,
            "padding": null,
            "right": null,
            "top": null,
            "visibility": null,
            "width": null
          }
        },
        "6cec86b644544147a9ab4d0c0fcdebc2": {
          "model_module": "@jupyter-widgets/base",
          "model_module_version": "1.2.0",
          "model_name": "LayoutModel",
          "state": {
            "_model_module": "@jupyter-widgets/base",
            "_model_module_version": "1.2.0",
            "_model_name": "LayoutModel",
            "_view_count": null,
            "_view_module": "@jupyter-widgets/base",
            "_view_module_version": "1.2.0",
            "_view_name": "LayoutView",
            "align_content": null,
            "align_items": null,
            "align_self": null,
            "border": null,
            "bottom": null,
            "display": null,
            "flex": null,
            "flex_flow": null,
            "grid_area": null,
            "grid_auto_columns": null,
            "grid_auto_flow": null,
            "grid_auto_rows": null,
            "grid_column": null,
            "grid_gap": null,
            "grid_row": null,
            "grid_template_areas": null,
            "grid_template_columns": null,
            "grid_template_rows": null,
            "height": null,
            "justify_content": null,
            "justify_items": null,
            "left": null,
            "margin": null,
            "max_height": null,
            "max_width": null,
            "min_height": null,
            "min_width": null,
            "object_fit": null,
            "object_position": null,
            "order": null,
            "overflow": null,
            "overflow_x": null,
            "overflow_y": null,
            "padding": null,
            "right": null,
            "top": null,
            "visibility": null,
            "width": null
          }
        },
        "6da913e57de54bbba3b9dd4b68ad013f": {
          "model_module": "@jupyter-widgets/controls",
          "model_module_version": "1.5.0",
          "model_name": "ProgressStyleModel",
          "state": {
            "_model_module": "@jupyter-widgets/controls",
            "_model_module_version": "1.5.0",
            "_model_name": "ProgressStyleModel",
            "_view_count": null,
            "_view_module": "@jupyter-widgets/base",
            "_view_module_version": "1.2.0",
            "_view_name": "StyleView",
            "bar_color": null,
            "description_width": ""
          }
        },
        "6f2e18b860714df6bab95634e9ecfa72": {
          "model_module": "@jupyter-widgets/controls",
          "model_module_version": "1.5.0",
          "model_name": "HBoxModel",
          "state": {
            "_dom_classes": [],
            "_model_module": "@jupyter-widgets/controls",
            "_model_module_version": "1.5.0",
            "_model_name": "HBoxModel",
            "_view_count": null,
            "_view_module": "@jupyter-widgets/controls",
            "_view_module_version": "1.5.0",
            "_view_name": "HBoxView",
            "box_style": "",
            "children": [
              "IPY_MODEL_c0ebafb372594b33bf48e7707727d451",
              "IPY_MODEL_ba36787805bb4b5e80fa2774d79fcde3",
              "IPY_MODEL_ad7142a63305498b8866aa389c0a2e3b"
            ],
            "layout": "IPY_MODEL_004cddf2789948f996bb37681733b122"
          }
        },
        "72faf924b434435fad7f7e3d38cd6087": {
          "model_module": "@jupyter-widgets/base",
          "model_module_version": "1.2.0",
          "model_name": "LayoutModel",
          "state": {
            "_model_module": "@jupyter-widgets/base",
            "_model_module_version": "1.2.0",
            "_model_name": "LayoutModel",
            "_view_count": null,
            "_view_module": "@jupyter-widgets/base",
            "_view_module_version": "1.2.0",
            "_view_name": "LayoutView",
            "align_content": null,
            "align_items": null,
            "align_self": null,
            "border": null,
            "bottom": null,
            "display": null,
            "flex": null,
            "flex_flow": null,
            "grid_area": null,
            "grid_auto_columns": null,
            "grid_auto_flow": null,
            "grid_auto_rows": null,
            "grid_column": null,
            "grid_gap": null,
            "grid_row": null,
            "grid_template_areas": null,
            "grid_template_columns": null,
            "grid_template_rows": null,
            "height": null,
            "justify_content": null,
            "justify_items": null,
            "left": null,
            "margin": null,
            "max_height": null,
            "max_width": null,
            "min_height": null,
            "min_width": null,
            "object_fit": null,
            "object_position": null,
            "order": null,
            "overflow": null,
            "overflow_x": null,
            "overflow_y": null,
            "padding": null,
            "right": null,
            "top": null,
            "visibility": null,
            "width": null
          }
        },
        "79469e8f281740ddbb1021a57b3d5dfe": {
          "model_module": "@jupyter-widgets/controls",
          "model_module_version": "1.5.0",
          "model_name": "DescriptionStyleModel",
          "state": {
            "_model_module": "@jupyter-widgets/controls",
            "_model_module_version": "1.5.0",
            "_model_name": "DescriptionStyleModel",
            "_view_count": null,
            "_view_module": "@jupyter-widgets/base",
            "_view_module_version": "1.2.0",
            "_view_name": "StyleView",
            "description_width": ""
          }
        },
        "7b69cbd0fb044d6e84f9801d92c64502": {
          "model_module": "@jupyter-widgets/controls",
          "model_module_version": "1.5.0",
          "model_name": "HTMLModel",
          "state": {
            "_dom_classes": [],
            "_model_module": "@jupyter-widgets/controls",
            "_model_module_version": "1.5.0",
            "_model_name": "HTMLModel",
            "_view_count": null,
            "_view_module": "@jupyter-widgets/controls",
            "_view_module_version": "1.5.0",
            "_view_name": "HTMLView",
            "description": "",
            "description_tooltip": null,
            "layout": "IPY_MODEL_21c3dfcdb81b4c229960ec4938ca16ff",
            "placeholder": "​",
            "style": "IPY_MODEL_3ab8fd8e8da14fe3bc3941ae547f0e10",
            "value": " 772/772 [00:00&lt;00:00, 83.3kB/s]"
          }
        },
        "8a9de3bbaad34554855f9ba5f173a9ee": {
          "model_module": "@jupyter-widgets/base",
          "model_module_version": "1.2.0",
          "model_name": "LayoutModel",
          "state": {
            "_model_module": "@jupyter-widgets/base",
            "_model_module_version": "1.2.0",
            "_model_name": "LayoutModel",
            "_view_count": null,
            "_view_module": "@jupyter-widgets/base",
            "_view_module_version": "1.2.0",
            "_view_name": "LayoutView",
            "align_content": null,
            "align_items": null,
            "align_self": null,
            "border": null,
            "bottom": null,
            "display": null,
            "flex": null,
            "flex_flow": null,
            "grid_area": null,
            "grid_auto_columns": null,
            "grid_auto_flow": null,
            "grid_auto_rows": null,
            "grid_column": null,
            "grid_gap": null,
            "grid_row": null,
            "grid_template_areas": null,
            "grid_template_columns": null,
            "grid_template_rows": null,
            "height": null,
            "justify_content": null,
            "justify_items": null,
            "left": null,
            "margin": null,
            "max_height": null,
            "max_width": null,
            "min_height": null,
            "min_width": null,
            "object_fit": null,
            "object_position": null,
            "order": null,
            "overflow": null,
            "overflow_x": null,
            "overflow_y": null,
            "padding": null,
            "right": null,
            "top": null,
            "visibility": null,
            "width": null
          }
        },
        "926e1b4d4854460d9782baa2b1493cf1": {
          "model_module": "@jupyter-widgets/base",
          "model_module_version": "1.2.0",
          "model_name": "LayoutModel",
          "state": {
            "_model_module": "@jupyter-widgets/base",
            "_model_module_version": "1.2.0",
            "_model_name": "LayoutModel",
            "_view_count": null,
            "_view_module": "@jupyter-widgets/base",
            "_view_module_version": "1.2.0",
            "_view_name": "LayoutView",
            "align_content": null,
            "align_items": null,
            "align_self": null,
            "border": null,
            "bottom": null,
            "display": null,
            "flex": null,
            "flex_flow": null,
            "grid_area": null,
            "grid_auto_columns": null,
            "grid_auto_flow": null,
            "grid_auto_rows": null,
            "grid_column": null,
            "grid_gap": null,
            "grid_row": null,
            "grid_template_areas": null,
            "grid_template_columns": null,
            "grid_template_rows": null,
            "height": null,
            "justify_content": null,
            "justify_items": null,
            "left": null,
            "margin": null,
            "max_height": null,
            "max_width": null,
            "min_height": null,
            "min_width": null,
            "object_fit": null,
            "object_position": null,
            "order": null,
            "overflow": null,
            "overflow_x": null,
            "overflow_y": null,
            "padding": null,
            "right": null,
            "top": null,
            "visibility": null,
            "width": null
          }
        },
        "96feb7cf864f47fb86a163200a72ef19": {
          "model_module": "@jupyter-widgets/controls",
          "model_module_version": "1.5.0",
          "model_name": "DescriptionStyleModel",
          "state": {
            "_model_module": "@jupyter-widgets/controls",
            "_model_module_version": "1.5.0",
            "_model_name": "DescriptionStyleModel",
            "_view_count": null,
            "_view_module": "@jupyter-widgets/base",
            "_view_module_version": "1.2.0",
            "_view_name": "StyleView",
            "description_width": ""
          }
        },
        "976663fa659142188d63b74073184f5b": {
          "model_module": "@jupyter-widgets/base",
          "model_module_version": "1.2.0",
          "model_name": "LayoutModel",
          "state": {
            "_model_module": "@jupyter-widgets/base",
            "_model_module_version": "1.2.0",
            "_model_name": "LayoutModel",
            "_view_count": null,
            "_view_module": "@jupyter-widgets/base",
            "_view_module_version": "1.2.0",
            "_view_name": "LayoutView",
            "align_content": null,
            "align_items": null,
            "align_self": null,
            "border": null,
            "bottom": null,
            "display": null,
            "flex": null,
            "flex_flow": null,
            "grid_area": null,
            "grid_auto_columns": null,
            "grid_auto_flow": null,
            "grid_auto_rows": null,
            "grid_column": null,
            "grid_gap": null,
            "grid_row": null,
            "grid_template_areas": null,
            "grid_template_columns": null,
            "grid_template_rows": null,
            "height": null,
            "justify_content": null,
            "justify_items": null,
            "left": null,
            "margin": null,
            "max_height": null,
            "max_width": null,
            "min_height": null,
            "min_width": null,
            "object_fit": null,
            "object_position": null,
            "order": null,
            "overflow": null,
            "overflow_x": null,
            "overflow_y": null,
            "padding": null,
            "right": null,
            "top": null,
            "visibility": null,
            "width": null
          }
        },
        "9c79f4d3646b4cb9abde168d40f5b5e4": {
          "model_module": "@jupyter-widgets/base",
          "model_module_version": "1.2.0",
          "model_name": "LayoutModel",
          "state": {
            "_model_module": "@jupyter-widgets/base",
            "_model_module_version": "1.2.0",
            "_model_name": "LayoutModel",
            "_view_count": null,
            "_view_module": "@jupyter-widgets/base",
            "_view_module_version": "1.2.0",
            "_view_name": "LayoutView",
            "align_content": null,
            "align_items": null,
            "align_self": null,
            "border": null,
            "bottom": null,
            "display": null,
            "flex": null,
            "flex_flow": null,
            "grid_area": null,
            "grid_auto_columns": null,
            "grid_auto_flow": null,
            "grid_auto_rows": null,
            "grid_column": null,
            "grid_gap": null,
            "grid_row": null,
            "grid_template_areas": null,
            "grid_template_columns": null,
            "grid_template_rows": null,
            "height": null,
            "justify_content": null,
            "justify_items": null,
            "left": null,
            "margin": null,
            "max_height": null,
            "max_width": null,
            "min_height": null,
            "min_width": null,
            "object_fit": null,
            "object_position": null,
            "order": null,
            "overflow": null,
            "overflow_x": null,
            "overflow_y": null,
            "padding": null,
            "right": null,
            "top": null,
            "visibility": null,
            "width": "20px"
          }
        },
        "9ca14600e639495cb64291d79c2e2971": {
          "model_module": "@jupyter-widgets/controls",
          "model_module_version": "1.5.0",
          "model_name": "ProgressStyleModel",
          "state": {
            "_model_module": "@jupyter-widgets/controls",
            "_model_module_version": "1.5.0",
            "_model_name": "ProgressStyleModel",
            "_view_count": null,
            "_view_module": "@jupyter-widgets/base",
            "_view_module_version": "1.2.0",
            "_view_name": "StyleView",
            "bar_color": null,
            "description_width": ""
          }
        },
        "a29b31d2ba0f4e86b77a7e0b833f3397": {
          "model_module": "@jupyter-widgets/controls",
          "model_module_version": "1.5.0",
          "model_name": "DescriptionStyleModel",
          "state": {
            "_model_module": "@jupyter-widgets/controls",
            "_model_module_version": "1.5.0",
            "_model_name": "DescriptionStyleModel",
            "_view_count": null,
            "_view_module": "@jupyter-widgets/base",
            "_view_module_version": "1.2.0",
            "_view_name": "StyleView",
            "description_width": ""
          }
        },
        "a350cb48f8e24656b5fa5ab19b33ac9a": {
          "model_module": "@jupyter-widgets/controls",
          "model_module_version": "1.5.0",
          "model_name": "DescriptionStyleModel",
          "state": {
            "_model_module": "@jupyter-widgets/controls",
            "_model_module_version": "1.5.0",
            "_model_name": "DescriptionStyleModel",
            "_view_count": null,
            "_view_module": "@jupyter-widgets/base",
            "_view_module_version": "1.2.0",
            "_view_name": "StyleView",
            "description_width": ""
          }
        },
        "a70d21bbb5134a49979802aaba56b3c2": {
          "model_module": "@jupyter-widgets/controls",
          "model_module_version": "1.5.0",
          "model_name": "ProgressStyleModel",
          "state": {
            "_model_module": "@jupyter-widgets/controls",
            "_model_module_version": "1.5.0",
            "_model_name": "ProgressStyleModel",
            "_view_count": null,
            "_view_module": "@jupyter-widgets/base",
            "_view_module_version": "1.2.0",
            "_view_name": "StyleView",
            "bar_color": null,
            "description_width": ""
          }
        },
        "a7d7f1ff25c54f0193cd9873a84ab2da": {
          "model_module": "@jupyter-widgets/controls",
          "model_module_version": "1.5.0",
          "model_name": "FloatProgressModel",
          "state": {
            "_dom_classes": [],
            "_model_module": "@jupyter-widgets/controls",
            "_model_module_version": "1.5.0",
            "_model_name": "FloatProgressModel",
            "_view_count": null,
            "_view_module": "@jupyter-widgets/controls",
            "_view_module_version": "1.5.0",
            "_view_name": "ProgressView",
            "bar_style": "success",
            "description": "",
            "description_tooltip": null,
            "layout": "IPY_MODEL_c616298f071b42bba2a7806a6c15af0b",
            "max": 1,
            "min": 0,
            "orientation": "horizontal",
            "style": "IPY_MODEL_6b6f978656b74dad8222923b09b3f952",
            "value": 1
          }
        },
        "a8abe0e6d04442059e715739821caae5": {
          "model_module": "@jupyter-widgets/base",
          "model_module_version": "1.2.0",
          "model_name": "LayoutModel",
          "state": {
            "_model_module": "@jupyter-widgets/base",
            "_model_module_version": "1.2.0",
            "_model_name": "LayoutModel",
            "_view_count": null,
            "_view_module": "@jupyter-widgets/base",
            "_view_module_version": "1.2.0",
            "_view_name": "LayoutView",
            "align_content": null,
            "align_items": null,
            "align_self": null,
            "border": null,
            "bottom": null,
            "display": null,
            "flex": null,
            "flex_flow": null,
            "grid_area": null,
            "grid_auto_columns": null,
            "grid_auto_flow": null,
            "grid_auto_rows": null,
            "grid_column": null,
            "grid_gap": null,
            "grid_row": null,
            "grid_template_areas": null,
            "grid_template_columns": null,
            "grid_template_rows": null,
            "height": null,
            "justify_content": null,
            "justify_items": null,
            "left": null,
            "margin": null,
            "max_height": null,
            "max_width": null,
            "min_height": null,
            "min_width": null,
            "object_fit": null,
            "object_position": null,
            "order": null,
            "overflow": null,
            "overflow_x": null,
            "overflow_y": null,
            "padding": null,
            "right": null,
            "top": null,
            "visibility": null,
            "width": null
          }
        },
        "aa0201e78da8458f9eb60208861ef32b": {
          "model_module": "@jupyter-widgets/controls",
          "model_module_version": "1.5.0",
          "model_name": "DescriptionStyleModel",
          "state": {
            "_model_module": "@jupyter-widgets/controls",
            "_model_module_version": "1.5.0",
            "_model_name": "DescriptionStyleModel",
            "_view_count": null,
            "_view_module": "@jupyter-widgets/base",
            "_view_module_version": "1.2.0",
            "_view_name": "StyleView",
            "description_width": ""
          }
        },
        "ac25d536a4a74b71a9682519fc70c444": {
          "model_module": "@jupyter-widgets/base",
          "model_module_version": "1.2.0",
          "model_name": "LayoutModel",
          "state": {
            "_model_module": "@jupyter-widgets/base",
            "_model_module_version": "1.2.0",
            "_model_name": "LayoutModel",
            "_view_count": null,
            "_view_module": "@jupyter-widgets/base",
            "_view_module_version": "1.2.0",
            "_view_name": "LayoutView",
            "align_content": null,
            "align_items": null,
            "align_self": null,
            "border": null,
            "bottom": null,
            "display": null,
            "flex": null,
            "flex_flow": null,
            "grid_area": null,
            "grid_auto_columns": null,
            "grid_auto_flow": null,
            "grid_auto_rows": null,
            "grid_column": null,
            "grid_gap": null,
            "grid_row": null,
            "grid_template_areas": null,
            "grid_template_columns": null,
            "grid_template_rows": null,
            "height": null,
            "justify_content": null,
            "justify_items": null,
            "left": null,
            "margin": null,
            "max_height": null,
            "max_width": null,
            "min_height": null,
            "min_width": null,
            "object_fit": null,
            "object_position": null,
            "order": null,
            "overflow": null,
            "overflow_x": null,
            "overflow_y": null,
            "padding": null,
            "right": null,
            "top": null,
            "visibility": null,
            "width": null
          }
        },
        "ac76e8fd76cc490194f64a0c9039ace2": {
          "model_module": "@jupyter-widgets/controls",
          "model_module_version": "1.5.0",
          "model_name": "ProgressStyleModel",
          "state": {
            "_model_module": "@jupyter-widgets/controls",
            "_model_module_version": "1.5.0",
            "_model_name": "ProgressStyleModel",
            "_view_count": null,
            "_view_module": "@jupyter-widgets/base",
            "_view_module_version": "1.2.0",
            "_view_name": "StyleView",
            "bar_color": null,
            "description_width": ""
          }
        },
        "ad7142a63305498b8866aa389c0a2e3b": {
          "model_module": "@jupyter-widgets/controls",
          "model_module_version": "1.5.0",
          "model_name": "HTMLModel",
          "state": {
            "_dom_classes": [],
            "_model_module": "@jupyter-widgets/controls",
            "_model_module_version": "1.5.0",
            "_model_name": "HTMLModel",
            "_view_count": null,
            "_view_module": "@jupyter-widgets/controls",
            "_view_module_version": "1.5.0",
            "_view_name": "HTMLView",
            "description": "",
            "description_tooltip": null,
            "layout": "IPY_MODEL_a8abe0e6d04442059e715739821caae5",
            "placeholder": "​",
            "style": "IPY_MODEL_412a6a6af041400ca30221ea9dc10fe5",
            "value": " 1.14k/? [00:00&lt;00:00, 104kB/s]"
          }
        },
        "ae3fd6aa420a4c0faf7eba34206091e9": {
          "model_module": "@jupyter-widgets/controls",
          "model_module_version": "1.5.0",
          "model_name": "ProgressStyleModel",
          "state": {
            "_model_module": "@jupyter-widgets/controls",
            "_model_module_version": "1.5.0",
            "_model_name": "ProgressStyleModel",
            "_view_count": null,
            "_view_module": "@jupyter-widgets/base",
            "_view_module_version": "1.2.0",
            "_view_name": "StyleView",
            "bar_color": null,
            "description_width": ""
          }
        },
        "b073eb6834bf478db3807bdd54b55d52": {
          "model_module": "@jupyter-widgets/controls",
          "model_module_version": "1.5.0",
          "model_name": "DescriptionStyleModel",
          "state": {
            "_model_module": "@jupyter-widgets/controls",
            "_model_module_version": "1.5.0",
            "_model_name": "DescriptionStyleModel",
            "_view_count": null,
            "_view_module": "@jupyter-widgets/base",
            "_view_module_version": "1.2.0",
            "_view_name": "StyleView",
            "description_width": ""
          }
        },
        "b0ef55424f054f729e6531dab3031f72": {
          "model_module": "@jupyter-widgets/controls",
          "model_module_version": "1.5.0",
          "model_name": "HTMLModel",
          "state": {
            "_dom_classes": [],
            "_model_module": "@jupyter-widgets/controls",
            "_model_module_version": "1.5.0",
            "_model_name": "HTMLModel",
            "_view_count": null,
            "_view_module": "@jupyter-widgets/controls",
            "_view_module_version": "1.5.0",
            "_view_name": "HTMLView",
            "description": "",
            "description_tooltip": null,
            "layout": "IPY_MODEL_b6d7a640035147c4b24d61ae0467b3fc",
            "placeholder": "​",
            "style": "IPY_MODEL_96feb7cf864f47fb86a163200a72ef19",
            "value": " 456k/? [00:00&lt;00:00, 30.3MB/s]"
          }
        },
        "b6d7a640035147c4b24d61ae0467b3fc": {
          "model_module": "@jupyter-widgets/base",
          "model_module_version": "1.2.0",
          "model_name": "LayoutModel",
          "state": {
            "_model_module": "@jupyter-widgets/base",
            "_model_module_version": "1.2.0",
            "_model_name": "LayoutModel",
            "_view_count": null,
            "_view_module": "@jupyter-widgets/base",
            "_view_module_version": "1.2.0",
            "_view_name": "LayoutView",
            "align_content": null,
            "align_items": null,
            "align_self": null,
            "border": null,
            "bottom": null,
            "display": null,
            "flex": null,
            "flex_flow": null,
            "grid_area": null,
            "grid_auto_columns": null,
            "grid_auto_flow": null,
            "grid_auto_rows": null,
            "grid_column": null,
            "grid_gap": null,
            "grid_row": null,
            "grid_template_areas": null,
            "grid_template_columns": null,
            "grid_template_rows": null,
            "height": null,
            "justify_content": null,
            "justify_items": null,
            "left": null,
            "margin": null,
            "max_height": null,
            "max_width": null,
            "min_height": null,
            "min_width": null,
            "object_fit": null,
            "object_position": null,
            "order": null,
            "overflow": null,
            "overflow_x": null,
            "overflow_y": null,
            "padding": null,
            "right": null,
            "top": null,
            "visibility": null,
            "width": null
          }
        },
        "b6d96e68000e40ed8e47b3cc3b4c5b38": {
          "model_module": "@jupyter-widgets/controls",
          "model_module_version": "1.5.0",
          "model_name": "HBoxModel",
          "state": {
            "_dom_classes": [],
            "_model_module": "@jupyter-widgets/controls",
            "_model_module_version": "1.5.0",
            "_model_name": "HBoxModel",
            "_view_count": null,
            "_view_module": "@jupyter-widgets/controls",
            "_view_module_version": "1.5.0",
            "_view_name": "HBoxView",
            "box_style": "",
            "children": [
              "IPY_MODEL_ba4d2f868fbb4591911a572a1acf2779",
              "IPY_MODEL_d63758a9b22141ae91d01d1418cac302",
              "IPY_MODEL_bcda4bb3626e411c81ce2f93c69e7177"
            ],
            "layout": "IPY_MODEL_57a0e3937342438bbd733fa61653cc42"
          }
        },
        "ba36787805bb4b5e80fa2774d79fcde3": {
          "model_module": "@jupyter-widgets/controls",
          "model_module_version": "1.5.0",
          "model_name": "FloatProgressModel",
          "state": {
            "_dom_classes": [],
            "_model_module": "@jupyter-widgets/controls",
            "_model_module_version": "1.5.0",
            "_model_name": "FloatProgressModel",
            "_view_count": null,
            "_view_module": "@jupyter-widgets/controls",
            "_view_module_version": "1.5.0",
            "_view_name": "ProgressView",
            "bar_style": "success",
            "description": "",
            "description_tooltip": null,
            "layout": "IPY_MODEL_9c79f4d3646b4cb9abde168d40f5b5e4",
            "max": 1,
            "min": 0,
            "orientation": "horizontal",
            "style": "IPY_MODEL_a70d21bbb5134a49979802aaba56b3c2",
            "value": 1
          }
        },
        "ba4d2f868fbb4591911a572a1acf2779": {
          "model_module": "@jupyter-widgets/controls",
          "model_module_version": "1.5.0",
          "model_name": "HTMLModel",
          "state": {
            "_dom_classes": [],
            "_model_module": "@jupyter-widgets/controls",
            "_model_module_version": "1.5.0",
            "_model_name": "HTMLModel",
            "_view_count": null,
            "_view_module": "@jupyter-widgets/controls",
            "_view_module_version": "1.5.0",
            "_view_name": "HTMLView",
            "description": "",
            "description_tooltip": null,
            "layout": "IPY_MODEL_72faf924b434435fad7f7e3d38cd6087",
            "placeholder": "​",
            "style": "IPY_MODEL_aa0201e78da8458f9eb60208861ef32b",
            "value": "pytorch_model.bin: 100%"
          }
        },
        "bb7abc906a1c445c85f48ff7fbb032a2": {
          "model_module": "@jupyter-widgets/base",
          "model_module_version": "1.2.0",
          "model_name": "LayoutModel",
          "state": {
            "_model_module": "@jupyter-widgets/base",
            "_model_module_version": "1.2.0",
            "_model_name": "LayoutModel",
            "_view_count": null,
            "_view_module": "@jupyter-widgets/base",
            "_view_module_version": "1.2.0",
            "_view_name": "LayoutView",
            "align_content": null,
            "align_items": null,
            "align_self": null,
            "border": null,
            "bottom": null,
            "display": null,
            "flex": null,
            "flex_flow": null,
            "grid_area": null,
            "grid_auto_columns": null,
            "grid_auto_flow": null,
            "grid_auto_rows": null,
            "grid_column": null,
            "grid_gap": null,
            "grid_row": null,
            "grid_template_areas": null,
            "grid_template_columns": null,
            "grid_template_rows": null,
            "height": null,
            "justify_content": null,
            "justify_items": null,
            "left": null,
            "margin": null,
            "max_height": null,
            "max_width": null,
            "min_height": null,
            "min_width": null,
            "object_fit": null,
            "object_position": null,
            "order": null,
            "overflow": null,
            "overflow_x": null,
            "overflow_y": null,
            "padding": null,
            "right": null,
            "top": null,
            "visibility": null,
            "width": null
          }
        },
        "bcda4bb3626e411c81ce2f93c69e7177": {
          "model_module": "@jupyter-widgets/controls",
          "model_module_version": "1.5.0",
          "model_name": "HTMLModel",
          "state": {
            "_dom_classes": [],
            "_model_module": "@jupyter-widgets/controls",
            "_model_module_version": "1.5.0",
            "_model_name": "HTMLModel",
            "_view_count": null,
            "_view_module": "@jupyter-widgets/controls",
            "_view_module_version": "1.5.0",
            "_view_name": "HTMLView",
            "description": "",
            "description_tooltip": null,
            "layout": "IPY_MODEL_d88833d1fff647c6a481f03778923b33",
            "placeholder": "​",
            "style": "IPY_MODEL_df1242fd9bb14f509aa0ecd11bd1a0ef",
            "value": " 499M/499M [00:08&lt;00:00, 48.0MB/s]"
          }
        },
        "c092584005df49e289123d5e171e4cdb": {
          "model_module": "@jupyter-widgets/base",
          "model_module_version": "1.2.0",
          "model_name": "LayoutModel",
          "state": {
            "_model_module": "@jupyter-widgets/base",
            "_model_module_version": "1.2.0",
            "_model_name": "LayoutModel",
            "_view_count": null,
            "_view_module": "@jupyter-widgets/base",
            "_view_module_version": "1.2.0",
            "_view_name": "LayoutView",
            "align_content": null,
            "align_items": null,
            "align_self": null,
            "border": null,
            "bottom": null,
            "display": null,
            "flex": null,
            "flex_flow": null,
            "grid_area": null,
            "grid_auto_columns": null,
            "grid_auto_flow": null,
            "grid_auto_rows": null,
            "grid_column": null,
            "grid_gap": null,
            "grid_row": null,
            "grid_template_areas": null,
            "grid_template_columns": null,
            "grid_template_rows": null,
            "height": null,
            "justify_content": null,
            "justify_items": null,
            "left": null,
            "margin": null,
            "max_height": null,
            "max_width": null,
            "min_height": null,
            "min_width": null,
            "object_fit": null,
            "object_position": null,
            "order": null,
            "overflow": null,
            "overflow_x": null,
            "overflow_y": null,
            "padding": null,
            "right": null,
            "top": null,
            "visibility": null,
            "width": null
          }
        },
        "c0ebafb372594b33bf48e7707727d451": {
          "model_module": "@jupyter-widgets/controls",
          "model_module_version": "1.5.0",
          "model_name": "HTMLModel",
          "state": {
            "_dom_classes": [],
            "_model_module": "@jupyter-widgets/controls",
            "_model_module_version": "1.5.0",
            "_model_name": "HTMLModel",
            "_view_count": null,
            "_view_module": "@jupyter-widgets/controls",
            "_view_module_version": "1.5.0",
            "_view_name": "HTMLView",
            "description": "",
            "description_tooltip": null,
            "layout": "IPY_MODEL_6cec86b644544147a9ab4d0c0fcdebc2",
            "placeholder": "​",
            "style": "IPY_MODEL_b073eb6834bf478db3807bdd54b55d52",
            "value": "tokenizer_config.json: "
          }
        },
        "c14e583c58464f72a15b7174300577c6": {
          "model_module": "@jupyter-widgets/controls",
          "model_module_version": "1.5.0",
          "model_name": "HBoxModel",
          "state": {
            "_dom_classes": [],
            "_model_module": "@jupyter-widgets/controls",
            "_model_module_version": "1.5.0",
            "_model_name": "HBoxModel",
            "_view_count": null,
            "_view_module": "@jupyter-widgets/controls",
            "_view_module_version": "1.5.0",
            "_view_name": "HBoxView",
            "box_style": "",
            "children": [
              "IPY_MODEL_0bd30361913b4a858e760ce2d88f7a1f",
              "IPY_MODEL_c8b3d7171f4d4cf2baf4df2e9be7f180",
              "IPY_MODEL_4c2da00590e7403f87c510e661909533"
            ],
            "layout": "IPY_MODEL_c7004aa9ce17491383be35fc7759fd6e"
          }
        },
        "c616298f071b42bba2a7806a6c15af0b": {
          "model_module": "@jupyter-widgets/base",
          "model_module_version": "1.2.0",
          "model_name": "LayoutModel",
          "state": {
            "_model_module": "@jupyter-widgets/base",
            "_model_module_version": "1.2.0",
            "_model_name": "LayoutModel",
            "_view_count": null,
            "_view_module": "@jupyter-widgets/base",
            "_view_module_version": "1.2.0",
            "_view_name": "LayoutView",
            "align_content": null,
            "align_items": null,
            "align_self": null,
            "border": null,
            "bottom": null,
            "display": null,
            "flex": null,
            "flex_flow": null,
            "grid_area": null,
            "grid_auto_columns": null,
            "grid_auto_flow": null,
            "grid_auto_rows": null,
            "grid_column": null,
            "grid_gap": null,
            "grid_row": null,
            "grid_template_areas": null,
            "grid_template_columns": null,
            "grid_template_rows": null,
            "height": null,
            "justify_content": null,
            "justify_items": null,
            "left": null,
            "margin": null,
            "max_height": null,
            "max_width": null,
            "min_height": null,
            "min_width": null,
            "object_fit": null,
            "object_position": null,
            "order": null,
            "overflow": null,
            "overflow_x": null,
            "overflow_y": null,
            "padding": null,
            "right": null,
            "top": null,
            "visibility": null,
            "width": "20px"
          }
        },
        "c7004aa9ce17491383be35fc7759fd6e": {
          "model_module": "@jupyter-widgets/base",
          "model_module_version": "1.2.0",
          "model_name": "LayoutModel",
          "state": {
            "_model_module": "@jupyter-widgets/base",
            "_model_module_version": "1.2.0",
            "_model_name": "LayoutModel",
            "_view_count": null,
            "_view_module": "@jupyter-widgets/base",
            "_view_module_version": "1.2.0",
            "_view_name": "LayoutView",
            "align_content": null,
            "align_items": null,
            "align_self": null,
            "border": null,
            "bottom": null,
            "display": null,
            "flex": null,
            "flex_flow": null,
            "grid_area": null,
            "grid_auto_columns": null,
            "grid_auto_flow": null,
            "grid_auto_rows": null,
            "grid_column": null,
            "grid_gap": null,
            "grid_row": null,
            "grid_template_areas": null,
            "grid_template_columns": null,
            "grid_template_rows": null,
            "height": null,
            "justify_content": null,
            "justify_items": null,
            "left": null,
            "margin": null,
            "max_height": null,
            "max_width": null,
            "min_height": null,
            "min_width": null,
            "object_fit": null,
            "object_position": null,
            "order": null,
            "overflow": null,
            "overflow_x": null,
            "overflow_y": null,
            "padding": null,
            "right": null,
            "top": null,
            "visibility": null,
            "width": null
          }
        },
        "c8b3d7171f4d4cf2baf4df2e9be7f180": {
          "model_module": "@jupyter-widgets/controls",
          "model_module_version": "1.5.0",
          "model_name": "FloatProgressModel",
          "state": {
            "_dom_classes": [],
            "_model_module": "@jupyter-widgets/controls",
            "_model_module_version": "1.5.0",
            "_model_name": "FloatProgressModel",
            "_view_count": null,
            "_view_module": "@jupyter-widgets/controls",
            "_view_module_version": "1.5.0",
            "_view_name": "ProgressView",
            "bar_style": "success",
            "description": "",
            "description_tooltip": null,
            "layout": "IPY_MODEL_6c7f25e04a7249eeae238c291d04f660",
            "max": 498617024,
            "min": 0,
            "orientation": "horizontal",
            "style": "IPY_MODEL_9ca14600e639495cb64291d79c2e2971",
            "value": 498617024
          }
        },
        "ceeaf471298b4e0889694e2d65d527cc": {
          "model_module": "@jupyter-widgets/base",
          "model_module_version": "1.2.0",
          "model_name": "LayoutModel",
          "state": {
            "_model_module": "@jupyter-widgets/base",
            "_model_module_version": "1.2.0",
            "_model_name": "LayoutModel",
            "_view_count": null,
            "_view_module": "@jupyter-widgets/base",
            "_view_module_version": "1.2.0",
            "_view_name": "LayoutView",
            "align_content": null,
            "align_items": null,
            "align_self": null,
            "border": null,
            "bottom": null,
            "display": null,
            "flex": null,
            "flex_flow": null,
            "grid_area": null,
            "grid_auto_columns": null,
            "grid_auto_flow": null,
            "grid_auto_rows": null,
            "grid_column": null,
            "grid_gap": null,
            "grid_row": null,
            "grid_template_areas": null,
            "grid_template_columns": null,
            "grid_template_rows": null,
            "height": null,
            "justify_content": null,
            "justify_items": null,
            "left": null,
            "margin": null,
            "max_height": null,
            "max_width": null,
            "min_height": null,
            "min_width": null,
            "object_fit": null,
            "object_position": null,
            "order": null,
            "overflow": null,
            "overflow_x": null,
            "overflow_y": null,
            "padding": null,
            "right": null,
            "top": null,
            "visibility": null,
            "width": null
          }
        },
        "d3d70a1a4dd740c298c7f1506cee62de": {
          "model_module": "@jupyter-widgets/controls",
          "model_module_version": "1.5.0",
          "model_name": "HBoxModel",
          "state": {
            "_dom_classes": [],
            "_model_module": "@jupyter-widgets/controls",
            "_model_module_version": "1.5.0",
            "_model_name": "HBoxModel",
            "_view_count": null,
            "_view_module": "@jupyter-widgets/controls",
            "_view_module_version": "1.5.0",
            "_view_name": "HBoxView",
            "box_style": "",
            "children": [
              "IPY_MODEL_f4483ad4eedf46fe8d65386bf87fbd8e",
              "IPY_MODEL_3df1415729e34aa5b31d4d5ffcd0e089",
              "IPY_MODEL_7b69cbd0fb044d6e84f9801d92c64502"
            ],
            "layout": "IPY_MODEL_ac25d536a4a74b71a9682519fc70c444"
          }
        },
        "d63758a9b22141ae91d01d1418cac302": {
          "model_module": "@jupyter-widgets/controls",
          "model_module_version": "1.5.0",
          "model_name": "FloatProgressModel",
          "state": {
            "_dom_classes": [],
            "_model_module": "@jupyter-widgets/controls",
            "_model_module_version": "1.5.0",
            "_model_name": "FloatProgressModel",
            "_view_count": null,
            "_view_module": "@jupyter-widgets/controls",
            "_view_module_version": "1.5.0",
            "_view_name": "ProgressView",
            "bar_style": "success",
            "description": "",
            "description_tooltip": null,
            "layout": "IPY_MODEL_926e1b4d4854460d9782baa2b1493cf1",
            "max": 498657517,
            "min": 0,
            "orientation": "horizontal",
            "style": "IPY_MODEL_ac76e8fd76cc490194f64a0c9039ace2",
            "value": 498657517
          }
        },
        "d88833d1fff647c6a481f03778923b33": {
          "model_module": "@jupyter-widgets/base",
          "model_module_version": "1.2.0",
          "model_name": "LayoutModel",
          "state": {
            "_model_module": "@jupyter-widgets/base",
            "_model_module_version": "1.2.0",
            "_model_name": "LayoutModel",
            "_view_count": null,
            "_view_module": "@jupyter-widgets/base",
            "_view_module_version": "1.2.0",
            "_view_name": "LayoutView",
            "align_content": null,
            "align_items": null,
            "align_self": null,
            "border": null,
            "bottom": null,
            "display": null,
            "flex": null,
            "flex_flow": null,
            "grid_area": null,
            "grid_auto_columns": null,
            "grid_auto_flow": null,
            "grid_auto_rows": null,
            "grid_column": null,
            "grid_gap": null,
            "grid_row": null,
            "grid_template_areas": null,
            "grid_template_columns": null,
            "grid_template_rows": null,
            "height": null,
            "justify_content": null,
            "justify_items": null,
            "left": null,
            "margin": null,
            "max_height": null,
            "max_width": null,
            "min_height": null,
            "min_width": null,
            "object_fit": null,
            "object_position": null,
            "order": null,
            "overflow": null,
            "overflow_x": null,
            "overflow_y": null,
            "padding": null,
            "right": null,
            "top": null,
            "visibility": null,
            "width": null
          }
        },
        "d99f2ac5fa55458e823cb408b1e57305": {
          "model_module": "@jupyter-widgets/controls",
          "model_module_version": "1.5.0",
          "model_name": "HBoxModel",
          "state": {
            "_dom_classes": [],
            "_model_module": "@jupyter-widgets/controls",
            "_model_module_version": "1.5.0",
            "_model_name": "HBoxModel",
            "_view_count": null,
            "_view_module": "@jupyter-widgets/controls",
            "_view_module_version": "1.5.0",
            "_view_name": "HBoxView",
            "box_style": "",
            "children": [
              "IPY_MODEL_6b48b209bd514f68a1bcf7e4c4bb54df",
              "IPY_MODEL_a7d7f1ff25c54f0193cd9873a84ab2da",
              "IPY_MODEL_b0ef55424f054f729e6531dab3031f72"
            ],
            "layout": "IPY_MODEL_8a9de3bbaad34554855f9ba5f173a9ee"
          }
        },
        "dc857b38207f4c9daf713000d10182fa": {
          "model_module": "@jupyter-widgets/base",
          "model_module_version": "1.2.0",
          "model_name": "LayoutModel",
          "state": {
            "_model_module": "@jupyter-widgets/base",
            "_model_module_version": "1.2.0",
            "_model_name": "LayoutModel",
            "_view_count": null,
            "_view_module": "@jupyter-widgets/base",
            "_view_module_version": "1.2.0",
            "_view_name": "LayoutView",
            "align_content": null,
            "align_items": null,
            "align_self": null,
            "border": null,
            "bottom": null,
            "display": null,
            "flex": null,
            "flex_flow": null,
            "grid_area": null,
            "grid_auto_columns": null,
            "grid_auto_flow": null,
            "grid_auto_rows": null,
            "grid_column": null,
            "grid_gap": null,
            "grid_row": null,
            "grid_template_areas": null,
            "grid_template_columns": null,
            "grid_template_rows": null,
            "height": null,
            "justify_content": null,
            "justify_items": null,
            "left": null,
            "margin": null,
            "max_height": null,
            "max_width": null,
            "min_height": null,
            "min_width": null,
            "object_fit": null,
            "object_position": null,
            "order": null,
            "overflow": null,
            "overflow_x": null,
            "overflow_y": null,
            "padding": null,
            "right": null,
            "top": null,
            "visibility": null,
            "width": null
          }
        },
        "df1242fd9bb14f509aa0ecd11bd1a0ef": {
          "model_module": "@jupyter-widgets/controls",
          "model_module_version": "1.5.0",
          "model_name": "DescriptionStyleModel",
          "state": {
            "_model_module": "@jupyter-widgets/controls",
            "_model_module_version": "1.5.0",
            "_model_name": "DescriptionStyleModel",
            "_view_count": null,
            "_view_module": "@jupyter-widgets/base",
            "_view_module_version": "1.2.0",
            "_view_name": "StyleView",
            "description_width": ""
          }
        },
        "f4483ad4eedf46fe8d65386bf87fbd8e": {
          "model_module": "@jupyter-widgets/controls",
          "model_module_version": "1.5.0",
          "model_name": "HTMLModel",
          "state": {
            "_dom_classes": [],
            "_model_module": "@jupyter-widgets/controls",
            "_model_module_version": "1.5.0",
            "_model_name": "HTMLModel",
            "_view_count": null,
            "_view_module": "@jupyter-widgets/controls",
            "_view_module_version": "1.5.0",
            "_view_name": "HTMLView",
            "description": "",
            "description_tooltip": null,
            "layout": "IPY_MODEL_976663fa659142188d63b74073184f5b",
            "placeholder": "​",
            "style": "IPY_MODEL_037f12f343cb44c18e9d4ce9463c2536",
            "value": "special_tokens_map.json: 100%"
          }
        },
        "fbc17aa2046e4054967a268157b8f9db": {
          "model_module": "@jupyter-widgets/controls",
          "model_module_version": "1.5.0",
          "model_name": "DescriptionStyleModel",
          "state": {
            "_model_module": "@jupyter-widgets/controls",
            "_model_module_version": "1.5.0",
            "_model_name": "DescriptionStyleModel",
            "_view_count": null,
            "_view_module": "@jupyter-widgets/base",
            "_view_module_version": "1.2.0",
            "_view_name": "StyleView",
            "description_width": ""
          }
        },
        "fbf4b13256a24785aaec949dcf269faa": {
          "model_module": "@jupyter-widgets/controls",
          "model_module_version": "1.5.0",
          "model_name": "DescriptionStyleModel",
          "state": {
            "_model_module": "@jupyter-widgets/controls",
            "_model_module_version": "1.5.0",
            "_model_name": "DescriptionStyleModel",
            "_view_count": null,
            "_view_module": "@jupyter-widgets/base",
            "_view_module_version": "1.2.0",
            "_view_name": "StyleView",
            "description_width": ""
          }
        }
      }
    }
  },
  "nbformat": 4,
  "nbformat_minor": 5
}
